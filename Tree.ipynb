{
 "cells": [
  {
   "cell_type": "code",
   "execution_count": 1,
   "metadata": {
    "ExecuteTime": {
     "end_time": "2019-02-25T07:54:53.307509Z",
     "start_time": "2019-02-25T07:54:53.270469Z"
    }
   },
   "outputs": [],
   "source": [
    "class BinaryTree:\n",
    "    def __init__(self, root):\n",
    "        self.key = root\n",
    "        self.left = None\n",
    "        self.right = None\n",
    "    \n",
    "    def InsertLeft(self, newnode):\n",
    "        if self.left == None:\n",
    "            self.left = BinaryTree(newnode)\n",
    "        else:\n",
    "            t = BinaryTree(newnode)\n",
    "            t.left = self.left\n",
    "            self.left = t\n",
    "            \n",
    "    def InsertRight(self, newnode):\n",
    "        if self.right == None:\n",
    "            self.right = BinaryTree(newnode)\n",
    "        else:\n",
    "            t = BinaryTree(newnode)\n",
    "            t.right = self.right\n",
    "            self.right = t\n",
    "            \n",
    "    def getLeft(self):\n",
    "        return self.left\n",
    "\n",
    "    def getRight(self):\n",
    "        return self.right\n",
    "    \n",
    "    def setRootVal(self, value):\n",
    "        self.key = value\n",
    "        \n",
    "    def getRootVal(self):\n",
    "        return self.key\n",
    "\n",
    "    "
   ]
  },
  {
   "cell_type": "code",
   "execution_count": 3,
   "metadata": {
    "ExecuteTime": {
     "end_time": "2019-02-24T19:39:10.943915Z",
     "start_time": "2019-02-24T19:39:10.939057Z"
    }
   },
   "outputs": [
    {
     "name": "stdout",
     "output_type": "stream",
     "text": [
      "a\n",
      "None\n",
      "<__main__.BinaryTree object at 0x7fdccb735b70>\n",
      "b\n",
      "<__main__.BinaryTree object at 0x7fdccb735be0>\n",
      "c\n",
      "hello\n"
     ]
    }
   ],
   "source": [
    "\n",
    "r = BinaryTree('a')\n",
    "print(r.getRootVal())\n",
    "print(r.getLeft())\n",
    "r.InsertLeft('b')\n",
    "print(r.getLeft())\n",
    "print(r.getLeft().getRootVal())\n",
    "r.InsertRight('c')\n",
    "print(r.getRight())\n",
    "print(r.getRight().getRootVal())\n",
    "r.getRight().setRootVal('hello')\n",
    "print(r.getRight().getRootVal())"
   ]
  },
  {
   "cell_type": "code",
   "execution_count": 4,
   "metadata": {
    "ExecuteTime": {
     "end_time": "2019-02-24T19:39:11.329245Z",
     "start_time": "2019-02-24T19:39:11.315863Z"
    }
   },
   "outputs": [],
   "source": [
    "def parse(alist):\n",
    "    alist = alist.split()\n",
    "    node = BinaryTree('')\n",
    "    root = node\n",
    "    stack = [root]\n",
    "    for a in alist:\n",
    "        if a == '(':\n",
    "            root.InsertLeft('')\n",
    "            stack.append(root)\n",
    "            root = root.getLeft()\n",
    "        elif a not in ['+', '-', '*', '/', ')']:\n",
    "            root.setRootVal(int(a))\n",
    "            root = stack.pop()\n",
    "            \n",
    "        elif a in ['+', '-', '*', '/']:\n",
    "            root.setRootVal(a)\n",
    "            root.InsertRight('')\n",
    "            stack.append(root)\n",
    "            root = root.getRight()\n",
    "        else:\n",
    "            root = stack.pop()\n",
    "    return node\n"
   ]
  },
  {
   "cell_type": "code",
   "execution_count": 5,
   "metadata": {
    "ExecuteTime": {
     "end_time": "2019-02-24T19:39:12.123192Z",
     "start_time": "2019-02-24T19:39:12.113689Z"
    }
   },
   "outputs": [],
   "source": [
    "pt = parse(\"( ( 10 + 5 ) * 3 )\")"
   ]
  },
  {
   "cell_type": "code",
   "execution_count": 6,
   "metadata": {
    "ExecuteTime": {
     "end_time": "2019-02-24T19:39:13.287990Z",
     "start_time": "2019-02-24T19:39:13.253865Z"
    }
   },
   "outputs": [
    {
     "data": {
      "text/plain": [
       "<__main__.BinaryTree at 0x7fdccb735f60>"
      ]
     },
     "execution_count": 6,
     "metadata": {},
     "output_type": "execute_result"
    }
   ],
   "source": [
    "pt"
   ]
  },
  {
   "cell_type": "code",
   "execution_count": 30,
   "metadata": {
    "ExecuteTime": {
     "end_time": "2019-02-24T19:20:45.812827Z",
     "start_time": "2019-02-24T19:20:45.803915Z"
    }
   },
   "outputs": [],
   "source": [
    "def evaluate(root):\n",
    "    import operator\n",
    "    oper = {'+': operator.add, '-': operator.sub, \n",
    "            '*':operator.mul, '/':operator.truediv}\n",
    "    left = root.getLeft()\n",
    "    right = root.getRight()\n",
    "    if left and right:\n",
    "        operation = oper[root.getRootVal()]\n",
    "        return operation(evaluate(left), evaluate(right))\n",
    "    else:\n",
    "        return root.getRootVal()"
   ]
  },
  {
   "cell_type": "code",
   "execution_count": 31,
   "metadata": {
    "ExecuteTime": {
     "end_time": "2019-02-24T19:20:46.066877Z",
     "start_time": "2019-02-24T19:20:46.059268Z"
    }
   },
   "outputs": [
    {
     "data": {
      "text/plain": [
       "45"
      ]
     },
     "execution_count": 31,
     "metadata": {},
     "output_type": "execute_result"
    }
   ],
   "source": [
    "evaluate(pt)"
   ]
  },
  {
   "cell_type": "code",
   "execution_count": 9,
   "metadata": {
    "ExecuteTime": {
     "end_time": "2019-02-24T19:39:31.931716Z",
     "start_time": "2019-02-24T19:39:31.918247Z"
    }
   },
   "outputs": [],
   "source": [
    "def preorder(root):\n",
    "    if root != None:\n",
    "        print(root.getRootVal())\n",
    "        preorder(root.getLeft())\n",
    "        preorder(root.getRight())\n"
   ]
  },
  {
   "cell_type": "code",
   "execution_count": 10,
   "metadata": {
    "ExecuteTime": {
     "end_time": "2019-02-24T19:39:32.405610Z",
     "start_time": "2019-02-24T19:39:32.398953Z"
    }
   },
   "outputs": [
    {
     "name": "stdout",
     "output_type": "stream",
     "text": [
      "*\n",
      "+\n",
      "10\n",
      "5\n",
      "3\n"
     ]
    }
   ],
   "source": [
    "preorder(pt)"
   ]
  },
  {
   "cell_type": "code",
   "execution_count": 16,
   "metadata": {
    "ExecuteTime": {
     "end_time": "2019-02-24T19:45:17.686978Z",
     "start_time": "2019-02-24T19:45:17.673363Z"
    }
   },
   "outputs": [],
   "source": [
    "def inorder(root):\n",
    "    if root != None:\n",
    "        inorder(root.getLeft())\n",
    "        print(root.getRootVal())\n",
    "        inorder(root.getRight())"
   ]
  },
  {
   "cell_type": "code",
   "execution_count": 17,
   "metadata": {
    "ExecuteTime": {
     "end_time": "2019-02-24T19:45:17.992576Z",
     "start_time": "2019-02-24T19:45:17.971876Z"
    }
   },
   "outputs": [
    {
     "name": "stdout",
     "output_type": "stream",
     "text": [
      "10\n",
      "+\n",
      "5\n",
      "*\n",
      "3\n"
     ]
    }
   ],
   "source": [
    "inorder(pt)"
   ]
  },
  {
   "cell_type": "code",
   "execution_count": 18,
   "metadata": {
    "ExecuteTime": {
     "end_time": "2019-02-24T19:45:21.725503Z",
     "start_time": "2019-02-24T19:45:21.723170Z"
    }
   },
   "outputs": [],
   "source": [
    "def postorder(root):\n",
    "    if root != None:\n",
    "        postorder(root.getLeft())\n",
    "        postorder(root.getRight())\n",
    "        print(root.getRootVal())"
   ]
  },
  {
   "cell_type": "code",
   "execution_count": 19,
   "metadata": {
    "ExecuteTime": {
     "end_time": "2019-02-24T19:45:22.217880Z",
     "start_time": "2019-02-24T19:45:22.203806Z"
    }
   },
   "outputs": [
    {
     "name": "stdout",
     "output_type": "stream",
     "text": [
      "10\n",
      "5\n",
      "+\n",
      "3\n",
      "*\n"
     ]
    }
   ],
   "source": [
    "postorder(pt)"
   ]
  },
  {
   "cell_type": "markdown",
   "metadata": {},
   "source": [
    "# Binary Heap"
   ]
  },
  {
   "cell_type": "code",
   "execution_count": 21,
   "metadata": {
    "ExecuteTime": {
     "end_time": "2019-02-24T23:23:31.656857Z",
     "start_time": "2019-02-24T23:23:31.647920Z"
    }
   },
   "outputs": [],
   "source": [
    "class binaryHeap:\n",
    "    def __init__(self):\n",
    "        self.heap = [0]\n",
    "        self.currentsize = 0\n",
    "    def percup(self, size):\n",
    "        while size//2 > 0:\n",
    "            if self.head[size] < self.head[size//2]:\n",
    "                temp = self.head[size]\n",
    "                self.head[size] = self.head[size//2]\n",
    "                self.head[size//2] = temp\n",
    "            size = size//2\n",
    "    def insert(self, item):\n",
    "        self.heap.append(item)\n",
    "        self.currentsize = self.currentsize + 1\n",
    "        self.precup(self.currentsize)\n",
    "        \n",
    "    def delmin(self):\n",
    "        self.heap[1] = self.heap[self.currentsize]\n",
    "        self.currentsize = self.currentsize - 1\n",
    "        self.heap.pop()\n",
    "        x = 1\n",
    "        while 2*x <= self.currentsize:\n",
    "            if self.heap[x] > self.heap[2*x] and self.heap[2*x] < self.heap[2*x+1]:\n",
    "                temp = self.heap[x]\n",
    "                self.heap[x] = slf.heap[2*x]\n",
    "                self.heap[2*x] = temp\n",
    "                x = 2*x\n",
    "            elif self.heap[x] > self.heap[2*x + 1] and self.heap[2*x] > self.heap[2*x+1]:\n",
    "                temp = self.heap[x]\n",
    "                self.heap[x] = slf.heap[2*x+1]\n",
    "                self.heap[2*x+1] = temp\n",
    "                x = 2*x + 1\n",
    "            else: break\n",
    "    def buildheap(self, alist):\n",
    "        first, alist = [0], alist[1:]\n",
    "        "
   ]
  },
  {
   "cell_type": "markdown",
   "metadata": {},
   "source": [
    "# Binary Search Tree"
   ]
  },
  {
   "cell_type": "code",
   "execution_count": 2,
   "metadata": {
    "ExecuteTime": {
     "end_time": "2019-02-25T08:08:41.003000Z",
     "start_time": "2019-02-25T08:08:40.986548Z"
    }
   },
   "outputs": [],
   "source": [
    "class TreeNode:\n",
    "    def __init__(self, key, val, left = None, right = None, parent = None):\n",
    "        self.key = key\n",
    "        self.payload = val\n",
    "        self.left = left\n",
    "        self.right = right\n",
    "        self.parent = parent\n",
    "    \n",
    "    def haschildleft(self):\n",
    "        return self.left\n",
    "    \n",
    "    def haschildright(self):\n",
    "        return self.right\n",
    "    \n",
    "    def isleftchild(self):\n",
    "        return self.parent and self.parent.left == self\n",
    "    \n",
    "    def isrightchild(self):\n",
    "        return self.parent and self.parent.right == self\n",
    "    \n",
    "    def isRoot(self):\n",
    "        return not self.parent\n",
    "    \n",
    "    def isLeaf(self):\n",
    "        return not (self.left or self.right)\n",
    "    \n",
    "    def hasAnyChildren(self):\n",
    "        return self.left or self.right\n",
    "    \n",
    "    def hasbothchildren(self):\n",
    "        return self.left and self.right\n",
    "    \n",
    "    def replaceNodeData(self, key, value, lc, rc):\n",
    "        self.key = key\n",
    "        self.payload = value\n",
    "        self.right = rc\n",
    "        self.left = left\n",
    "        if self.haschildleft():\n",
    "            self.leftchild.parent = self\n",
    "        if self.haschildright():\n",
    "            self.rightchild = self\n",
    "        "
   ]
  },
  {
   "cell_type": "code",
   "execution_count": 3,
   "metadata": {
    "ExecuteTime": {
     "end_time": "2019-02-25T08:10:06.857862Z",
     "start_time": "2019-02-25T08:10:06.853091Z"
    }
   },
   "outputs": [],
   "source": [
    "class binarySearchTree:\n",
    "    def __init__(self):\n",
    "        self.root = None\n",
    "        self.size = 0\n",
    "    \n",
    "    def length(self):\n",
    "        return self.size\n",
    "    \n",
    "    def __len__(self):\n",
    "        return self.size\n",
    "    \n",
    "    def __iter__(self):\n",
    "        return self.root.__iter__()\n",
    "    \n",
    "    def put(self, key, val):\n",
    "        if self.root:\n",
    "            self._put(key, val, self.root)\n",
    "        else:\n",
    "            self.root = TreeNode(key, val)\n",
    "        self.size = self.size + 1\n",
    "    \n",
    "    def _put(self, key, val, currentNode):\n",
    "        if key < currentNode:\n",
    "            if currentNode.hasleftchild():\n",
    "                self._put(key, val, currentNode.left)\n",
    "            else:\n",
    "                currentNode.left = TreeNode(key, val, parent = currentNode)\n",
    "        else:\n",
    "            if currentNode.hasrightchild():\n",
    "                self._put(key, val, currentNode.right)\n",
    "            else:\n",
    "                currentNode.right = TreeNode(key, val, parent = currentNode)\n",
    "                \n",
    "    def __setitem__(self,  k, v):\n",
    "        self.put(k, v)\n",
    "        \n",
    "    def get(self, item):\n",
    "        if self.root:\n",
    "            res = self._get(item, self.root)\n",
    "            if res:\n",
    "                return res.payload\n",
    "            else:\n",
    "                return None\n",
    "        return None\n",
    "    \n",
    "    def _get(self, item, currentNode):\n",
    "        if currentNode == None:\n",
    "            return\n",
    "        elif currentNode.key == item:\n",
    "            return currenNode\n",
    "        elif currentNode.key < item:\n",
    "            return self._get(item,currentNode.right)\n",
    "        else currentNode.key > item:\n",
    "            return self._get(item, currentNode.left)\n",
    "        \n",
    "    def __getitem__(self, item):\n",
    "        return self.get(item)\n",
    "    \n",
    "    def __contains__(self, item):\n",
    "        if self._get(item, self.root):\n",
    "            return True\n",
    "        return False\n",
    "    def delete(self, item):\n",
    "        if self.size > 1:\n",
    "            res = _get(item, self.root)\n",
    "            if res:\n",
    "                self.remove(res)\n",
    "                self.size = self.size-1\n",
    "            else:\n",
    "                raise KeyError('Key not in tree')\n",
    "        elif self.size == 1 and self.root.key == item:\n",
    "            self.root = None\n",
    "            self.size = 0\n",
    "        else:\n",
    "            raise KeyError('Key not in Tree')\n",
    "        \n",
    "    def __delitem__(self, key):\n",
    "        self.delete(key)\n",
    "        \n",
    "        \n",
    "        \n",
    "    if currentNode.isLeaf():\n",
    "        if currentNode == currrentNode.parent.left:\n",
    "            currentNode.parent.left = None\n",
    "        else:\n",
    "            currentNode.parent.right = None\n",
    "        \n",
    "    else:\n",
    "        if currentNode.isleftchild():\n",
    "            if currentNode.hasleftchild():\n",
    "                currentNode.parent.left = currentNode.left\n",
    "            else:\n",
    "                currentNode.parent.left = currentNode.right\n",
    "        elif currentNode.isrightchild():\n",
    "            if currentNode.hasleftchild():\n",
    "                currentNode.parent.right = currentNode.left\n",
    "            else:\n",
    "                currentNode.parent.right = currentNode.right\n",
    "        else:\n",
    "            currentNode.replaceNodeData(currentNode.leftChild.key,\n",
    "                                        currentNode.leftChild.payload,\n",
    "                                        currentNode.leftChild.leftChild,\n",
    "                                        currentNode.leftChild.rightChild)\n",
    "        elif currentNode.hasBothChildren():\n",
    "            succ = currentNode.findsuccessor()\n",
    "            succ.splitout()\n",
    "            currentNode.key = succ.key\n",
    "            currentNode.payload = succ.payload\n",
    "        \n",
    "        \n"
   ]
  },
  {
   "cell_type": "code",
   "execution_count": null,
   "metadata": {},
   "outputs": [],
   "source": []
  }
 ],
 "metadata": {
  "kernelspec": {
   "display_name": "Python 3",
   "language": "python",
   "name": "python3"
  },
  "language_info": {
   "codemirror_mode": {
    "name": "ipython",
    "version": 3
   },
   "file_extension": ".py",
   "mimetype": "text/x-python",
   "name": "python",
   "nbconvert_exporter": "python",
   "pygments_lexer": "ipython3",
   "version": "3.6.5"
  }
 },
 "nbformat": 4,
 "nbformat_minor": 2
}
