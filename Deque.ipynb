{
 "cells": [
  {
   "cell_type": "code",
   "execution_count": 1,
   "metadata": {
    "ExecuteTime": {
     "end_time": "2019-02-09T15:31:40.379326Z",
     "start_time": "2019-02-09T15:31:40.363790Z"
    }
   },
   "outputs": [],
   "source": [
    "class Dque:\n",
    "    def __init__(self):\n",
    "        self.deque = []\n",
    "    def addRead(self, item):\n",
    "        return self.deque.insert(0, item)\n",
    "    def addFront(self, item):\n",
    "        return self.deque.append(item)\n",
    "    def removeRear(self):\n",
    "        return self.deque.pop(0)\n",
    "    def removeFront(self):\n",
    "        return self.deque.pop()\n",
    "    def isEmpty(self):\n",
    "        return len(self.deque) == 0\n",
    "    def size(self):\n",
    "        return len(self.deque)"
   ]
  },
  {
   "cell_type": "code",
   "execution_count": 2,
   "metadata": {
    "ExecuteTime": {
     "end_time": "2019-02-09T15:32:52.250859Z",
     "start_time": "2019-02-09T15:32:52.233457Z"
    }
   },
   "outputs": [
    {
     "name": "stdout",
     "output_type": "stream",
     "text": [
      "True\n",
      "None\n",
      "None\n",
      "None\n",
      "None\n",
      "4\n",
      "False\n",
      "None\n",
      "8.4\n",
      "True\n"
     ]
    }
   ],
   "source": [
    "d = Dque()\n",
    "print(d.isEmpty())\n",
    "print(d.addRear(4))\n",
    "print(d.addRear('dog'))\n",
    "print(d.addFront('cat'))\n",
    "print(d.addFront(True))\n",
    "print(d.size())\n",
    "print(d.isEmpty())\n",
    "print(d.addRear(8.4))\n",
    "print(d.removeRear())\n",
    "print(d.removeFront())"
   ]
  },
  {
   "cell_type": "code",
   "execution_count": 14,
   "metadata": {
    "ExecuteTime": {
     "end_time": "2019-02-09T15:39:57.965053Z",
     "start_time": "2019-02-09T15:39:57.954777Z"
    }
   },
   "outputs": [],
   "source": [
    "def palindrome(deque):\n",
    "    d = Dque()\n",
    "    for i in deque:\n",
    "        d.addFront(i)\n",
    "    while d.size() > 1:\n",
    "        if d.removeRear() == d.removeFront(): continue\n",
    "        else: return False\n",
    "    return True"
   ]
  },
  {
   "cell_type": "code",
   "execution_count": 17,
   "metadata": {
    "ExecuteTime": {
     "end_time": "2019-02-09T15:40:09.330419Z",
     "start_time": "2019-02-09T15:40:09.321396Z"
    }
   },
   "outputs": [
    {
     "name": "stdout",
     "output_type": "stream",
     "text": [
      "False\n",
      "True\n"
     ]
    }
   ],
   "source": [
    "\n",
    "print(palindrome(\"lsdkjfskf\"))\n",
    "print(palindrome(\"radadar\"))"
   ]
  },
  {
   "cell_type": "code",
   "execution_count": null,
   "metadata": {},
   "outputs": [],
   "source": []
  }
 ],
 "metadata": {
  "kernelspec": {
   "display_name": "Python 3",
   "language": "python",
   "name": "python3"
  },
  "language_info": {
   "codemirror_mode": {
    "name": "ipython",
    "version": 3
   },
   "file_extension": ".py",
   "mimetype": "text/x-python",
   "name": "python",
   "nbconvert_exporter": "python",
   "pygments_lexer": "ipython3",
   "version": "3.6.5"
  }
 },
 "nbformat": 4,
 "nbformat_minor": 2
}
