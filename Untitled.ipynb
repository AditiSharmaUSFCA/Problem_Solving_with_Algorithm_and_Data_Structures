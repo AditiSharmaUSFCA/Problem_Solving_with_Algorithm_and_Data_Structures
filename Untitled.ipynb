{
 "cells": [
  {
   "cell_type": "markdown",
   "metadata": {},
   "source": [
    "1. Devise an experiment to verify that the list index operator is O(1)\n"
   ]
  },
  {
   "cell_type": "code",
   "execution_count": 1,
   "metadata": {
    "ExecuteTime": {
     "end_time": "2019-02-06T00:26:43.998793Z",
     "start_time": "2019-02-06T00:26:43.988488Z"
    }
   },
   "outputs": [],
   "source": [
    "def index(l, i):\n",
    "    return l[i]"
   ]
  },
  {
   "cell_type": "code",
   "execution_count": 19,
   "metadata": {
    "ExecuteTime": {
     "end_time": "2019-02-06T00:32:00.589652Z",
     "start_time": "2019-02-06T00:32:00.568491Z"
    }
   },
   "outputs": [
    {
     "name": "stdout",
     "output_type": "stream",
     "text": [
      "0.00016355514526367188\n"
     ]
    }
   ],
   "source": [
    "l1 = (list(range((100))))\n",
    "start = time.time()\n",
    "index(l1, 50)\n",
    "print(time.time() - start)"
   ]
  },
  {
   "cell_type": "code",
   "execution_count": 18,
   "metadata": {
    "ExecuteTime": {
     "end_time": "2019-02-06T00:31:57.947702Z",
     "start_time": "2019-02-06T00:31:57.917715Z"
    }
   },
   "outputs": [
    {
     "name": "stdout",
     "output_type": "stream",
     "text": [
      "0.00038695335388183594\n"
     ]
    }
   ],
   "source": [
    "l1 = (list(range((10000))))\n",
    "start = time.time()\n",
    "index(l1, 500)\n",
    "print(time.time() - start)"
   ]
  },
  {
   "cell_type": "code",
   "execution_count": 21,
   "metadata": {
    "ExecuteTime": {
     "end_time": "2019-02-06T00:32:17.513086Z",
     "start_time": "2019-02-06T00:32:17.481828Z"
    }
   },
   "outputs": [
    {
     "name": "stdout",
     "output_type": "stream",
     "text": [
      "0.00010633468627929688\n"
     ]
    }
   ],
   "source": [
    "l1 = (list(range((100000))))\n",
    "start = time.time()\n",
    "index(l1, 5000)\n",
    "print(time.time() - start)"
   ]
  },
  {
   "cell_type": "markdown",
   "metadata": {},
   "source": [
    "2. Devise an experiment to verify that get item and set item are O(1) for dictionaries."
   ]
  },
  {
   "cell_type": "code",
   "execution_count": 22,
   "metadata": {
    "ExecuteTime": {
     "end_time": "2019-02-06T00:33:32.864303Z",
     "start_time": "2019-02-06T00:33:32.860692Z"
    }
   },
   "outputs": [],
   "source": [
    "def get_item(d, item):\n",
    "    return d[item]"
   ]
  },
  {
   "cell_type": "code",
   "execution_count": 24,
   "metadata": {
    "ExecuteTime": {
     "end_time": "2019-02-06T00:34:30.057756Z",
     "start_time": "2019-02-06T00:34:30.024361Z"
    }
   },
   "outputs": [
    {
     "name": "stdout",
     "output_type": "stream",
     "text": [
      "0.00010395050048828125\n"
     ]
    }
   ],
   "source": [
    "d1 = {j: None for j in (range((100000)))}\n",
    "start = time.time()\n",
    "get_item(d1, 5000)\n",
    "print(time.time() - start)"
   ]
  },
  {
   "cell_type": "code",
   "execution_count": 26,
   "metadata": {
    "ExecuteTime": {
     "end_time": "2019-02-06T00:34:53.425291Z",
     "start_time": "2019-02-06T00:34:53.416038Z"
    }
   },
   "outputs": [
    {
     "name": "stdout",
     "output_type": "stream",
     "text": [
      "0.00011992454528808594\n"
     ]
    }
   ],
   "source": [
    "d2 = {j: None for j in (range((1000)))}\n",
    "start = time.time()\n",
    "index(d2, 50)\n",
    "print(time.time() - start)"
   ]
  },
  {
   "cell_type": "code",
   "execution_count": 30,
   "metadata": {
    "ExecuteTime": {
     "end_time": "2019-02-06T00:35:03.043783Z",
     "start_time": "2019-02-06T00:35:03.008680Z"
    }
   },
   "outputs": [
    {
     "name": "stdout",
     "output_type": "stream",
     "text": [
      "0.0003714561462402344\n"
     ]
    }
   ],
   "source": [
    "d3 = {j: None for j in (range((100)))}\n",
    "start = time.time()\n",
    "get_item(d3, 5)\n",
    "print(time.time() - start)"
   ]
  },
  {
   "cell_type": "markdown",
   "metadata": {},
   "source": [
    "3. Devise an experiment that compares the performance of the del operator on lists and dictionaries."
   ]
  },
  {
   "cell_type": "code",
   "execution_count": null,
   "metadata": {},
   "outputs": [],
   "source": []
  }
 ],
 "metadata": {
  "kernelspec": {
   "display_name": "Python 3",
   "language": "python",
   "name": "python3"
  },
  "language_info": {
   "codemirror_mode": {
    "name": "ipython",
    "version": 3
   },
   "file_extension": ".py",
   "mimetype": "text/x-python",
   "name": "python",
   "nbconvert_exporter": "python",
   "pygments_lexer": "ipython3",
   "version": "3.7.2"
  }
 },
 "nbformat": 4,
 "nbformat_minor": 2
}
