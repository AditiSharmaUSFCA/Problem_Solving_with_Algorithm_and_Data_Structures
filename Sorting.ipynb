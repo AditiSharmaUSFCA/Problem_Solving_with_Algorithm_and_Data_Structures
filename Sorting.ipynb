{
 "cells": [
  {
   "cell_type": "code",
   "execution_count": 12,
   "metadata": {
    "ExecuteTime": {
     "end_time": "2019-02-11T02:45:23.739751Z",
     "start_time": "2019-02-11T02:45:23.721567Z"
    }
   },
   "outputs": [],
   "source": [
    "def bubblesort(alist):\n",
    "    count = len(alist)\n",
    "    for j in range(len(alist)):\n",
    "        for i in range(0, count-1):\n",
    "            if alist[i] > alist[i+1]:\n",
    "                alist[i], alist[i+1] = alist[i+1], alist[i]\n",
    "        count = count - 1\n",
    "    return alist"
   ]
  },
  {
   "cell_type": "code",
   "execution_count": 14,
   "metadata": {
    "ExecuteTime": {
     "end_time": "2019-02-11T02:45:34.978547Z",
     "start_time": "2019-02-11T02:45:34.967536Z"
    }
   },
   "outputs": [
    {
     "data": {
      "text/plain": [
       "[0, 1, 2, 3, 4, 7, 9, 54, 102, 120]"
      ]
     },
     "execution_count": 14,
     "metadata": {},
     "output_type": "execute_result"
    }
   ],
   "source": [
    "l = [54, 102, 120, 4,2,1,7,3,9,0]\n",
    "bubblesort(l)"
   ]
  },
  {
   "cell_type": "code",
   "execution_count": 36,
   "metadata": {
    "ExecuteTime": {
     "end_time": "2019-02-11T02:59:20.278220Z",
     "start_time": "2019-02-11T02:59:20.263975Z"
    }
   },
   "outputs": [],
   "source": [
    "def selectionSort(alist):\n",
    "    count = len(alist)\n",
    "    for i in range(len(alist)):\n",
    "        maximum = alist[0]\n",
    "        pos = 0\n",
    "        for j in range(count):\n",
    "            if alist[j] > maximum:\n",
    "                maximum = alist[j]\n",
    "                pos = j\n",
    "        alist[count-1], alist[pos] =  alist[pos], alist[count-1]\n",
    "        count = count - 1\n",
    "    return alist"
   ]
  },
  {
   "cell_type": "code",
   "execution_count": 37,
   "metadata": {
    "ExecuteTime": {
     "end_time": "2019-02-11T02:59:20.603536Z",
     "start_time": "2019-02-11T02:59:20.578964Z"
    }
   },
   "outputs": [
    {
     "data": {
      "text/plain": [
       "[0, 1, 2, 3, 4, 7, 9, 54, 102, 120]"
      ]
     },
     "execution_count": 37,
     "metadata": {},
     "output_type": "execute_result"
    }
   ],
   "source": [
    "l = [54, 102, 120, 4,2,1,7,3,9,0]\n",
    "selectionSort(l)"
   ]
  },
  {
   "cell_type": "code",
   "execution_count": 21,
   "metadata": {
    "ExecuteTime": {
     "end_time": "2019-02-11T02:56:34.831073Z",
     "start_time": "2019-02-11T02:56:34.814519Z"
    }
   },
   "outputs": [
    {
     "data": {
      "text/plain": [
       "[0, 1]"
      ]
     },
     "execution_count": 21,
     "metadata": {},
     "output_type": "execute_result"
    }
   ],
   "source": [
    "list(range(2))"
   ]
  },
  {
   "cell_type": "code",
   "execution_count": 38,
   "metadata": {
    "ExecuteTime": {
     "end_time": "2019-02-11T03:32:25.602773Z",
     "start_time": "2019-02-11T03:32:25.590799Z"
    }
   },
   "outputs": [],
   "source": [
    "def insertionSort(alist):\n",
    "    count = 1\n",
    "    for i in range(1, len(alist)):\n",
    "        curr = alist[i]\n",
    "        pos = i\n",
    "        while pos > 0 and alist[pos-1] > curr:\n",
    "            alist[pos] = alist[pos-1]\n",
    "            pos = pos -1\n",
    "        alist[pos] = curr\n",
    "    return alist"
   ]
  },
  {
   "cell_type": "code",
   "execution_count": 39,
   "metadata": {
    "ExecuteTime": {
     "end_time": "2019-02-11T03:32:30.651923Z",
     "start_time": "2019-02-11T03:32:30.634881Z"
    }
   },
   "outputs": [
    {
     "name": "stdout",
     "output_type": "stream",
     "text": [
      "[17, 20, 26, 31, 44, 54, 55, 77, 93]\n"
     ]
    }
   ],
   "source": [
    "alist = [54,26,93,17,77,31,44,55,20]\n",
    "insertionSort(alist)\n",
    "print(alist)\n"
   ]
  },
  {
   "cell_type": "code",
   "execution_count": 32,
   "metadata": {
    "ExecuteTime": {
     "end_time": "2019-02-14T01:03:09.293726Z",
     "start_time": "2019-02-14T01:03:09.277569Z"
    }
   },
   "outputs": [],
   "source": [
    "def shellsort(alist, gap):\n",
    "    for j in range(gap):\n",
    "        for g in range(gap):\n",
    "            flag = True\n",
    "            i = j\n",
    "            while flag:\n",
    "                if i+gap < len(alist):\n",
    "                    if alist[i] > alist[i+gap]:\n",
    "                        alist[i], alist[i+gap] = alist[i+gap], alist[i]\n",
    "                    i = i + gap\n",
    "                else:\n",
    "                    flag = False\n",
    "    return alist"
   ]
  },
  {
   "cell_type": "code",
   "execution_count": 33,
   "metadata": {
    "ExecuteTime": {
     "end_time": "2019-02-14T01:03:09.657472Z",
     "start_time": "2019-02-14T01:03:09.645995Z"
    }
   },
   "outputs": [
    {
     "data": {
      "text/plain": [
       "[5, 3, 8, 7, 16, 19, 9, 17, 20, 12]"
      ]
     },
     "execution_count": 33,
     "metadata": {},
     "output_type": "execute_result"
    }
   ],
   "source": [
    "alist = [5, 16, 20, 12, 3, 8, 9, 17, 19, 7]\n",
    "shellsort(alist, 3)"
   ]
  },
  {
   "cell_type": "code",
   "execution_count": null,
   "metadata": {},
   "outputs": [],
   "source": [
    "def MergeSort(alist):\n",
    "    if len(alist) > 1:\n",
    "        mid = len(alist)//2\n",
    "        left = alist[:mid]\n",
    "        right = alist[mid:]\n",
    "        MergeSort(left)\n",
    "        MergeSort(right)\n",
    "        i = 0\n",
    "        k = 0\n",
    "        j = 0\n",
    "        for i in left:\n",
    "            \n",
    "        if right < left:\n",
    "            right, left = left, right\n",
    "            "
   ]
  }
 ],
 "metadata": {
  "kernelspec": {
   "display_name": "Python 3",
   "language": "python",
   "name": "python3"
  },
  "language_info": {
   "codemirror_mode": {
    "name": "ipython",
    "version": 3
   },
   "file_extension": ".py",
   "mimetype": "text/x-python",
   "name": "python",
   "nbconvert_exporter": "python",
   "pygments_lexer": "ipython3",
   "version": "3.6.5"
  }
 },
 "nbformat": 4,
 "nbformat_minor": 2
}
