{
 "cells": [
  {
   "cell_type": "code",
   "execution_count": 8,
   "metadata": {
    "ExecuteTime": {
     "end_time": "2019-02-10T20:44:30.032794Z",
     "start_time": "2019-02-10T20:44:30.015681Z"
    }
   },
   "outputs": [],
   "source": [
    "def sequentialSearch(alist, item):\n",
    "    for i in alist:\n",
    "        if i == item:\n",
    "            return True\n",
    "    return False"
   ]
  },
  {
   "cell_type": "code",
   "execution_count": 2,
   "metadata": {
    "ExecuteTime": {
     "end_time": "2019-02-10T20:31:26.761754Z",
     "start_time": "2019-02-10T20:31:26.748723Z"
    }
   },
   "outputs": [
    {
     "name": "stdout",
     "output_type": "stream",
     "text": [
      "False\n",
      "True\n"
     ]
    }
   ],
   "source": [
    "testlist = [1, 2, 32, 8, 17, 19, 42, 13, 0]\n",
    "print(sequentialSearch(testlist, 3))\n",
    "print(sequentialSearch(testlist, 13))"
   ]
  },
  {
   "cell_type": "code",
   "execution_count": 3,
   "metadata": {
    "ExecuteTime": {
     "end_time": "2019-02-10T20:43:04.553625Z",
     "start_time": "2019-02-10T20:43:04.540699Z"
    }
   },
   "outputs": [],
   "source": [
    "def orderedSequentialSearch(alist, item):\n",
    "    for i in alist:\n",
    "        if i == item:\n",
    "            return True\n",
    "        elif i > item:\n",
    "            return False\n",
    "    return False"
   ]
  },
  {
   "cell_type": "code",
   "execution_count": 6,
   "metadata": {
    "ExecuteTime": {
     "end_time": "2019-02-10T20:43:54.923383Z",
     "start_time": "2019-02-10T20:43:50.884189Z"
    }
   },
   "outputs": [
    {
     "name": "stdout",
     "output_type": "stream",
     "text": [
      "238 ns ± 1.17 ns per loop (mean ± std. dev. of 7 runs, 1000000 loops each)\n",
      "258 ns ± 2.95 ns per loop (mean ± std. dev. of 7 runs, 1000000 loops each)\n"
     ]
    }
   ],
   "source": [
    "testlist = [0, 1, 2, 8, 13, 17, 19, 32, 42,]\n",
    "%timeit (orderedSequentialSearch(testlist, 3))\n",
    "%timeit (orderedSequentialSearch(testlist, 13))"
   ]
  },
  {
   "cell_type": "code",
   "execution_count": 9,
   "metadata": {
    "ExecuteTime": {
     "end_time": "2019-02-10T20:44:49.881586Z",
     "start_time": "2019-02-10T20:44:31.997405Z"
    }
   },
   "outputs": [
    {
     "name": "stdout",
     "output_type": "stream",
     "text": [
      "273 ns ± 4.68 ns per loop (mean ± std. dev. of 7 runs, 1000000 loops each)\n",
      "193 ns ± 0.104 ns per loop (mean ± std. dev. of 7 runs, 10000000 loops each)\n"
     ]
    }
   ],
   "source": [
    "testlist = [0, 1, 2, 8, 13, 17, 19, 32, 42,]\n",
    "%timeit (sequentialSearch(testlist, 3))\n",
    "%timeit (sequentialSearch(testlist, 13))"
   ]
  },
  {
   "cell_type": "code",
   "execution_count": 34,
   "metadata": {
    "ExecuteTime": {
     "end_time": "2019-02-10T21:42:56.729128Z",
     "start_time": "2019-02-10T21:42:56.720010Z"
    }
   },
   "outputs": [],
   "source": [
    "def binarySearch(alist, item):\n",
    "    flag = False\n",
    "    first = 0\n",
    "    last = len(alist) - 1\n",
    "    while not flag and first <= last:\n",
    "        midpoint = (first+last)//2\n",
    "        if alist[midpoint] == item: flag = True\n",
    "        elif alist[midpoint] > item: last = midpoint-1\n",
    "        else: first = midpoint + 1\n",
    "    return flag"
   ]
  },
  {
   "cell_type": "code",
   "execution_count": 41,
   "metadata": {
    "ExecuteTime": {
     "end_time": "2019-02-10T21:43:41.906227Z",
     "start_time": "2019-02-10T21:43:33.511418Z"
    }
   },
   "outputs": [
    {
     "name": "stdout",
     "output_type": "stream",
     "text": [
      "1.05 µs ± 89.3 ns per loop (mean ± std. dev. of 7 runs, 1000000 loops each)\n"
     ]
    }
   ],
   "source": [
    "testlist = [0, 1, 2, 8, 13, 17, 19, 32, 42,]\n",
    "%timeit (binarySearch(testlist, 3))"
   ]
  },
  {
   "cell_type": "code",
   "execution_count": 40,
   "metadata": {
    "ExecuteTime": {
     "end_time": "2019-02-10T21:43:31.741312Z",
     "start_time": "2019-02-10T21:43:31.705298Z"
    }
   },
   "outputs": [
    {
     "data": {
      "text/plain": [
       "False"
      ]
     },
     "execution_count": 40,
     "metadata": {},
     "output_type": "execute_result"
    }
   ],
   "source": [
    "(binarySearch(testlist, 3))"
   ]
  },
  {
   "cell_type": "code",
   "execution_count": 58,
   "metadata": {
    "ExecuteTime": {
     "end_time": "2019-02-10T22:20:07.698109Z",
     "start_time": "2019-02-10T22:20:07.687935Z"
    }
   },
   "outputs": [],
   "source": [
    "def binaryrecursion(alist, item):\n",
    "    if len(alist) > 0:\n",
    "        midpoint = len(alist)//2\n",
    "        if alist[midpoint] == item: return True\n",
    "        elif alist[midpoint] > item: binaryrecursion(alist[:midpoint], item)\n",
    "        elif alist[midpoint] < item: binaryrecursion(alist[midpoint+1:], item)\n",
    "        else: return False\n",
    "    else: return False\n",
    "    "
   ]
  },
  {
   "cell_type": "code",
   "execution_count": 67,
   "metadata": {
    "ExecuteTime": {
     "end_time": "2019-02-10T22:25:28.318490Z",
     "start_time": "2019-02-10T22:25:28.282636Z"
    }
   },
   "outputs": [
    {
     "name": "stdout",
     "output_type": "stream",
     "text": [
      "False\n"
     ]
    }
   ],
   "source": [
    "testlist = [0, 1, 2, 8, 13, 17, 19, 32, 42,]\n",
    "print(binaryrecursion(testlist, 20))"
   ]
  },
  {
   "cell_type": "code",
   "execution_count": 63,
   "metadata": {
    "ExecuteTime": {
     "end_time": "2019-02-10T22:25:17.971026Z",
     "start_time": "2019-02-10T22:25:17.959163Z"
    }
   },
   "outputs": [],
   "source": [
    "def binaryrecursion(alist, item):\n",
    "    if len(alist) == 0: return False\n",
    "    else:\n",
    "        midpoint = len(alist)//2\n",
    "        if alist[midpoint] == item: return True\n",
    "        elif alist[midpoint] > item: return binaryrecursion(alist[:midpoint], item)\n",
    "        elif alist[midpoint] < item: return binaryrecursion(alist[midpoint+1:], item)\n",
    "        else: return False\n",
    "    "
   ]
  },
  {
   "cell_type": "code",
   "execution_count": null,
   "metadata": {},
   "outputs": [],
   "source": []
  }
 ],
 "metadata": {
  "kernelspec": {
   "display_name": "Python 3",
   "language": "python",
   "name": "python3"
  },
  "language_info": {
   "codemirror_mode": {
    "name": "ipython",
    "version": 3
   },
   "file_extension": ".py",
   "mimetype": "text/x-python",
   "name": "python",
   "nbconvert_exporter": "python",
   "pygments_lexer": "ipython3",
   "version": "3.6.5"
  }
 },
 "nbformat": 4,
 "nbformat_minor": 2
}
