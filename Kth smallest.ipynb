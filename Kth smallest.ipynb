{
 "cells": [
  {
   "cell_type": "code",
   "execution_count": 1,
   "metadata": {
    "ExecuteTime": {
     "end_time": "2019-02-06T16:55:04.878883Z",
     "start_time": "2019-02-06T16:55:04.869375Z"
    }
   },
   "outputs": [],
   "source": [
    "def ksmallest(l, k):\n",
    "    l = sorted(l)\n",
    "    return l[k-1]"
   ]
  },
  {
   "cell_type": "code",
   "execution_count": 13,
   "metadata": {
    "ExecuteTime": {
     "end_time": "2019-02-06T16:56:27.659562Z",
     "start_time": "2019-02-06T16:56:27.648197Z"
    }
   },
   "outputs": [
    {
     "name": "stdout",
     "output_type": "stream",
     "text": [
      "8.7738037109375e-05\n"
     ]
    }
   ],
   "source": [
    "import time\n",
    "l = [1,2,3,2,16,5,4,5,7,8, 11, 12, 14]\n",
    "k = 9\n",
    "start = time.time()\n",
    "ksmallest(l, k)\n",
    "print(time.time() - start)"
   ]
  },
  {
   "cell_type": "code",
   "execution_count": null,
   "metadata": {},
   "outputs": [],
   "source": []
  }
 ],
 "metadata": {
  "kernelspec": {
   "display_name": "Python 3",
   "language": "python",
   "name": "python3"
  },
  "language_info": {
   "codemirror_mode": {
    "name": "ipython",
    "version": 3
   },
   "file_extension": ".py",
   "mimetype": "text/x-python",
   "name": "python",
   "nbconvert_exporter": "python",
   "pygments_lexer": "ipython3",
   "version": "3.6.5"
  }
 },
 "nbformat": 4,
 "nbformat_minor": 2
}
