{
 "cells": [
  {
   "cell_type": "code",
   "execution_count": 15,
   "metadata": {
    "ExecuteTime": {
     "end_time": "2019-02-09T13:51:16.141378Z",
     "start_time": "2019-02-09T13:51:16.087435Z"
    }
   },
   "outputs": [],
   "source": [
    "def infixToPostfix(operation):\n",
    "    opstack = []\n",
    "    output = []\n",
    "    operation = operation.split(\" \")\n",
    "    prec = {}\n",
    "    prec[\"*\"] = 3\n",
    "    prec[\"/\"] = 3\n",
    "    prec[\"+\"] = 2\n",
    "    prec[\"-\"] = 2\n",
    "    prec[\"(\"] = 1\n",
    "    for i in operation:\n",
    "        if i in 'QWERTYUIOPASDFGHJKLZXCVBNM' or i in '1234567890':\n",
    "            output.append(i)\n",
    "        elif i == '(':\n",
    "            opstack.append(i)\n",
    "        elif i == ')':\n",
    "            s = opstack.pop()\n",
    "            while s != '(':\n",
    "                output.append(s)\n",
    "                s = opstack.pop()\n",
    "        else:\n",
    "            while len(opstack) != 0 and prec[opstack[-1]] >= prec[i]:\n",
    "                output.append(opstack.pop())\n",
    "            opstack.append(i)\n",
    "    while opstack:\n",
    "        output.append(opstack.pop())\n",
    "    return \" \".join(output)"
   ]
  },
  {
   "cell_type": "code",
   "execution_count": 16,
   "metadata": {
    "ExecuteTime": {
     "end_time": "2019-02-09T13:51:16.399748Z",
     "start_time": "2019-02-09T13:51:16.384452Z"
    }
   },
   "outputs": [
    {
     "name": "stdout",
     "output_type": "stream",
     "text": [
      "A B * C D * +\n",
      "A B + C * D E - F G + * -\n"
     ]
    }
   ],
   "source": [
    "print(infixToPostfix(\"A * B + C * D\"))\n",
    "print(infixToPostfix(\"( A + B ) * C - ( D - E ) * ( F + G )\"))\n"
   ]
  },
  {
   "cell_type": "code",
   "execution_count": 18,
   "metadata": {
    "ExecuteTime": {
     "end_time": "2019-02-09T14:00:14.742145Z",
     "start_time": "2019-02-09T14:00:14.724975Z"
    }
   },
   "outputs": [],
   "source": [
    "def opeval(operation):\n",
    "    operandstack = []\n",
    "    operation = operation.split(\" \")\n",
    "    for i in operation:\n",
    "        if i in '1234567890':\n",
    "            i = int(i)\n",
    "            operandstack.append(i)\n",
    "        elif i in '*/+-':\n",
    "            operand2 = operandstack.pop()\n",
    "            operand1 = operandstack.pop()\n",
    "            if i == '*':\n",
    "                arthOperation = int(operand1) * int(operand2)\n",
    "            elif i == '/':\n",
    "                arthOperation = int(operand1) / int(operand2)\n",
    "            elif i == '+':\n",
    "                arthOperation = int(operand1) + int(operand2)\n",
    "            else:\n",
    "                arthOperation = int(operand1) - int(operand2)\n",
    "            operandstack.append(arthOperation)\n",
    "    return operandstack.pop()"
   ]
  },
  {
   "cell_type": "code",
   "execution_count": 19,
   "metadata": {
    "ExecuteTime": {
     "end_time": "2019-02-09T14:00:19.399166Z",
     "start_time": "2019-02-09T14:00:19.386922Z"
    }
   },
   "outputs": [
    {
     "name": "stdout",
     "output_type": "stream",
     "text": [
      "3.0\n"
     ]
    }
   ],
   "source": [
    "print(opeval('7 8 + 3 2 + /'))"
   ]
  },
  {
   "cell_type": "code",
   "execution_count": null,
   "metadata": {},
   "outputs": [],
   "source": []
  }
 ],
 "metadata": {
  "kernelspec": {
   "display_name": "Python 3",
   "language": "python",
   "name": "python3"
  },
  "language_info": {
   "codemirror_mode": {
    "name": "ipython",
    "version": 3
   },
   "file_extension": ".py",
   "mimetype": "text/x-python",
   "name": "python",
   "nbconvert_exporter": "python",
   "pygments_lexer": "ipython3",
   "version": "3.6.5"
  }
 },
 "nbformat": 4,
 "nbformat_minor": 2
}
