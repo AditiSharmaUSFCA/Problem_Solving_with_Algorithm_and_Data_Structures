{
 "cells": [
  {
   "cell_type": "code",
   "execution_count": 5,
   "metadata": {
    "ExecuteTime": {
     "end_time": "2019-02-04T04:50:52.861692Z",
     "start_time": "2019-02-04T04:50:52.846485Z"
    }
   },
   "outputs": [],
   "source": [
    "monkey = \"methinks it is like a weasel\""
   ]
  },
  {
   "cell_type": "code",
   "execution_count": 6,
   "metadata": {
    "ExecuteTime": {
     "end_time": "2019-02-04T04:50:53.196107Z",
     "start_time": "2019-02-04T04:50:53.187535Z"
    }
   },
   "outputs": [],
   "source": [
    "import random"
   ]
  },
  {
   "cell_type": "code",
   "execution_count": 16,
   "metadata": {
    "ExecuteTime": {
     "end_time": "2019-02-04T04:53:35.211691Z",
     "start_time": "2019-02-04T04:53:35.200025Z"
    }
   },
   "outputs": [],
   "source": [
    "def rand():\n",
    "    foo = ['q', 'w', 'e', 'r', 't', 'y', 'u', 'i', 'o', 'p', 'a', 's', 'd', 'f', 'g', 'h', 'j', 'k', 'l', 'z', 'x',\\\n",
    "      'c', 'v', 'b', 'n', 'm', ' ']\n",
    "    s = ''\n",
    "    for i in range(28):\n",
    "        s = s + random.choice(foo)\n",
    "    return s"
   ]
  },
  {
   "cell_type": "code",
   "execution_count": 17,
   "metadata": {
    "ExecuteTime": {
     "end_time": "2019-02-04T04:53:35.648537Z",
     "start_time": "2019-02-04T04:53:35.634065Z"
    }
   },
   "outputs": [],
   "source": [
    "def score(s, original):\n",
    "    sc = 0\n",
    "    for i, j in zip(s, original):\n",
    "        if i == j:\n",
    "            sc = sc + 1\n",
    "    return (sc/len(original) * 100)"
   ]
  },
  {
   "cell_type": "code",
   "execution_count": 31,
   "metadata": {
    "ExecuteTime": {
     "end_time": "2019-02-04T05:08:06.216259Z",
     "start_time": "2019-02-04T05:08:06.207159Z"
    }
   },
   "outputs": [],
   "source": [
    "def repeat(original):\n",
    "    sc1 = 0\n",
    "    while sc1 != 100:\n",
    "        s = rand()\n",
    "        sc2 = score(s, original)\n",
    "        if sc2 > sc1:\n",
    "            print(sc2, s)\n",
    "            sc1 = sc2\n",
    "    return sc2\n",
    "        "
   ]
  },
  {
   "cell_type": "code",
   "execution_count": null,
   "metadata": {
    "ExecuteTime": {
     "start_time": "2019-02-04T05:08:06.688Z"
    }
   },
   "outputs": [
    {
     "name": "stdout",
     "output_type": "stream",
     "text": [
      "14.285714285714285 urxdigrojbmhbsxbnkkogriiite \n",
      "17.857142857142858  egbqnlbf funeagekgatywfvheb\n",
      "21.428571428571427 kpgnxqlp hbayohwikflnyhtadel\n",
      "25.0 mvormcns cokjhimvkeudikd fel\n",
      "28.57142857142857 tezhlzyshitubp yqiunsnaeumez\n",
      "32.142857142857146 gttfpntlect iotlxuzdc qrafey\n",
      "39.285714285714285 ofimanksuotqksnwive jaceksgl\n"
     ]
    }
   ],
   "source": [
    "score = repeat(\"methinks it is like a weasel\")"
   ]
  },
  {
   "cell_type": "code",
   "execution_count": 15,
   "metadata": {
    "ExecuteTime": {
     "end_time": "2019-02-04T04:53:28.481813Z",
     "start_time": "2019-02-04T04:53:28.453624Z"
    }
   },
   "outputs": [
    {
     "data": {
      "text/plain": [
       "28"
      ]
     },
     "execution_count": 15,
     "metadata": {},
     "output_type": "execute_result"
    }
   ],
   "source": [
    "len(\"methinks it is like a weasel\")"
   ]
  },
  {
   "cell_type": "code",
   "execution_count": 20,
   "metadata": {
    "ExecuteTime": {
     "end_time": "2019-02-04T04:55:39.443488Z",
     "start_time": "2019-02-04T04:55:39.428364Z"
    }
   },
   "outputs": [
    {
     "data": {
      "text/plain": [
       "28"
      ]
     },
     "execution_count": 20,
     "metadata": {},
     "output_type": "execute_result"
    }
   ],
   "source": [
    "len(\"bdjl wbwufvdqtamzkamrwpfetiz\")"
   ]
  },
  {
   "cell_type": "code",
   "execution_count": null,
   "metadata": {},
   "outputs": [],
   "source": []
  }
 ],
 "metadata": {
  "kernelspec": {
   "display_name": "Python 3",
   "language": "python",
   "name": "python3"
  },
  "language_info": {
   "codemirror_mode": {
    "name": "ipython",
    "version": 3
   },
   "file_extension": ".py",
   "mimetype": "text/x-python",
   "name": "python",
   "nbconvert_exporter": "python",
   "pygments_lexer": "ipython3",
   "version": "3.6.5"
  }
 },
 "nbformat": 4,
 "nbformat_minor": 2
}
