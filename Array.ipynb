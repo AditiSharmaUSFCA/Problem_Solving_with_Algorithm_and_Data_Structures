{
 "cells": [
  {
   "cell_type": "code",
   "execution_count": 17,
   "metadata": {
    "ExecuteTime": {
     "end_time": "2019-03-09T22:24:26.335744Z",
     "start_time": "2019-03-09T22:24:26.306218Z"
    }
   },
   "outputs": [
    {
     "name": "stdout",
     "output_type": "stream",
     "text": [
      "3\n",
      "1\n",
      "while 3 > 1\n",
      "s1 [[3, 1]]\n",
      "2\n",
      "4\n",
      "5\n",
      "6\n",
      "7\n",
      "1\n",
      "while 7 > 1\n",
      "s1 [[1, 2], [2, 1], [4, 1], [5, 1], [6, 1], [7, 1]]\n",
      "while 6 > 1\n",
      "s1 [[1, 2], [2, 1], [4, 1], [5, 1], [6, 1]]\n",
      "while 5 > 1\n",
      "s1 [[1, 2], [2, 1], [4, 1], [5, 1]]\n",
      "while 4 > 1\n",
      "s1 [[1, 2], [2, 1], [4, 1]]\n",
      "while 2 > 1\n",
      "s1 [[1, 2], [2, 1]]\n",
      "2\n",
      "si [[1, 2], [1, 6], [2, 1]]\n",
      "89\n"
     ]
    }
   ],
   "source": [
    "# Python3 implementation of above approach\n",
    "\n",
    "# Function to return required minimum sum\n",
    "def sumSubarrayMins(A, n):\n",
    "\n",
    "    left, right = [None] * n, [None] * n\n",
    "\n",
    "    # Use list as stack\n",
    "    s1, s2 = [], []\n",
    "\n",
    "    # getting number of element strictly\n",
    "    # larger than A[i] on Left.\n",
    "    for i in range(0, n):\n",
    "        cnt = 1\n",
    "\n",
    "    # get elements from stack until\n",
    "    # element greater than A[i] found\n",
    "        print(A[i])\n",
    "        while len(s1) > 0 and s1[-1][0] > A[i]:\n",
    "            \n",
    "            print(\"while\", s1[-1][0], \">\", A[i])\n",
    "            cnt += s1[-1][1]\n",
    "            print('s1', s1)\n",
    "            s1.pop()\n",
    "\n",
    "        s1.append([A[i], cnt])\n",
    "        left[i] = cnt\n",
    "    print('si', s1)\n",
    "\n",
    "    # getting number of element\n",
    "    # larger than A[i] on Right.\n",
    "    for i in range(n - 1, -1, -1):\n",
    "        cnt = 1\n",
    "\n",
    "    # get elements from stack until\n",
    "    # element greater or equal to A[i] found\n",
    "        while len(s2) > 0 and s2[-1][0] > A[i]:\n",
    "            cnt += s2[-1][1]\n",
    "            s2.pop()\n",
    "\n",
    "        s2.append([A[i], cnt])\n",
    "        right[i] = cnt\n",
    "\n",
    "    result = 0\n",
    "\n",
    "    # calculating required resultult\n",
    "    for i in range(0, n):\n",
    "        result += A[i] * left[i] * right[i]\n",
    "\n",
    "    return result\n",
    "\n",
    "\n",
    "A = [3, 1, 2, 4, 5, 6, 7, 1, 2]\n",
    "n = len(A)\n",
    "\n",
    "# function call to get\n",
    "# required resultult\n",
    "print(sumSubarrayMins(A, n))\n",
    "\n",
    "# This code is contributed\n",
    "# by Rituraj Jain"
   ]
  },
  {
   "cell_type": "markdown",
   "metadata": {},
   "source": [
    "Given a string, find the length of the longest substring without repeating characters.\n",
    "\n",
    "Examples:\n",
    "\n",
    "Given \"abcabcbb\", the answer is \"abc\", which the length is 3.\n",
    "\n",
    "Given \"bbbbb\", the answer is \"b\", with the length of 1.\n",
    "\n",
    "Given \"pwwkew\", the answer is \"wke\", with the length of 3. Note that the answer must be a substring, \"pwke\" is a subsequence and not a substring."
   ]
  },
  {
   "cell_type": "code",
   "execution_count": 33,
   "metadata": {
    "ExecuteTime": {
     "end_time": "2019-03-10T01:53:40.762079Z",
     "start_time": "2019-03-10T01:53:40.756176Z"
    }
   },
   "outputs": [],
   "source": [
    "def substring(s):\n",
    "    s_max = ''\n",
    "    s_current = ''\n",
    "    l_current = 0\n",
    "    l_max = 0\n",
    "    for e in s:\n",
    "        l_current = len(s_current)\n",
    "        if l_current>l_max:\n",
    "            l_max = l_current\n",
    "            s_max = s_current\n",
    "        if e not in s_current:\n",
    "            s_current = s_current + e\n",
    "        else:\n",
    "            s_current = s_current[s_current.index(e)+1:] + e\n",
    "    return s_max"
   ]
  },
  {
   "cell_type": "code",
   "execution_count": 34,
   "metadata": {
    "ExecuteTime": {
     "end_time": "2019-03-10T01:53:41.086663Z",
     "start_time": "2019-03-10T01:53:41.074098Z"
    }
   },
   "outputs": [
    {
     "data": {
      "text/plain": [
       "'abc'"
      ]
     },
     "execution_count": 34,
     "metadata": {},
     "output_type": "execute_result"
    }
   ],
   "source": [
    "substring('abbabcbb')"
   ]
  },
  {
   "cell_type": "code",
   "execution_count": 38,
   "metadata": {
    "ExecuteTime": {
     "end_time": "2019-03-10T02:03:21.343820Z",
     "start_time": "2019-03-10T02:03:21.339261Z"
    }
   },
   "outputs": [],
   "source": [
    "#Length of longest substring\n",
    "\n",
    "def longest(s):\n",
    "    s_max = ''\n",
    "    s_current = ''\n",
    "    l_max = 0\n",
    "    l_now = 0\n",
    "    for e in s:\n",
    "        l_now = len(s_current)\n",
    "        if l_now > l_max:\n",
    "            l_max = l_now\n",
    "            s_max = s_current\n",
    "        if e not in s_current:\n",
    "            s_current = s_current + e\n",
    "        else:\n",
    "            s_current = s_current[s_current.index(e)+1:]\n",
    "    return l_max"
   ]
  },
  {
   "cell_type": "code",
   "execution_count": 42,
   "metadata": {
    "ExecuteTime": {
     "end_time": "2019-03-10T02:03:35.559625Z",
     "start_time": "2019-03-10T02:03:35.547429Z"
    }
   },
   "outputs": [
    {
     "data": {
      "text/plain": [
       "5"
      ]
     },
     "execution_count": 42,
     "metadata": {},
     "output_type": "execute_result"
    }
   ],
   "source": [
    "longest('absbwerssdf')"
   ]
  },
  {
   "cell_type": "markdown",
   "metadata": {},
   "source": [
    "Longest palindrome (need to complete)\n",
    "\n",
    "Given a string s, find the longest palindromic substring in s. You may assume that the maximum length of s is 1000."
   ]
  },
  {
   "cell_type": "code",
   "execution_count": 47,
   "metadata": {
    "ExecuteTime": {
     "end_time": "2019-03-10T09:16:56.585370Z",
     "start_time": "2019-03-10T09:16:56.573656Z"
    }
   },
   "outputs": [],
   "source": [
    "def palindromic(s):\n",
    "    result = 0\n",
    "    for k in range(len(s)):\n",
    "        j = k\n",
    "        i = k\n",
    "        while i >= 0 and j < len(s):\n",
    "            if s[i] == s[j]:\n",
    "                result = max(result, j-i+1)\n",
    "            else:\n",
    "                break\n",
    "            i-=1\n",
    "            j+=1\n",
    "    for k in range(len(s)-1):\n",
    "        i = k\n",
    "        j = k+1\n",
    "        while i >= 0 and j < len(s):\n",
    "            if s[i] == s[j]:\n",
    "                result = max(result, j-i+1)\n",
    "            else:\n",
    "                break\n",
    "            i-=1\n",
    "            j+=1\n",
    "    return result\n",
    "        "
   ]
  },
  {
   "cell_type": "code",
   "execution_count": 48,
   "metadata": {
    "ExecuteTime": {
     "end_time": "2019-03-10T09:16:56.911187Z",
     "start_time": "2019-03-10T09:16:56.906416Z"
    }
   },
   "outputs": [
    {
     "name": "stdout",
     "output_type": "stream",
     "text": [
      "\n"
     ]
    },
    {
     "data": {
      "text/plain": [
       "'ff'"
      ]
     },
     "execution_count": 48,
     "metadata": {},
     "output_type": "execute_result"
    }
   ],
   "source": [
    "palindromic('forgeeksskeegfor')"
   ]
  },
  {
   "cell_type": "code",
   "execution_count": 64,
   "metadata": {
    "ExecuteTime": {
     "end_time": "2019-03-10T09:37:05.533746Z",
     "start_time": "2019-03-10T09:37:05.516548Z"
    }
   },
   "outputs": [],
   "source": [
    "def palindromic(s):\n",
    "    result = ''\n",
    "    for k in range(len(s)):\n",
    "        j = k\n",
    "        i = k\n",
    "       \n",
    "        while i >= 0 and j < len(s):\n",
    "            #print(s[k], s[i], s[j])\n",
    "            if s[i] == s[j]:\n",
    "                if len(result) < j-i+1:\n",
    "                    result = s[i:j+1]\n",
    "                \n",
    "            else:\n",
    "                break\n",
    "            i-=1\n",
    "            j+=1\n",
    "            \n",
    "    for k in range(len(s)-1):\n",
    "        i = k\n",
    "        j = k+1\n",
    "        while i >= 0 and j < len(s):\n",
    "            if s[i] == s[j]:\n",
    "                if len(result) < j-i+1:\n",
    "                    result = s[i:j+1]\n",
    "            else:\n",
    "                break\n",
    "            i-=1\n",
    "            j+=1\n",
    "    return result\n",
    "        "
   ]
  },
  {
   "cell_type": "code",
   "execution_count": 67,
   "metadata": {
    "ExecuteTime": {
     "end_time": "2019-03-10T09:37:43.871069Z",
     "start_time": "2019-03-10T09:37:43.862590Z"
    }
   },
   "outputs": [
    {
     "data": {
      "text/plain": [
       "'forgeeksskeegrof'"
      ]
     },
     "execution_count": 67,
     "metadata": {},
     "output_type": "execute_result"
    }
   ],
   "source": [
    "palindromic('forgeeksskeegrof')"
   ]
  },
  {
   "cell_type": "markdown",
   "metadata": {},
   "source": [
    "Determine whether an integer is a palindrome. Do this without extra space."
   ]
  },
  {
   "cell_type": "code",
   "execution_count": 87,
   "metadata": {
    "ExecuteTime": {
     "end_time": "2019-03-10T09:44:50.147260Z",
     "start_time": "2019-03-10T09:44:50.137405Z"
    }
   },
   "outputs": [],
   "source": [
    "def integer(s):\n",
    "    new = 0\n",
    "    x = s\n",
    "    while s>0:\n",
    "        new = new*10 + s%10\n",
    "        s = s//10\n",
    "    return new==x"
   ]
  },
  {
   "cell_type": "code",
   "execution_count": 89,
   "metadata": {
    "ExecuteTime": {
     "end_time": "2019-03-10T09:44:54.643014Z",
     "start_time": "2019-03-10T09:44:54.634095Z"
    }
   },
   "outputs": [
    {
     "data": {
      "text/plain": [
       "False"
      ]
     },
     "execution_count": 89,
     "metadata": {},
     "output_type": "execute_result"
    }
   ],
   "source": [
    "integer(12322)"
   ]
  },
  {
   "cell_type": "markdown",
   "metadata": {},
   "source": [
    "Given a list of numbers, can you return the outliers?"
   ]
  },
  {
   "cell_type": "code",
   "execution_count": 98,
   "metadata": {
    "ExecuteTime": {
     "end_time": "2019-03-10T09:50:29.520204Z",
     "start_time": "2019-03-10T09:50:29.507507Z"
    }
   },
   "outputs": [],
   "source": [
    "import pandas as pd\n",
    "import numpy as np\n",
    "nums = list(np.random.randint(-1000, 1000, 400))\n",
    "\n",
    "nums.extend([-100000, 50000])\n",
    "pnd = pd.DataFrame(nums)\n",
    "pnd.columns = ['num']"
   ]
  },
  {
   "cell_type": "code",
   "execution_count": 102,
   "metadata": {
    "ExecuteTime": {
     "end_time": "2019-03-10T09:51:13.247343Z",
     "start_time": "2019-03-10T09:51:13.040156Z"
    }
   },
   "outputs": [
    {
     "data": {
      "image/png": "[encoded data removed]",
      "text/plain": [
       "<matplotlib.figure.Figure at 0x7fb3dd743f98>"
      ]
     },
     "metadata": {},
     "output_type": "display_data"
    }
   ],
   "source": [
    "import seaborn as sns\n",
    "import matplotlib.pyplot as plt\n",
    "sns.set_style(\"whitegrid\")\n",
    "ax = sns.boxplot(x=df['num'])\n",
    "plt.show()"
   ]
  },
  {
   "cell_type": "code",
   "execution_count": 108,
   "metadata": {
    "ExecuteTime": {
     "end_time": "2019-03-10T09:55:07.579454Z",
     "start_time": "2019-03-10T09:55:07.568244Z"
    }
   },
   "outputs": [],
   "source": [
    "def outlier(l):\n",
    "    median = np.quantile(l, .5)\n",
    "    low = np.quantile(l, .25)\n",
    "    high = np.quantile(l, .75)\n",
    "    iqr = high - low\n",
    "    highest = high + 1.5*iqr\n",
    "    low = low - 1.5*iqr\n",
    "    return [i for i in l if i<low or i>highest]"
   ]
  },
  {
   "cell_type": "code",
   "execution_count": 109,
   "metadata": {
    "ExecuteTime": {
     "end_time": "2019-03-10T09:55:07.951025Z",
     "start_time": "2019-03-10T09:55:07.920064Z"
    }
   },
   "outputs": [
    {
     "data": {
      "text/plain": [
       "[-100000, 50000]"
      ]
     },
     "execution_count": 109,
     "metadata": {},
     "output_type": "execute_result"
    }
   ],
   "source": [
    "outlier(nums)"
   ]
  },
  {
   "cell_type": "markdown",
   "metadata": {},
   "source": [
    "You're given strings J representing the types of stones that are jewels, and S representing the stones you have. Each character in S is a type of stone you have. You want to know how many of the stones you have are also jewels.\n",
    "\n",
    "The letters in J are guaranteed distinct, and all characters in J and S are letters. Letters are case sensitive, so \"a\" is considered a different type of stone from \"A\"."
   ]
  },
  {
   "cell_type": "code",
   "execution_count": 116,
   "metadata": {
    "ExecuteTime": {
     "end_time": "2019-03-10T09:59:05.643797Z",
     "start_time": "2019-03-10T09:59:05.634616Z"
    }
   },
   "outputs": [],
   "source": [
    "def jewel(J, S):\n",
    "    count = 0\n",
    "    for i in S:\n",
    "        if i in set(J):\n",
    "            count+=1\n",
    "    return count"
   ]
  },
  {
   "cell_type": "code",
   "execution_count": 117,
   "metadata": {
    "ExecuteTime": {
     "end_time": "2019-03-10T09:59:05.951063Z",
     "start_time": "2019-03-10T09:59:05.943444Z"
    }
   },
   "outputs": [
    {
     "data": {
      "text/plain": [
       "4"
      ]
     },
     "execution_count": 117,
     "metadata": {},
     "output_type": "execute_result"
    }
   ],
   "source": [
    "J = \"aA\"\n",
    "S = \"aAAAbbbb\"\n",
    "jewel(J,S)"
   ]
  },
  {
   "cell_type": "markdown",
   "metadata": {},
   "source": [
    "We are to write the letters of a given string S, from left to right into lines. Each line has maximum width 100 units, and if writing a letter would cause the width of the line to exceed 100 units, it is written on the next line. We are given an array widths, an array where widths[0] is the width of 'a', widths[1] is the width of 'b', ..., and widths[25] is the width of 'z'.\n",
    "\n",
    "Now answer two questions: how many lines have at least one character from S, and what is the width used by the last such line? Return your answer as an integer list of length 2."
   ]
  },
  {
   "cell_type": "code",
   "execution_count": 143,
   "metadata": {
    "ExecuteTime": {
     "end_time": "2019-03-10T10:13:50.485818Z",
     "start_time": "2019-03-10T10:13:50.478139Z"
    }
   },
   "outputs": [],
   "source": [
    "def length(width, S):\n",
    "    line = 1\n",
    "    count = 0\n",
    "    for i in S:\n",
    "        index = ord(i) - 97\n",
    "        if count+width[index]<=100:\n",
    "            count+=width[index]\n",
    "        else:\n",
    "            count = width[index]\n",
    "            line = line + 1\n",
    "    return [line, count]\n",
    "            "
   ]
  },
  {
   "cell_type": "code",
   "execution_count": 144,
   "metadata": {
    "ExecuteTime": {
     "end_time": "2019-03-10T10:13:50.765461Z",
     "start_time": "2019-03-10T10:13:50.759836Z"
    }
   },
   "outputs": [],
   "source": [
    "widths = [4,10,10,10,10,10,10,10,10,10,10,10,10,10,10,10,10,10,10,10,10,10,10,10,10,10]\n",
    "S = \"bbbcccdddaaazghttttttyi\""
   ]
  },
  {
   "cell_type": "code",
   "execution_count": 145,
   "metadata": {
    "ExecuteTime": {
     "end_time": "2019-03-10T10:13:51.018316Z",
     "start_time": "2019-03-10T10:13:51.014489Z"
    }
   },
   "outputs": [
    {
     "data": {
      "text/plain": [
       "[3, 20]"
      ]
     },
     "execution_count": 145,
     "metadata": {},
     "output_type": "execute_result"
    }
   ],
   "source": [
    "length(widths, S)"
   ]
  },
  {
   "cell_type": "markdown",
   "metadata": {},
   "source": [
    "Initially, there is a Robot at position (0, 0). Given a sequence of its moves, judge if this robot makes a circle, which means it moves back to the original place.\n",
    "\n",
    "The move sequence is represented by a string. And each move is represent by a character. The valid robot moves are R (Right), L (Left), U (Up) and D (down). The output should be true or false representing whether the robot makes a circle."
   ]
  },
  {
   "cell_type": "code",
   "execution_count": 147,
   "metadata": {
    "ExecuteTime": {
     "end_time": "2019-03-10T11:09:39.514059Z",
     "start_time": "2019-03-10T11:09:39.509870Z"
    }
   },
   "outputs": [],
   "source": [
    "def circle(alist):\n",
    "    alist = list(alist)\n",
    "    stack = {'R':0, 'L':0, 'U':0, 'D':0}\n",
    "    for i in alist:\n",
    "        stack[i]+=1\n",
    "    return stack['R']-stack['L']+stack['U']-stack['D'] == 0"
   ]
  },
  {
   "cell_type": "code",
   "execution_count": 148,
   "metadata": {
    "ExecuteTime": {
     "end_time": "2019-03-10T11:09:39.865278Z",
     "start_time": "2019-03-10T11:09:39.861486Z"
    }
   },
   "outputs": [
    {
     "data": {
      "text/plain": [
       "True"
      ]
     },
     "execution_count": 148,
     "metadata": {},
     "output_type": "execute_result"
    }
   ],
   "source": [
    "moves= \"UD\"\n",
    "circle(moves)"
   ]
  },
  {
   "cell_type": "markdown",
   "metadata": {},
   "source": [
    "Given a sorted array nums, remove the duplicates in-place such that each element appear only once and return the new length.\n",
    "\n",
    "Do not allocate extra space for another array, you must do this by modifying the input array in-place with O(1) extra memory."
   ]
  },
  {
   "cell_type": "code",
   "execution_count": 164,
   "metadata": {
    "ExecuteTime": {
     "end_time": "2019-03-10T12:11:19.328604Z",
     "start_time": "2019-03-10T12:11:19.316866Z"
    }
   },
   "outputs": [],
   "source": [
    "def dup(alist):\n",
    "    i = 0\n",
    "    while i < len(alist):\n",
    "        if alist[i] == alist[i-1]:\n",
    "            alist.pop(i)\n",
    "        else:\n",
    "            i = i + 1\n",
    "    return alist\n",
    "        "
   ]
  },
  {
   "cell_type": "code",
   "execution_count": 165,
   "metadata": {
    "ExecuteTime": {
     "end_time": "2019-03-10T12:11:19.762091Z",
     "start_time": "2019-03-10T12:11:19.753372Z"
    }
   },
   "outputs": [
    {
     "data": {
      "text/plain": [
       "[1, 2, 3]"
      ]
     },
     "execution_count": 165,
     "metadata": {},
     "output_type": "execute_result"
    }
   ],
   "source": [
    "dup([1,2,2,2,2,3,3,3,3])"
   ]
  },
  {
   "cell_type": "markdown",
   "metadata": {},
   "source": [
    "Given two sorted integer arrays nums1 and nums2, merge nums2 into nums1 as one sorted array.\n",
    "\n",
    "Note:\n",
    "\n",
    "The number of elements initialized in nums1 and nums2 are m and n respectively. You may assume that nums1 has enough space (size that is greater or equal to m + n) to hold additional elements from nums2."
   ]
  },
  {
   "cell_type": "code",
   "execution_count": null,
   "metadata": {},
   "outputs": [],
   "source": [
    "def merge(n1, n2):\n",
    "    i = len(n1)-1\n",
    "    j = 0\n",
    "    n1 = n1[::-1]\n",
    "    start = 0\n",
    "    flag = True\n",
    "    while flag:\n",
    "        if n1[i]>n2[j]:\n",
    "            n1[start] = n2[j]\n",
    "            j+=1\n",
    "        else:\n",
    "            \n",
    "            \n",
    "        \n",
    "            "
   ]
  },
  {
   "cell_type": "code",
   "execution_count": null,
   "metadata": {},
   "outputs": [],
   "source": [
    "nums1 = [1,2,3,0,0,0] \n",
    "m = 3\n",
    "nums2 = [2,5,6]      \n",
    "n = 3"
   ]
  },
  {
   "cell_type": "code",
   "execution_count": 9,
   "metadata": {
    "ExecuteTime": {
     "end_time": "2019-03-10T21:49:02.402477Z",
     "start_time": "2019-03-10T21:49:02.390961Z"
    }
   },
   "outputs": [],
   "source": [
    "def sumsubarray(remaining, partial, target, combined):\n",
    "    if sum(partial) == target:\n",
    "        combined.append(partial)\n",
    "    if sum(partial)>target:\n",
    "        return\n",
    "    for i in range(len(remaining)):\n",
    "        sumsubarray(remaining[i+1:],partial + [remaining[i]], target, combined)\n",
    "    return combined"
   ]
  },
  {
   "cell_type": "code",
   "execution_count": 10,
   "metadata": {
    "ExecuteTime": {
     "end_time": "2019-03-10T21:49:02.710174Z",
     "start_time": "2019-03-10T21:49:02.700707Z"
    }
   },
   "outputs": [
    {
     "data": {
      "text/plain": [
       "[[1, 4, 3],\n",
       " [1, 4, 2, 1],\n",
       " [1, 5, 2],\n",
       " [1, 4, 3],\n",
       " [1, 4, 2, 1],\n",
       " [1, 1, 6],\n",
       " [1, 7],\n",
       " [4, 4],\n",
       " [4, 3, 1],\n",
       " [5, 3],\n",
       " [5, 2, 1],\n",
       " [4, 3, 1],\n",
       " [2, 6],\n",
       " [1, 7],\n",
       " [8]]"
      ]
     },
     "execution_count": 10,
     "metadata": {},
     "output_type": "execute_result"
    }
   ],
   "source": [
    "l = [1,4,5,4,3,2,1,6,7,8]\n",
    "sumsubarray(l,[], 8,[])"
   ]
  },
  {
   "cell_type": "markdown",
   "metadata": {},
   "source": [
    "merge 2 sorted lists"
   ]
  },
  {
   "cell_type": "code",
   "execution_count": 11,
   "metadata": {
    "ExecuteTime": {
     "end_time": "2019-03-10T21:59:37.503270Z",
     "start_time": "2019-03-10T21:59:37.492678Z"
    }
   },
   "outputs": [],
   "source": [
    "def merge(l1, l2):\n",
    "    l3 = []\n",
    "    i = 0\n",
    "    j = 0\n",
    "    while i <len(l1) and j<len(l2):\n",
    "        if l1[i] > l2[j]:\n",
    "            l3.append(l2[j])\n",
    "            j+=1\n",
    "        else:\n",
    "            l3.append(l1[i])\n",
    "            i+=1\n",
    "    if j == len(l2) and i < len(l1):\n",
    "        l3.extend(l1[i:])\n",
    "    if i == len(l1) and j < len(l2):\n",
    "        l3.extend(l2[j:])\n",
    "    return l3"
   ]
  },
  {
   "cell_type": "code",
   "execution_count": 12,
   "metadata": {
    "ExecuteTime": {
     "end_time": "2019-03-10T22:00:23.834738Z",
     "start_time": "2019-03-10T22:00:23.815907Z"
    }
   },
   "outputs": [
    {
     "data": {
      "text/plain": [
       "[1, 2, 2, 3, 4, 5, 7, 7, 8, 23, 23, 31, 34, 34, 40, 55, 80, 88, 99, 100, 111]"
      ]
     },
     "execution_count": 12,
     "metadata": {},
     "output_type": "execute_result"
    }
   ],
   "source": [
    "l1 = [1, 3, 7, 8, 99, 100, 111, 2, 34, 55, 34]\n",
    "l2 = [2, 4, 5, 7, 80, 88, 23, 31, 23, 40]\n",
    "l1 = sorted(l1)\n",
    "l2 = sorted(l2)\n",
    "merge(l1, l2)"
   ]
  },
  {
   "cell_type": "markdown",
   "metadata": {},
   "source": [
    "Given an array of integers, return indices of the two numbers such that they add up to a specific target.\n",
    "\n",
    "You may assume that each input would have exactly one solution, and you may not use the same element twice.\n",
    "\n"
   ]
  },
  {
   "cell_type": "code",
   "execution_count": 13,
   "metadata": {
    "ExecuteTime": {
     "end_time": "2019-03-10T22:03:13.777618Z",
     "start_time": "2019-03-10T22:03:13.766534Z"
    }
   },
   "outputs": [],
   "source": [
    "def sum2(l1, target):\n",
    "    for i in range(len(l1)):\n",
    "        if target - l1[i] in l1[i+1:]:\n",
    "            return [i, l1.index(target-l1[i])]\n",
    "        \n",
    "                "
   ]
  },
  {
   "cell_type": "code",
   "execution_count": 16,
   "metadata": {
    "ExecuteTime": {
     "end_time": "2019-03-10T22:03:43.110683Z",
     "start_time": "2019-03-10T22:03:43.100477Z"
    }
   },
   "outputs": [
    {
     "data": {
      "text/plain": [
       "[0, 3]"
      ]
     },
     "execution_count": 16,
     "metadata": {},
     "output_type": "execute_result"
    }
   ],
   "source": [
    "l = [2,3,4,8,9]\n",
    "t = 7\n",
    "sum2(l,10)"
   ]
  },
  {
   "cell_type": "markdown",
   "metadata": {},
   "source": [
    "Contain duplicate\n",
    "\n",
    "Given an array of integers, find if the array contains any duplicates.\n",
    "\n",
    "Your function should return true if any value appears at least twice in the array, and it should return false if every element is distinct."
   ]
  },
  {
   "cell_type": "code",
   "execution_count": 20,
   "metadata": {
    "ExecuteTime": {
     "end_time": "2019-03-10T22:05:24.613695Z",
     "start_time": "2019-03-10T22:05:24.602190Z"
    }
   },
   "outputs": [],
   "source": [
    "def dup(l):\n",
    "    return len(l) != len(set(l))"
   ]
  },
  {
   "cell_type": "code",
   "execution_count": 21,
   "metadata": {
    "ExecuteTime": {
     "end_time": "2019-03-10T22:05:24.925712Z",
     "start_time": "2019-03-10T22:05:24.915211Z"
    }
   },
   "outputs": [
    {
     "data": {
      "text/plain": [
       "True"
      ]
     },
     "execution_count": 21,
     "metadata": {},
     "output_type": "execute_result"
    }
   ],
   "source": [
    "l = [1, 1, 1, 3, 3, 4, 3, 2, 4, 2]\n",
    "dup(l)"
   ]
  },
  {
   "cell_type": "code",
   "execution_count": 23,
   "metadata": {
    "ExecuteTime": {
     "end_time": "2019-03-10T22:05:35.600626Z",
     "start_time": "2019-03-10T22:05:35.582922Z"
    }
   },
   "outputs": [
    {
     "data": {
      "text/plain": [
       "False"
      ]
     },
     "execution_count": 23,
     "metadata": {},
     "output_type": "execute_result"
    }
   ],
   "source": [
    "l = [1, 2, 3, 4]\n",
    "dup(l)"
   ]
  },
  {
   "cell_type": "markdown",
   "metadata": {},
   "source": [
    "Rotate array\n",
    "\n",
    "Given an array, rotate the array to the right by k steps, where k is non-negative.\n",
    "\n",
    "Input: [1,2,3,4,5,6,7] and k = 3 Output: [5,6,7,1,2,3,4]"
   ]
  },
  {
   "cell_type": "code",
   "execution_count": 24,
   "metadata": {
    "ExecuteTime": {
     "end_time": "2019-03-10T22:07:03.208496Z",
     "start_time": "2019-03-10T22:07:03.198035Z"
    }
   },
   "outputs": [],
   "source": [
    "def rotate(l, k):\n",
    "    return l[k:]+l[:k]"
   ]
  },
  {
   "cell_type": "code",
   "execution_count": 25,
   "metadata": {
    "ExecuteTime": {
     "end_time": "2019-03-10T22:07:18.426256Z",
     "start_time": "2019-03-10T22:07:18.411679Z"
    }
   },
   "outputs": [
    {
     "data": {
      "text/plain": [
       "[5, 6, 7, 1, 2, 3, 4]"
      ]
     },
     "execution_count": 25,
     "metadata": {},
     "output_type": "execute_result"
    }
   ],
   "source": [
    "l = [1, 2, 3, 4, 5, 6, 7]\n",
    "k = 4\n",
    "rotate(l, 4)\n"
   ]
  },
  {
   "cell_type": "code",
   "execution_count": 26,
   "metadata": {
    "ExecuteTime": {
     "end_time": "2019-03-10T22:08:55.329395Z",
     "start_time": "2019-03-10T22:08:55.321417Z"
    }
   },
   "outputs": [],
   "source": [
    "#without extra space\n",
    "def rotate2(l, k):\n",
    "    for i in range(len(l)-k):\n",
    "        l[i], l[i+k] = l[i+k], l[i]\n",
    "    return l"
   ]
  },
  {
   "cell_type": "code",
   "execution_count": 27,
   "metadata": {
    "ExecuteTime": {
     "end_time": "2019-03-10T22:09:01.204372Z",
     "start_time": "2019-03-10T22:09:01.187746Z"
    }
   },
   "outputs": [
    {
     "data": {
      "text/plain": [
       "[5, 6, 7, 4, 1, 2, 3]"
      ]
     },
     "execution_count": 27,
     "metadata": {},
     "output_type": "execute_result"
    }
   ],
   "source": [
    "l = [1, 2, 3, 4, 5, 6, 7]\n",
    "k = 4\n",
    "rotate2(l, 4)\n"
   ]
  },
  {
   "cell_type": "markdown",
   "metadata": {},
   "source": [
    "Write a program that can determine the height of an arbitrary binary tree\n",
    "\n",
    "Find the max depth of the left subtree\n",
    "Find the max depth of the right subtree\n",
    "Return the larger one\n",
    "This has to be done recursively"
   ]
  },
  {
   "cell_type": "code",
   "execution_count": 32,
   "metadata": {
    "ExecuteTime": {
     "end_time": "2019-03-11T18:28:35.286480Z",
     "start_time": "2019-03-11T18:28:35.276744Z"
    }
   },
   "outputs": [
    {
     "name": "stdout",
     "output_type": "stream",
     "text": [
      "Height of tree is 3\n"
     ]
    }
   ],
   "source": [
    "class Node:\n",
    "    def __init__(self, val, left=None, right=None):\n",
    "        self.val = val\n",
    "        self.left = left\n",
    "        self.right = right\n",
    "        self.depth = 0\n",
    "def depth(node):\n",
    "    if node is None: return 0\n",
    "    left = depth(node.left)\n",
    "    right = depth(node.right)\n",
    "    if left > right:\n",
    "        return left + 1\n",
    "    else: return right + 1\n",
    "    \n",
    "root = Node(1)\n",
    "root.left = Node(2)\n",
    "root.right = Node(3)\n",
    "root.left.left = Node(4)\n",
    "root.left.right = Node(5)\n",
    "\n",
    "print(\"Height of tree is %d\" % (depth(root)))"
   ]
  },
  {
   "cell_type": "markdown",
   "metadata": {},
   "source": [
    "Calculating a square root"
   ]
  },
  {
   "cell_type": "code",
   "execution_count": 39,
   "metadata": {
    "ExecuteTime": {
     "end_time": "2019-03-11T18:58:12.267571Z",
     "start_time": "2019-03-11T18:58:12.254607Z"
    }
   },
   "outputs": [],
   "source": [
    "def mysqrt(num):\n",
    "    if num == 0 or num == 1:\n",
    "        return num\n",
    "    upper = num\n",
    "    lower = 0\n",
    "    middle = num//2\n",
    "    while upper <= lower:\n",
    "        middle = (lower+upper)//2\n",
    "        if middle * middle < num:\n",
    "            lower = middle + 1\n",
    "        elif middle * middle > num:\n",
    "            upper = upper - 1\n",
    "        else:\n",
    "            return middle\n",
    "    return 'No integer square root'"
   ]
  },
  {
   "cell_type": "code",
   "execution_count": 40,
   "metadata": {
    "ExecuteTime": {
     "end_time": "2019-03-11T18:58:12.643803Z",
     "start_time": "2019-03-11T18:58:12.640251Z"
    }
   },
   "outputs": [
    {
     "data": {
      "text/plain": [
       "'No integer square root'"
      ]
     },
     "execution_count": 40,
     "metadata": {},
     "output_type": "execute_result"
    }
   ],
   "source": [
    "mysqrt(6)"
   ]
  },
  {
   "cell_type": "code",
   "execution_count": 58,
   "metadata": {
    "ExecuteTime": {
     "end_time": "2019-03-11T19:17:12.874060Z",
     "start_time": "2019-03-11T19:17:12.869220Z"
    }
   },
   "outputs": [],
   "source": [
    "#Decimal precision\n",
    "\n",
    "def mysqrt(num):\n",
    "    if num == 0 or num == 1:\n",
    "        return num\n",
    "    left = 0\n",
    "    right = num\n",
    "    while left <= right:\n",
    "        middle = (left + right)/2.000\n",
    "        if abs(middle*middle - num) <= 0.01:\n",
    "            return middle\n",
    "        elif middle * middle < num:\n",
    "            left = middle + 0.001\n",
    "        else:\n",
    "            right = middle - 0.001\n",
    "    return 'No answer'\n",
    "            "
   ]
  },
  {
   "cell_type": "code",
   "execution_count": 59,
   "metadata": {
    "ExecuteTime": {
     "end_time": "2019-03-11T19:17:13.149921Z",
     "start_time": "2019-03-11T19:17:13.141588Z"
    }
   },
   "outputs": [
    {
     "data": {
      "text/plain": [
       "2.2362226562500007"
      ]
     },
     "execution_count": 59,
     "metadata": {},
     "output_type": "execute_result"
    }
   ],
   "source": [
    "mysqrt(5)"
   ]
  },
  {
   "cell_type": "markdown",
   "metadata": {},
   "source": [
    "How do you find the second largest element in a Binary Search Tree?"
   ]
  },
  {
   "cell_type": "code",
   "execution_count": 188,
   "metadata": {
    "ExecuteTime": {
     "end_time": "2019-03-12T03:45:57.612449Z",
     "start_time": "2019-03-12T03:45:57.586883Z"
    }
   },
   "outputs": [],
   "source": [
    "class bstnode:\n",
    "    def __init__(self, key, val, left=None, right=None):\n",
    "        self.val = val\n",
    "        self.key = key\n",
    "        self.left = left\n",
    "        self.right = right\n",
    "    def get(self):\n",
    "        self.val\n",
    "    \n",
    "    def setval(self):\n",
    "        self.val = val\n",
    "    \n",
    "    \n",
    "class bst:\n",
    "    def __init__(self):\n",
    "        self.root = None\n",
    "    \n",
    "    def preorder_(self, currentnode):\n",
    "        if currentnode == None:\n",
    "            return\n",
    "        print(currentnode.val)\n",
    "        self.preorder_(currentnode.left)\n",
    "        self.preorder_(currentnode.right)\n",
    "        \n",
    "    def insert(self, key, val):\n",
    "        if self.root is None:\n",
    "            self.root = bstnode(key, val)\n",
    "        else:\n",
    "            self.insert_node(self.root, key, val)\n",
    "\n",
    "        \n",
    "    def find(self, item):\n",
    "        return self.find_node(self.root, item)\n",
    "\n",
    "    def find_node(self, current_node, item):\n",
    "        if current_node is None: return \"Empty tree\"\n",
    "        elif item == current_node.key:\n",
    "            return current_node.val\n",
    "        elif item < current_node.key:\n",
    "            return self.find_node(current_node.left, item)\n",
    "        else:\n",
    "            return self.find_node(current_node.right, item)\n",
    "\n",
    "    def traverse(self):\n",
    "        return self.preorder_(self.root)\n",
    "\n",
    "    def insert_node(self, current_node, key, val):\n",
    "        if key < current_node.key:\n",
    "            if current_node.left is None:\n",
    "                current_node.left = bstnode(key, val)\n",
    "            else:\n",
    "                self.insert_node(current_node.left, key, val)\n",
    "        elif key > current_node.key:\n",
    "            if current_node.right is None:\n",
    "                current_node.right = bstnode(key, val)\n",
    "            else:\n",
    "                self.insert_node(current_node.right, key, val)\n",
    "        else:\n",
    "            current_node.val = val"
   ]
  },
  {
   "cell_type": "code",
   "execution_count": 259,
   "metadata": {
    "ExecuteTime": {
     "end_time": "2019-03-12T04:15:56.570075Z",
     "start_time": "2019-03-12T04:15:56.548522Z"
    }
   },
   "outputs": [],
   "source": [
    "mybst = bst()\n",
    "\n",
    "mybst.insert(100, \"Shikhar\")\n",
    "\n",
    "mybst.insert(120, \"Neerja\")\n",
    "\n",
    "mybst.insert(90, \"Prince\")\n",
    "\n",
    "mybst.insert(300, \"Alvira\")\n",
    "\n",
    "mybst.insert(420, \"Kerem\")\n",
    "mybst.insert(480, \"Kerem\")\n",
    "mybst.insert(540, \"Kerem\")\n",
    "\n",
    "mybst.insert(50, \"Akshay\")\n",
    "\n",
    "mybst.insert(310, \"Alvira1\")\n",
    "mybst.insert(312, \"Alvira4\")\n",
    "mybst.insert(315, \"Alvira4\")"
   ]
  },
  {
   "cell_type": "code",
   "execution_count": 260,
   "metadata": {
    "ExecuteTime": {
     "end_time": "2019-03-12T04:15:56.899505Z",
     "start_time": "2019-03-12T04:15:56.885061Z"
    }
   },
   "outputs": [],
   "source": [
    "def second_largest(root):\n",
    "    node = root\n",
    "    parent = root\n",
    "    while True:\n",
    "        if node:\n",
    "            if node.right:\n",
    "                parent = node\n",
    "                node = node.right\n",
    "            elif not node.right and node.left:\n",
    "                node = node.left\n",
    "                while True:\n",
    "                    if node:\n",
    "                        if not node.right: \n",
    "                            return node.key\n",
    "                        node = node.right\n",
    "            else:\n",
    "                return parent.key    \n"
   ]
  },
  {
   "cell_type": "code",
   "execution_count": 261,
   "metadata": {
    "ExecuteTime": {
     "end_time": "2019-03-12T04:15:58.081140Z",
     "start_time": "2019-03-12T04:15:58.073457Z"
    }
   },
   "outputs": [
    {
     "data": {
      "text/plain": [
       "480"
      ]
     },
     "execution_count": 261,
     "metadata": {},
     "output_type": "execute_result"
    }
   ],
   "source": [
    "second_largest(mybst.root)"
   ]
  },
  {
   "cell_type": "markdown",
   "metadata": {},
   "source": [
    "Given an array nums of n integers, are there elements a, b, c in nums such that a + b + c = 0? Find all unique triplets in the array which gives the sum of zero."
   ]
  },
  {
   "cell_type": "code",
   "execution_count": 82,
   "metadata": {
    "ExecuteTime": {
     "end_time": "2019-03-11T22:37:55.782167Z",
     "start_time": "2019-03-11T22:37:55.770229Z"
    }
   },
   "outputs": [],
   "source": [
    "def sum3(remaining, target, partial=[], combined = []):\n",
    "    if len(partial) > 3:\n",
    "        return\n",
    "    if sum(partial) == target and len(partial) == 3: \n",
    "        if sorted(partial) not in combined:\n",
    "            combined.append(sorted(partial))\n",
    "    for i in remaining:\n",
    "        sum3(remaining[i+1:], target, partial + [i], combined)\n",
    "    return combined\n",
    "    "
   ]
  },
  {
   "cell_type": "code",
   "execution_count": 83,
   "metadata": {
    "ExecuteTime": {
     "end_time": "2019-03-11T22:37:56.361540Z",
     "start_time": "2019-03-11T22:37:56.340925Z"
    }
   },
   "outputs": [
    {
     "data": {
      "text/plain": [
       "[[-1, -1, 2], [-1, 0, 1], [0, 0, 0]]"
      ]
     },
     "execution_count": 83,
     "metadata": {},
     "output_type": "execute_result"
    }
   ],
   "source": [
    "nums = [-1, 0, 1, 2, -1, -4,0,0]\n",
    "sum3(nums, 0)"
   ]
  },
  {
   "cell_type": "code",
   "execution_count": 271,
   "metadata": {
    "ExecuteTime": {
     "end_time": "2019-03-12T05:01:32.614522Z",
     "start_time": "2019-03-12T05:01:32.595668Z"
    }
   },
   "outputs": [],
   "source": [
    "def sum3(alist):\n",
    "    new = []\n",
    "    for i in range(len(alist)):\n",
    "        print(alist[i])\n",
    "        for j in range(i, len(alist)):\n",
    "            print(alist[j])\n",
    "            if -(alist[i] + alist[j]) in alist[j+1:]:\n",
    "                new.append([alist[i], alist[j], -(alist[i]+alist[j])])\n",
    "    return new"
   ]
  },
  {
   "cell_type": "code",
   "execution_count": 272,
   "metadata": {
    "ExecuteTime": {
     "end_time": "2019-03-12T05:01:33.205576Z",
     "start_time": "2019-03-12T05:01:33.175959Z"
    }
   },
   "outputs": [
    {
     "name": "stdout",
     "output_type": "stream",
     "text": [
      "-1\n",
      "-1\n",
      "0\n",
      "1\n",
      "2\n",
      "-1\n",
      "-4\n",
      "0\n",
      "0\n",
      "0\n",
      "0\n",
      "1\n",
      "2\n",
      "-1\n",
      "-4\n",
      "0\n",
      "0\n",
      "1\n",
      "1\n",
      "2\n",
      "-1\n",
      "-4\n",
      "0\n",
      "0\n",
      "2\n",
      "2\n",
      "-1\n",
      "-4\n",
      "0\n",
      "0\n",
      "-1\n",
      "-1\n",
      "-4\n",
      "0\n",
      "0\n",
      "-4\n",
      "-4\n",
      "0\n",
      "0\n",
      "0\n",
      "0\n",
      "0\n",
      "0\n",
      "0\n"
     ]
    },
    {
     "data": {
      "text/plain": [
       "[[-1, -1, 2],\n",
       " [-1, 0, 1],\n",
       " [-1, 1, 0],\n",
       " [-1, 2, -1],\n",
       " [0, 0, 0],\n",
       " [0, 1, -1],\n",
       " [0, 0, 0],\n",
       " [1, -1, 0],\n",
       " [2, 2, -4],\n",
       " [0, 0, 0]]"
      ]
     },
     "execution_count": 272,
     "metadata": {},
     "output_type": "execute_result"
    }
   ],
   "source": [
    "nums = [-1, 0, 1, 2, -1, -4,0,0]\n",
    "sum3(nums)"
   ]
  },
  {
   "cell_type": "markdown",
   "metadata": {},
   "source": [
    "You are a professional robber planning to rob houses along a street. Each house has a certain amount of money stashed, the only constraint stopping you from robbing each of them is that adjacent houses have security system connected and it will automatically contact the police if two adjacent houses were broken into on the same night.\n",
    "\n",
    "Given a list of non-negative integers representing the amount of money of each house, determine the maximum amount of money you can rob tonight without alerting the police."
   ]
  },
  {
   "cell_type": "code",
   "execution_count": 84,
   "metadata": {
    "ExecuteTime": {
     "end_time": "2019-03-11T22:38:53.479534Z",
     "start_time": "2019-03-11T22:38:53.466288Z"
    }
   },
   "outputs": [],
   "source": [
    "l = [100,1,2,4,5,123,43,21,123]"
   ]
  },
  {
   "cell_type": "code",
   "execution_count": 93,
   "metadata": {
    "ExecuteTime": {
     "end_time": "2019-03-11T22:58:18.526998Z",
     "start_time": "2019-03-11T22:58:18.517099Z"
    }
   },
   "outputs": [],
   "source": [
    "def robbery(l):\n",
    "    if len(l) == 1: return l[0]\n",
    "    elif len(l) == 2: return max(l[0], l[1])\n",
    "    elif len(l) == 3: return max(l[0]+l[2], l[1])\n",
    "    smax = 0\n",
    "    for i in range(len(l)-2):\n",
    "        s = l[i] + robbery(l[i+2:])\n",
    "        if s > smax:\n",
    "            smax = s\n",
    "    return smax"
   ]
  },
  {
   "cell_type": "code",
   "execution_count": 94,
   "metadata": {
    "ExecuteTime": {
     "end_time": "2019-03-11T22:58:18.866545Z",
     "start_time": "2019-03-11T22:58:18.850764Z"
    }
   },
   "outputs": [
    {
     "data": {
      "text/plain": [
       "350"
      ]
     },
     "execution_count": 94,
     "metadata": {},
     "output_type": "execute_result"
    }
   ],
   "source": [
    "robbery(l)"
   ]
  },
  {
   "cell_type": "markdown",
   "metadata": {},
   "source": [
    "Given an array nums, write a function to move all 0's to the end of it while maintaining the relative order of the non-zero elements.\n",
    "Input = [0,1,0,3,12]\n",
    "Output = [1,3,12,0,0]"
   ]
  },
  {
   "cell_type": "markdown",
   "metadata": {},
   "source": [
    "You must do this in-place without making a copy of the array. Minimize the total number of operations."
   ]
  },
  {
   "cell_type": "code",
   "execution_count": 107,
   "metadata": {
    "ExecuteTime": {
     "end_time": "2019-03-11T23:46:00.019122Z",
     "start_time": "2019-03-11T23:46:00.007425Z"
    }
   },
   "outputs": [],
   "source": [
    "def movezero(alist):\n",
    "    for i in range(len(alist)):\n",
    "        if alist[i] == 0:\n",
    "            for j in range(i+1, len(alist)):\n",
    "                if alist[j] != 0:\n",
    "                    alist[i], alist[j] = alist[j], alist[i]\n",
    "                    break\n",
    "    return alist"
   ]
  },
  {
   "cell_type": "code",
   "execution_count": 109,
   "metadata": {
    "ExecuteTime": {
     "end_time": "2019-03-11T23:46:15.158991Z",
     "start_time": "2019-03-11T23:46:15.146416Z"
    }
   },
   "outputs": [
    {
     "name": "stdout",
     "output_type": "stream",
     "text": [
      "0\n",
      "1\n",
      "1\n",
      "3\n",
      "2\n",
      "4\n",
      "3\n",
      "6\n",
      "4\n",
      "8\n",
      "5\n",
      "6\n",
      "7\n",
      "8\n"
     ]
    },
    {
     "data": {
      "text/plain": [
       "[1, 3, 12, 13, 23, 0, 0, 0, 0]"
      ]
     },
     "execution_count": 109,
     "metadata": {},
     "output_type": "execute_result"
    }
   ],
   "source": [
    "movezero([0,1,0,3,12, 0, 13, 0, 23])"
   ]
  },
  {
   "cell_type": "markdown",
   "metadata": {},
   "source": [
    "https://leetcode.com/problems/majority-element/description/\n",
    "\n",
    "Given an array of size n, find the majority element. The majority element is the element that appears more than ⌊ n/2 ⌋ times.\n",
    "\n",
    "You may assume that the array is non-empty and the majority element always exist in the array."
   ]
  },
  {
   "cell_type": "code",
   "execution_count": 110,
   "metadata": {
    "ExecuteTime": {
     "end_time": "2019-03-11T23:49:09.059134Z",
     "start_time": "2019-03-11T23:49:09.053955Z"
    }
   },
   "outputs": [],
   "source": [
    "Input = [2,2,1,1,1,2,2]"
   ]
  },
  {
   "cell_type": "code",
   "execution_count": 119,
   "metadata": {
    "ExecuteTime": {
     "end_time": "2019-03-11T23:53:53.468952Z",
     "start_time": "2019-03-11T23:53:53.454068Z"
    }
   },
   "outputs": [],
   "source": [
    "def majority(alist):\n",
    "    dic = {}\n",
    "    for i in alist:\n",
    "        if i in dic:\n",
    "            dic[i]+=1\n",
    "        else:\n",
    "            dic[i] = 1\n",
    "    dic = sorted(dic, reverse=True)\n",
    "    return dic[0]"
   ]
  },
  {
   "cell_type": "code",
   "execution_count": 120,
   "metadata": {
    "ExecuteTime": {
     "end_time": "2019-03-11T23:53:54.167319Z",
     "start_time": "2019-03-11T23:53:54.146070Z"
    }
   },
   "outputs": [
    {
     "data": {
      "text/plain": [
       "2"
      ]
     },
     "execution_count": 120,
     "metadata": {},
     "output_type": "execute_result"
    }
   ],
   "source": [
    "majority(Input)"
   ]
  },
  {
   "cell_type": "markdown",
   "metadata": {},
   "source": [
    "Say you have an array for which the ith element is the price of a given stock on day i.\n",
    "\n",
    "Design an algorithm to find the maximum profit. You may complete as many transactions as you like (i.e., buy one and sell one share of the stock multiple times).\n",
    "\n",
    "Note: You may not engage in multiple transactions at the same time (i.e., you must sell the stock before you buy again).\n",
    "\n",
    "Example 1:\n",
    "\n",
    "Input: [7,1,5,3,6,4] Output: 7 Explanation: Buy on day 2 (price = 1) and sell on day 3 (price = 5), profit = 5-1 = 4. Then buy on day 4 (price = 3) and sell on day 5 (price = 6), profit = 6-3 = 3. Example 2:\n",
    "\n",
    "Input: [1,2,3,4,5] Output: 4 Explanation: Buy on day 1 (price = 1) and sell on day 5 (price = 5), profit = 5-1 = 4. Note that you cannot buy on day 1, buy on day 2 and sell them later, as you are engaging multiple transactions at the same time. You must sell before buying again. Example 3:\n",
    "\n",
    "Input: [7,6,4,3,1] Output: 0 Explanation: In this case, no transaction is done, i.e. max profit = 0."
   ]
  },
  {
   "cell_type": "code",
   "execution_count": 160,
   "metadata": {
    "ExecuteTime": {
     "end_time": "2019-03-12T00:53:42.760432Z",
     "start_time": "2019-03-12T00:53:42.752559Z"
    }
   },
   "outputs": [],
   "source": [
    "def shares(alist):\n",
    "    if not alist:\n",
    "        return 0\n",
    "    high = low = alist[0]\n",
    "    profit = 0\n",
    "    for i in range(1, len(alist)):\n",
    "        print(low, high)\n",
    "        if alist[i] >= alist[i-1]:\n",
    "            high = alist[i]\n",
    "        else:\n",
    "            profit = profit + high - low\n",
    "            high = low = alist[i]\n",
    "\n",
    "    return profit\n",
    "        "
   ]
  },
  {
   "cell_type": "code",
   "execution_count": 161,
   "metadata": {
    "ExecuteTime": {
     "end_time": "2019-03-12T00:53:43.078277Z",
     "start_time": "2019-03-12T00:53:43.073308Z"
    }
   },
   "outputs": [
    {
     "name": "stdout",
     "output_type": "stream",
     "text": [
      "1 1\n",
      "1 2\n",
      "1 3\n",
      "1 4\n"
     ]
    },
    {
     "data": {
      "text/plain": [
       "0"
      ]
     },
     "execution_count": 161,
     "metadata": {},
     "output_type": "execute_result"
    }
   ],
   "source": [
    "shares([1,2,3,4,5])"
   ]
  },
  {
   "cell_type": "code",
   "execution_count": 162,
   "metadata": {
    "ExecuteTime": {
     "end_time": "2019-03-12T00:53:43.414988Z",
     "start_time": "2019-03-12T00:53:43.403329Z"
    }
   },
   "outputs": [
    {
     "name": "stdout",
     "output_type": "stream",
     "text": [
      "7 7\n",
      "1 1\n",
      "1 5\n",
      "3 3\n",
      "3 6\n"
     ]
    },
    {
     "data": {
      "text/plain": [
       "7"
      ]
     },
     "execution_count": 162,
     "metadata": {},
     "output_type": "execute_result"
    }
   ],
   "source": [
    "shares([7,1,5,3,6,4])"
   ]
  },
  {
   "cell_type": "markdown",
   "metadata": {},
   "source": [
    "Given an array containing n distinct numbers taken from 0, 1, 2, ..., n, find the one that is missing from the array."
   ]
  },
  {
   "cell_type": "code",
   "execution_count": 163,
   "metadata": {
    "ExecuteTime": {
     "end_time": "2019-03-12T00:57:49.402905Z",
     "start_time": "2019-03-12T00:57:49.397369Z"
    }
   },
   "outputs": [],
   "source": [
    "def missing(alist):\n",
    "    if len(alist) == max(alist):\n",
    "        return 'Nothing missing'\n",
    "    alist = sorted(alist)\n",
    "    for i in range(1, max(alist)+1):\n",
    "        if i != alist[i-1]:\n",
    "            return i\n",
    "    "
   ]
  },
  {
   "cell_type": "code",
   "execution_count": 164,
   "metadata": {
    "ExecuteTime": {
     "end_time": "2019-03-12T00:58:01.491626Z",
     "start_time": "2019-03-12T00:58:01.481345Z"
    }
   },
   "outputs": [
    {
     "data": {
      "text/plain": [
       "6"
      ]
     },
     "execution_count": 164,
     "metadata": {},
     "output_type": "execute_result"
    }
   ],
   "source": [
    "missing([1,2,3,4,5,7,8])"
   ]
  },
  {
   "cell_type": "markdown",
   "metadata": {},
   "source": [
    "Given an integer array nums, find the contiguous subarray (containing at least one number) which has the largest sum and return its sum."
   ]
  },
  {
   "cell_type": "code",
   "execution_count": 181,
   "metadata": {
    "ExecuteTime": {
     "end_time": "2019-03-12T01:16:17.336878Z",
     "start_time": "2019-03-12T01:16:17.322893Z"
    }
   },
   "outputs": [],
   "source": [
    "def maximumsubarray(alist):\n",
    "    smax = sum(alist)\n",
    "    for i in alist:\n",
    "        "
   ]
  },
  {
   "cell_type": "code",
   "execution_count": 182,
   "metadata": {
    "ExecuteTime": {
     "end_time": "2019-03-12T01:16:17.659526Z",
     "start_time": "2019-03-12T01:16:17.650589Z"
    }
   },
   "outputs": [
    {
     "name": "stdout",
     "output_type": "stream",
     "text": [
      "[1, 2, -1, -2, 2, 1, -2, 1, 4, -5, 4]\n",
      "3\n",
      "[1, 2]\n",
      "[1, 2, -1, -2, 2, 1, -2, 1, 4, -5, 4]\n",
      "2\n",
      "[1, 2, 2]\n",
      "[1, 2, -1, -2, 2, 1, -2, 1, 4, -5, 4]\n",
      "3\n",
      "[1, 2, 2, 1]\n",
      "[1, 2, -1, -2, 2, 1, -2, 1, 4, -5, 4]\n",
      "4\n",
      "[1, 2, 2, 1, 1]\n",
      "[1, 2, -1, -2, 2, 1, -2, 1, 4, -5, 4]\n",
      "8\n",
      "[1, 2, 2, 1, 1, 4]\n",
      "[1, 2, -1, -2, 2, 1, -2, 1, 4, -5, 4]\n",
      "4\n",
      "[1, 2, 2, 1, 1, 4, 4]\n"
     ]
    },
    {
     "data": {
      "text/plain": [
       "8"
      ]
     },
     "execution_count": 182,
     "metadata": {},
     "output_type": "execute_result"
    }
   ],
   "source": [
    "maximumsubarray([1,2,-1,-2,2,1,-2,1,4,-5,4])"
   ]
  },
  {
   "cell_type": "markdown",
   "metadata": {},
   "source": [
    "You're given a matrix represented by a two-dimensional array, and two positive integers r and c representing the row number and column number of the wanted reshaped matrix, respectively.\n",
    "\n",
    "The reshaped matrix need to be filled with all the elements of the original matrix in the same row-traversing order as they were.\n",
    "\n",
    "If the 'reshape' operation with given parameters is possible and legal, output the new reshaped matrix; Otherwise, output the original matrix."
   ]
  },
  {
   "cell_type": "code",
   "execution_count": 295,
   "metadata": {
    "ExecuteTime": {
     "end_time": "2019-03-12T05:49:59.867817Z",
     "start_time": "2019-03-12T05:49:59.850391Z"
    }
   },
   "outputs": [],
   "source": [
    "def reshape(matrix, r, c):\n",
    "    \n",
    "    if r == len(matrix) and c == len(matrix[0]):\n",
    "        return matrix\n",
    "    new = [[None]*c for i in range(r)]\n",
    "    l = 0\n",
    "    b = 0\n",
    "    for i in range(r):\n",
    "        for j in range(c):\n",
    "            new[i][j] = matrix[l][b]\n",
    "            if b+1<len(matrix[l]):\n",
    "                b+=1\n",
    "            else: \n",
    "                b= 0\n",
    "                l+=1\n",
    "    return new"
   ]
  },
  {
   "cell_type": "code",
   "execution_count": 299,
   "metadata": {
    "ExecuteTime": {
     "end_time": "2019-03-12T05:50:24.284819Z",
     "start_time": "2019-03-12T05:50:24.272756Z"
    }
   },
   "outputs": [
    {
     "data": {
      "text/plain": [
       "[[1, 2, 3, 4], [3, 4, 4, 5]]"
      ]
     },
     "execution_count": 299,
     "metadata": {},
     "output_type": "execute_result"
    }
   ],
   "source": [
    "\n",
    "nums = [[1,2],[3,4], [3,4], [4,5]]\n",
    "r = 2\n",
    "c = 4\n",
    "reshape(nums,r,c)"
   ]
  },
  {
   "cell_type": "markdown",
   "metadata": {},
   "source": [
    "\n",
    "Reverse an array without affecting special characters\n",
    "\n",
    "Given a string, that contains special character together with alphabets (‘a’ to ‘z’ and ‘A’ to ‘Z’), reverse the string in a way that special characters are not affected."
   ]
  },
  {
   "cell_type": "code",
   "execution_count": 308,
   "metadata": {
    "ExecuteTime": {
     "end_time": "2019-03-12T06:09:10.681602Z",
     "start_time": "2019-03-12T06:09:10.670544Z"
    }
   },
   "outputs": [],
   "source": [
    "def reverse(s):\n",
    "    s = list(s)\n",
    "    start = 0\n",
    "    end = len(s)-1\n",
    "    while start < end:\n",
    "        if s[start].lower() not in 'qwertyuiopasdfghjklzxcvbnm':\n",
    "            start+=1\n",
    "        elif s[end].lower() not in 'qwertyuiopasdfghjklzxcvbnm':\n",
    "            end-=1\n",
    "        else:\n",
    "            s[start], s[end] = s[end], s[start]\n",
    "            start+=1\n",
    "            end-=1\n",
    "    return ''.join(s)"
   ]
  },
  {
   "cell_type": "code",
   "execution_count": 309,
   "metadata": {
    "ExecuteTime": {
     "end_time": "2019-03-12T06:09:11.260934Z",
     "start_time": "2019-03-12T06:09:11.245762Z"
    }
   },
   "outputs": [
    {
     "data": {
      "text/plain": [
       "'ed,c,bA!$'"
      ]
     },
     "execution_count": 309,
     "metadata": {},
     "output_type": "execute_result"
    }
   ],
   "source": [
    "s = \"Ab,c,de!$\"\n",
    "reverse(s)"
   ]
  },
  {
   "cell_type": "markdown",
   "metadata": {},
   "source": [
    "Smallest subarray with sum greater than a given value"
   ]
  },
  {
   "cell_type": "code",
   "execution_count": 331,
   "metadata": {
    "ExecuteTime": {
     "end_time": "2019-03-12T09:04:07.216889Z",
     "start_time": "2019-03-12T09:04:07.208408Z"
    }
   },
   "outputs": [],
   "source": [
    "def greater(alist, num):\n",
    "    if sum(alist) < num:\n",
    "        return 'not possible'\n",
    "    min_len = len(alist) + 1\n",
    "    for i in range(len(alist)):\n",
    "        curr_sum = alist[i]\n",
    "        if curr_sum > num:\n",
    "            return 1\n",
    "        for j in range(i+1, len(alist)):\n",
    "            curr_sum+=alist[j]\n",
    "            \n",
    "            if curr_sum>num and j-i+1<min_len:\n",
    "                min_len = j-i+1\n",
    "                \n",
    "    return min_len\n",
    "                "
   ]
  },
  {
   "cell_type": "code",
   "execution_count": 332,
   "metadata": {
    "ExecuteTime": {
     "end_time": "2019-03-12T09:04:07.499403Z",
     "start_time": "2019-03-12T09:04:07.492077Z"
    }
   },
   "outputs": [
    {
     "data": {
      "text/plain": [
       "3"
      ]
     },
     "execution_count": 332,
     "metadata": {},
     "output_type": "execute_result"
    }
   ],
   "source": [
    "arr1 = [1, 4, 45, 6, 10, 19] \n",
    "x = 51\n",
    "n1 = len(arr1) \n",
    "greater(arr1, x)"
   ]
  },
  {
   "cell_type": "code",
   "execution_count": 334,
   "metadata": {
    "ExecuteTime": {
     "end_time": "2019-03-12T09:04:34.461906Z",
     "start_time": "2019-03-12T09:04:34.447550Z"
    }
   },
   "outputs": [
    {
     "data": {
      "text/plain": [
       "1"
      ]
     },
     "execution_count": 334,
     "metadata": {},
     "output_type": "execute_result"
    }
   ],
   "source": [
    "arr2 = [1, 10, 5, 2, 7] \n",
    "n2 = len(arr2) \n",
    "x = 9\n",
    "greater(arr2, x)"
   ]
  },
  {
   "cell_type": "markdown",
   "metadata": {},
   "source": [
    "\n",
    "Count triplets with sum smaller than a given value"
   ]
  },
  {
   "cell_type": "markdown",
   "metadata": {},
   "source": [
    "Given an array of distinct integers and a sum value. Find count of triplets with sum smaller than given sum value. Expected Time Complexity is O(n2)."
   ]
  },
  {
   "cell_type": "code",
   "execution_count": 338,
   "metadata": {
    "ExecuteTime": {
     "end_time": "2019-03-12T09:18:00.536810Z",
     "start_time": "2019-03-12T09:18:00.529609Z"
    }
   },
   "outputs": [],
   "source": [
    "def triplets(alist, value, partial = [], combined = []):\n",
    "    if len(partial) == 3 and sum(partial) < value:\n",
    "        combined.append(partial)\n",
    "        return\n",
    "    for i in range(len(alist)):\n",
    "        if alist[i] < value:\n",
    "            triplets(alist[i+1:], value, partial + [alist[i]], combined)\n",
    "    return len(combined)\n",
    "        \n",
    "        "
   ]
  },
  {
   "cell_type": "code",
   "execution_count": 339,
   "metadata": {
    "ExecuteTime": {
     "end_time": "2019-03-12T09:18:00.894969Z",
     "start_time": "2019-03-12T09:18:00.882075Z"
    }
   },
   "outputs": [
    {
     "data": {
      "text/plain": [
       "4"
      ]
     },
     "execution_count": 339,
     "metadata": {},
     "output_type": "execute_result"
    }
   ],
   "source": [
    "nums = [5, 1, 3, 4, 7]\n",
    "triplets(nums, 12)"
   ]
  },
  {
   "cell_type": "code",
   "execution_count": 365,
   "metadata": {
    "ExecuteTime": {
     "end_time": "2019-03-12T09:32:22.312739Z",
     "start_time": "2019-03-12T09:32:22.302080Z"
    }
   },
   "outputs": [],
   "source": [
    "# other\n",
    "def countTriplets(alist, target):\n",
    "    new = sorted(alist)\n",
    "    i = 0\n",
    "    j = len(alist)\n",
    "    total = 0\n",
    "    for k in range(len(alist)):\n",
    "        i = k+1\n",
    "        j = len(alist)-1\n",
    "        while i<j:\n",
    "            if new[k] + new[i] + new[j] < target:\n",
    "                print(i, j)\n",
    "                print(new[k], new[i] , new[j])\n",
    "                total = total + j-i\n",
    "                i+=1\n",
    "            else:\n",
    "                j-=1\n",
    "    return total\n",
    "            "
   ]
  },
  {
   "cell_type": "code",
   "execution_count": 366,
   "metadata": {
    "ExecuteTime": {
     "end_time": "2019-03-12T09:32:22.618339Z",
     "start_time": "2019-03-12T09:32:22.610648Z"
    }
   },
   "outputs": [
    {
     "name": "stdout",
     "output_type": "stream",
     "text": [
      "1 4\n",
      "1 3 7\n",
      "2 3\n",
      "1 4 5\n"
     ]
    },
    {
     "data": {
      "text/plain": [
       "4"
      ]
     },
     "execution_count": 366,
     "metadata": {},
     "output_type": "execute_result"
    }
   ],
   "source": [
    "countTriplets(nums, 12)"
   ]
  },
  {
   "cell_type": "markdown",
   "metadata": {
    "ExecuteTime": {
     "end_time": "2019-03-12T10:00:45.568579Z",
     "start_time": "2019-03-12T10:00:45.557807Z"
    }
   },
   "source": [
    "\n",
    "https://leetcode.com/problems/summary-ranges/\n",
    "\n",
    "Given a sorted integer array without duplicates, return the summary of its ranges.\n",
    "\n",
    "For example, given[0,1,2,4,5,7], return[\"0->2\",\"4->5\",\"7\"]."
   ]
  },
  {
   "cell_type": "code",
   "execution_count": 439,
   "metadata": {
    "ExecuteTime": {
     "end_time": "2019-03-12T10:30:03.477757Z",
     "start_time": "2019-03-12T10:30:03.466506Z"
    }
   },
   "outputs": [],
   "source": [
    "def ranges(alist):\n",
    "    r = alist[0]\n",
    "    x = []\n",
    "    for i in range(1, len(alist)):\n",
    "        \n",
    "        if alist[i] != alist[i-1] + 1:\n",
    "            if r == alist[i-1]:\n",
    "                x.append((str(r)))\n",
    "                r = alist[i]\n",
    "            else:\n",
    "                x.append((str(r) + '->'+ str(alist[i-1])))\n",
    "                #print(x)\n",
    "                r = alist[i]\n",
    "    if alist[i] != alist[i-1] +1:\n",
    "#         x.append((str(r) + '->'+ str(alist[i-1])))\n",
    "        x.append(str(alist[i]))\n",
    "    else:\n",
    "        x.append((str(r) + '->'+ str(alist[i])))\n",
    "    return x\n",
    "            \n",
    "        "
   ]
  },
  {
   "cell_type": "code",
   "execution_count": 442,
   "metadata": {
    "ExecuteTime": {
     "end_time": "2019-03-12T10:30:16.329576Z",
     "start_time": "2019-03-12T10:30:16.326621Z"
    }
   },
   "outputs": [
    {
     "data": {
      "text/plain": [
       "['0', '2', '4->5', '7', '9', '11', '14', '16->17']"
      ]
     },
     "execution_count": 442,
     "metadata": {},
     "output_type": "execute_result"
    }
   ],
   "source": [
    "ranges([0,2,4,5,7, 9, 11, 14, 16, 17])"
   ]
  },
  {
   "cell_type": "markdown",
   "metadata": {},
   "source": [
    "\n",
    "https://dxmahata.gitbooks.io/leetcode-python-solutions/content/intersection_of_two_arrays.html\n",
    "\n",
    "Given two arrays, write a function to compute their intersection.\n",
    "\n",
    "Example: Given nums1 = [1, 2, 2, 1], nums2 = [2, 2], return [2].\n",
    "\n",
    "Note: Each element in the result must be unique. The result can be in any order."
   ]
  },
  {
   "cell_type": "code",
   "execution_count": 446,
   "metadata": {
    "ExecuteTime": {
     "end_time": "2019-03-12T10:32:38.555820Z",
     "start_time": "2019-03-12T10:32:38.543509Z"
    }
   },
   "outputs": [],
   "source": [
    "def intersection(num1, num2):\n",
    "    intersection = []\n",
    "    if len(num1) <= len(num2):\n",
    "        for i in num1:\n",
    "            if i in num2:\n",
    "                intersection.append(i)\n",
    "    else:\n",
    "        for i in num1:\n",
    "            if i in num2:\n",
    "                intersection.append(i)\n",
    "    return set(intersection)"
   ]
  },
  {
   "cell_type": "code",
   "execution_count": 448,
   "metadata": {
    "ExecuteTime": {
     "end_time": "2019-03-12T10:32:50.521662Z",
     "start_time": "2019-03-12T10:32:50.513488Z"
    }
   },
   "outputs": [
    {
     "data": {
      "text/plain": [
       "{1, 2, 5}"
      ]
     },
     "execution_count": 448,
     "metadata": {},
     "output_type": "execute_result"
    }
   ],
   "source": [
    "intersection([1, 2, 2, 1, 5], [2,2, 5, 5, 1])"
   ]
  },
  {
   "cell_type": "markdown",
   "metadata": {},
   "source": [
    "\n",
    "https://dxmahata.gitbooks.io/leetcode-python-solutions/content/reverse_vowels_of_a_string.html\n",
    "\n",
    "Write a function that takes a string as input and reverse only the vowels of a string.\n",
    "\n",
    "Example 1: Given s = \"hello\", return \"holle\".\n",
    "\n",
    "Example 2: Given s = \"leetcode\", return \"leotcede\".\n",
    "\n",
    "Note: The vowels does not include the letter \"y\"."
   ]
  },
  {
   "cell_type": "code",
   "execution_count": 466,
   "metadata": {
    "ExecuteTime": {
     "end_time": "2019-03-12T10:40:48.239270Z",
     "start_time": "2019-03-12T10:40:48.224584Z"
    }
   },
   "outputs": [],
   "source": [
    "def reversevowel(s):\n",
    "    s = list(s)\n",
    "    start = 0\n",
    "    end = len(s)-1\n",
    "    vowels = 'aeiou'\n",
    "    while start <= end:\n",
    "        print(start, end)\n",
    "        if s[start].lower() in vowels and s[end].lower() in vowels:\n",
    "            s[start], s[end] = s[end], s[start]\n",
    "            start+=1\n",
    "            end-=1\n",
    "        elif s[start].lower() in vowels and s[end].lower() not in vowels:\n",
    "             end-=1\n",
    "        elif s[start].lower() not in vowels and s[end].lower() in vowels:\n",
    "            start+=1\n",
    "        else:\n",
    "            start+=1\n",
    "            end-=1\n",
    "    return ''.join(s)\n",
    "            "
   ]
  },
  {
   "cell_type": "code",
   "execution_count": 467,
   "metadata": {
    "ExecuteTime": {
     "end_time": "2019-03-12T10:40:48.560879Z",
     "start_time": "2019-03-12T10:40:48.557036Z"
    }
   },
   "outputs": [
    {
     "name": "stdout",
     "output_type": "stream",
     "text": [
      "0 4\n",
      "1 4\n",
      "2 3\n"
     ]
    },
    {
     "data": {
      "text/plain": [
       "'holle'"
      ]
     },
     "execution_count": 467,
     "metadata": {},
     "output_type": "execute_result"
    }
   ],
   "source": [
    "s = \"hello\"\n",
    "reversevowel(s)"
   ]
  },
  {
   "cell_type": "code",
   "execution_count": 469,
   "metadata": {
    "ExecuteTime": {
     "end_time": "2019-03-12T10:41:17.069791Z",
     "start_time": "2019-03-12T10:41:17.054585Z"
    }
   },
   "outputs": [
    {
     "name": "stdout",
     "output_type": "stream",
     "text": [
      "0 7\n",
      "1 7\n",
      "2 6\n",
      "2 5\n",
      "3 4\n"
     ]
    },
    {
     "data": {
      "text/plain": [
       "'leotcede'"
      ]
     },
     "execution_count": 469,
     "metadata": {},
     "output_type": "execute_result"
    }
   ],
   "source": [
    "s = \"leetcode\"\n",
    "reversevowel(s)"
   ]
  },
  {
   "cell_type": "markdown",
   "metadata": {},
   "source": [
    "\n",
    "https://dxmahata.gitbooks.io/leetcode-python-solutions/content/intersection_of_two_arrays_ii.html\n",
    "\n",
    "Given two arrays, write a function to compute their intersection.\n",
    "\n",
    "Example: Given nums1 = [1, 2, 2, 1], nums2 = [2, 2], return [2, 2].\n",
    "\n",
    "Note: Each element in the result should appear as many times as it shows in both arrays. The result can be in any order. Follow up: What if the given array is already sorted? How would you optimize your algorithm? What if nums1's size is small compared to nums2's size? Which algorithm is better? What if elements of nums2 are stored on disk, and the memory is limited such that you cannot load all elements into the memory at once?"
   ]
  },
  {
   "cell_type": "code",
   "execution_count": 470,
   "metadata": {
    "ExecuteTime": {
     "end_time": "2019-03-12T10:49:35.903123Z",
     "start_time": "2019-03-12T10:49:35.894937Z"
    }
   },
   "outputs": [],
   "source": [
    "def intersection(num1, num2):\n",
    "    intersection = []\n",
    "    if len(num1) <= len(num2):\n",
    "        for i in num1:\n",
    "            if i in num2:\n",
    "                intersection.append(i)\n",
    "    else:\n",
    "        for i in num1:\n",
    "            if i in num2:\n",
    "                intersection.append(i)\n",
    "    return (intersection)"
   ]
  },
  {
   "cell_type": "code",
   "execution_count": 473,
   "metadata": {
    "ExecuteTime": {
     "end_time": "2019-03-12T10:49:59.992979Z",
     "start_time": "2019-03-12T10:49:59.976722Z"
    }
   },
   "outputs": [
    {
     "data": {
      "text/plain": [
       "[1, 2, 2, 1, 5]"
      ]
     },
     "execution_count": 473,
     "metadata": {},
     "output_type": "execute_result"
    }
   ],
   "source": [
    "intersection([1, 2, 2, 1, 5], [2,2, 5, 5, 1])"
   ]
  },
  {
   "cell_type": "markdown",
   "metadata": {},
   "source": [
    "Write a function to determine whether 2 strings are anagrams"
   ]
  },
  {
   "cell_type": "code",
   "execution_count": 474,
   "metadata": {
    "ExecuteTime": {
     "end_time": "2019-03-12T10:51:03.778885Z",
     "start_time": "2019-03-12T10:51:03.773469Z"
    }
   },
   "outputs": [],
   "source": [
    "def anagrams(s1, s2):\n",
    "    return set(s1) == set(s2)"
   ]
  },
  {
   "cell_type": "code",
   "execution_count": 475,
   "metadata": {
    "ExecuteTime": {
     "end_time": "2019-03-12T10:51:15.058047Z",
     "start_time": "2019-03-12T10:51:15.050572Z"
    }
   },
   "outputs": [
    {
     "data": {
      "text/plain": [
       "True"
      ]
     },
     "execution_count": 475,
     "metadata": {},
     "output_type": "execute_result"
    }
   ],
   "source": [
    "str1 = \"test\"\n",
    "str2 = \"ttes\"\n",
    "anagrams(str1, str2)"
   ]
  },
  {
   "cell_type": "code",
   "execution_count": 477,
   "metadata": {
    "ExecuteTime": {
     "end_time": "2019-03-12T10:51:31.785763Z",
     "start_time": "2019-03-12T10:51:31.777677Z"
    }
   },
   "outputs": [
    {
     "data": {
      "text/plain": [
       "False"
      ]
     },
     "execution_count": 477,
     "metadata": {},
     "output_type": "execute_result"
    }
   ],
   "source": [
    "str1 = \"test\"\n",
    "str2 = \"ttew\"\n",
    "anagrams(str1,str2)"
   ]
  },
  {
   "cell_type": "markdown",
   "metadata": {},
   "source": [
    "Implement argsort without using numpy"
   ]
  },
  {
   "cell_type": "code",
   "execution_count": 479,
   "metadata": {
    "ExecuteTime": {
     "end_time": "2019-03-12T10:53:34.106346Z",
     "start_time": "2019-03-12T10:53:33.979845Z"
    }
   },
   "outputs": [
    {
     "data": {
      "text/plain": [
       "array([0, 6, 5, 1, 7, 2, 3, 4])"
      ]
     },
     "execution_count": 479,
     "metadata": {},
     "output_type": "execute_result"
    }
   ],
   "source": [
    "nums = [1,42,56,246,783,32,12,45]\n",
    "import numpy as np\n",
    "np.argsort(nums)"
   ]
  },
  {
   "cell_type": "code",
   "execution_count": 507,
   "metadata": {
    "ExecuteTime": {
     "end_time": "2019-03-12T11:00:31.891115Z",
     "start_time": "2019-03-12T11:00:31.878415Z"
    }
   },
   "outputs": [],
   "source": [
    "def arg(array):\n",
    "    sort = []\n",
    "    array_copy = array.copy()\n",
    "    for i in array:\n",
    "        min_ = min(array_copy)\n",
    "        sort.append(array.index(min_))\n",
    "        array_copy.pop(array_copy.index(min_))\n",
    "        \n",
    "    return sort"
   ]
  },
  {
   "cell_type": "code",
   "execution_count": 508,
   "metadata": {
    "ExecuteTime": {
     "end_time": "2019-03-12T11:00:32.358167Z",
     "start_time": "2019-03-12T11:00:32.350751Z"
    }
   },
   "outputs": [
    {
     "data": {
      "text/plain": [
       "[0, 6, 5, 1, 7, 2, 3, 4]"
      ]
     },
     "execution_count": 508,
     "metadata": {},
     "output_type": "execute_result"
    }
   ],
   "source": [
    "nums = [1,42,56,246,783,32,12,45]\n",
    "arg(nums)"
   ]
  },
  {
   "cell_type": "code",
   "execution_count": 524,
   "metadata": {
    "ExecuteTime": {
     "end_time": "2019-03-12T11:17:34.278247Z",
     "start_time": "2019-03-12T11:17:34.266224Z"
    }
   },
   "outputs": [],
   "source": [
    "#Assume that there are duplicates\n",
    "\n",
    "num = [1,4,3,2,4]\n",
    "def again(array):\n",
    "    arraynew = sorted(set(array))\n",
    "    e = {}\n",
    "    for i, j in enumerate(arraynew):\n",
    "        e[j] = i\n",
    "    c = [e[i] for i in array]\n",
    "    return c\n",
    "    "
   ]
  },
  {
   "cell_type": "code",
   "execution_count": 525,
   "metadata": {
    "ExecuteTime": {
     "end_time": "2019-03-12T11:17:34.534002Z",
     "start_time": "2019-03-12T11:17:34.530174Z"
    }
   },
   "outputs": [
    {
     "data": {
      "text/plain": [
       "[0, 3, 2, 1, 3]"
      ]
     },
     "execution_count": 525,
     "metadata": {},
     "output_type": "execute_result"
    }
   ],
   "source": [
    "again(num)"
   ]
  },
  {
   "cell_type": "markdown",
   "metadata": {},
   "source": [
    "Product of Array Except Self: O(n)"
   ]
  },
  {
   "cell_type": "code",
   "execution_count": 534,
   "metadata": {
    "ExecuteTime": {
     "end_time": "2019-03-12T11:23:42.353161Z",
     "start_time": "2019-03-12T11:23:42.342397Z"
    }
   },
   "outputs": [],
   "source": [
    "def product(array):\n",
    "    prod = [1]*len(array)\n",
    "    left = 1\n",
    "    right = 1\n",
    "    for i in range(len(array)-1):\n",
    "        left*=array[i]\n",
    "        prod[i+1]*=left\n",
    "        print(prod)\n",
    "        print(left)\n",
    "    for i in range(1, len(array)):\n",
    "        right*=array[-i]\n",
    "        prod[-i-1]*=right\n",
    "        print(prod)\n",
    "        print(right)\n",
    "    return prod"
   ]
  },
  {
   "cell_type": "code",
   "execution_count": 535,
   "metadata": {
    "ExecuteTime": {
     "end_time": "2019-03-12T11:23:42.701889Z",
     "start_time": "2019-03-12T11:23:42.695356Z"
    }
   },
   "outputs": [
    {
     "name": "stdout",
     "output_type": "stream",
     "text": [
      "[1, 1, 1, 1]\n",
      "1\n",
      "[1, 1, 2, 1]\n",
      "2\n",
      "[1, 1, 2, 6]\n",
      "6\n",
      "[1, 1, 8, 6]\n",
      "4\n",
      "[1, 12, 8, 6]\n",
      "12\n",
      "[24, 12, 8, 6]\n",
      "24\n"
     ]
    },
    {
     "data": {
      "text/plain": [
       "[24, 12, 8, 6]"
      ]
     },
     "execution_count": 535,
     "metadata": {},
     "output_type": "execute_result"
    }
   ],
   "source": [
    "nums = [1,2,3,4]\n",
    "product(nums)"
   ]
  },
  {
   "cell_type": "markdown",
   "metadata": {},
   "source": [
    "Permute a element of a set"
   ]
  },
  {
   "cell_type": "code",
   "execution_count": 536,
   "metadata": {
    "ExecuteTime": {
     "end_time": "2019-03-12T11:25:31.885918Z",
     "start_time": "2019-03-12T11:25:31.879580Z"
    }
   },
   "outputs": [],
   "source": [
    "nums = [1,2,3]"
   ]
  },
  {
   "cell_type": "code",
   "execution_count": 555,
   "metadata": {
    "ExecuteTime": {
     "end_time": "2019-03-12T11:32:16.344725Z",
     "start_time": "2019-03-12T11:32:16.340759Z"
    }
   },
   "outputs": [],
   "source": [
    "def permute(nums):\n",
    "    if len(nums) == 0: return []\n",
    "    if len(nums) == 1: return [nums]\n",
    "    l = []\n",
    "    for i in range(len(nums)):\n",
    "        e = nums[i]\n",
    "        print('nums', nums)\n",
    "        rest = nums[:i] + nums[i+1:]\n",
    "        print('rest', rest)\n",
    "        for j in permute(rest):\n",
    "            l.append([e] + j)\n",
    "            print('l', l)\n",
    "    return l"
   ]
  },
  {
   "cell_type": "code",
   "execution_count": 556,
   "metadata": {
    "ExecuteTime": {
     "end_time": "2019-03-12T11:32:16.964202Z",
     "start_time": "2019-03-12T11:32:16.947027Z"
    }
   },
   "outputs": [
    {
     "name": "stdout",
     "output_type": "stream",
     "text": [
      "nums [1, 2, 3]\n",
      "rest [2, 3]\n",
      "nums [2, 3]\n",
      "rest [3]\n",
      "l [[2, 3]]\n",
      "nums [2, 3]\n",
      "rest [2]\n",
      "l [[2, 3], [3, 2]]\n",
      "l [[1, 2, 3]]\n",
      "l [[1, 2, 3], [1, 3, 2]]\n",
      "nums [1, 2, 3]\n",
      "rest [1, 3]\n",
      "nums [1, 3]\n",
      "rest [3]\n",
      "l [[1, 3]]\n",
      "nums [1, 3]\n",
      "rest [1]\n",
      "l [[1, 3], [3, 1]]\n",
      "l [[1, 2, 3], [1, 3, 2], [2, 1, 3]]\n",
      "l [[1, 2, 3], [1, 3, 2], [2, 1, 3], [2, 3, 1]]\n",
      "nums [1, 2, 3]\n",
      "rest [1, 2]\n",
      "nums [1, 2]\n",
      "rest [2]\n",
      "l [[1, 2]]\n",
      "nums [1, 2]\n",
      "rest [1]\n",
      "l [[1, 2], [2, 1]]\n",
      "l [[1, 2, 3], [1, 3, 2], [2, 1, 3], [2, 3, 1], [3, 1, 2]]\n",
      "l [[1, 2, 3], [1, 3, 2], [2, 1, 3], [2, 3, 1], [3, 1, 2], [3, 2, 1]]\n"
     ]
    },
    {
     "data": {
      "text/plain": [
       "[[1, 2, 3], [1, 3, 2], [2, 1, 3], [2, 3, 1], [3, 1, 2], [3, 2, 1]]"
      ]
     },
     "execution_count": 556,
     "metadata": {},
     "output_type": "execute_result"
    }
   ],
   "source": [
    "permute(nums)"
   ]
  },
  {
   "cell_type": "code",
   "execution_count": null,
   "metadata": {},
   "outputs": [],
   "source": []
  }
 ],
 "metadata": {
  "kernelspec": {
   "display_name": "Python 3",
   "language": "python",
   "name": "python3"
  },
  "language_info": {
   "codemirror_mode": {
    "name": "ipython",
    "version": 3
   },
   "file_extension": ".py",
   "mimetype": "text/x-python",
   "name": "python",
   "nbconvert_exporter": "python",
   "pygments_lexer": "ipython3",
   "version": "3.6.5"
  }
 },
 "nbformat": 4,
 "nbformat_minor": 2
}
