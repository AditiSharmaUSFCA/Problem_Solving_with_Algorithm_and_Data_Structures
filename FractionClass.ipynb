{
 "cells": [
  {
   "cell_type": "code",
   "execution_count": 93,
   "metadata": {
    "ExecuteTime": {
     "end_time": "2019-02-04T06:49:52.661787Z",
     "start_time": "2019-02-04T06:49:52.640964Z"
    }
   },
   "outputs": [],
   "source": [
    "class Fraction():\n",
    "    def __init__(self, numerator, denominator):\n",
    "        self.numerator = numerator\n",
    "        self.denominator = denominator\n",
    "    def __str__(self):\n",
    "        return (str(self.numerator)+\"/\"+str(self.denominator))\n",
    "    def gcd(self, m,n):\n",
    "        while m%n != 0:\n",
    "            oldm = m\n",
    "            oldn = n\n",
    "            m = oldn\n",
    "            n = oldm%oldn\n",
    "        return n\n",
    "\n",
    "    def __add__(self, other):\n",
    "        newnum = (self.numerator*other.denominator + \n",
    "                other.numerator*self.denominator)\n",
    "        newden = self.denominator*other.denominator\n",
    "        common = self.gcd(newnum,newden)\n",
    "        return Fraction(newnum//common,newden//common)\n",
    "    def __sub__(self, other):\n",
    "        newnum = (self.numerator*other.denominator - \n",
    "                other.numerator*self.denominator)\n",
    "        newden = self.denominator*other.denominator\n",
    "        common = self.gcd(newnum,newden)\n",
    "        return Fraction(newnum//common,newden//common)\n",
    "    def __mul__(self, other):\n",
    "        newnum = (self.numerator * other.numerator)\n",
    "        newden = self.denominator * other.denominator\n",
    "        common = self.gcd(newnum,newden)\n",
    "        return Fraction(newnum//common,newden//common)\n",
    "    def __eq__(self, other):\n",
    "        num1 = self.numerator * other.denominator\n",
    "        num2 = self.denominator * other.numerator\n",
    "        return num1 == num2\n",
    "    def __truediv__(self, other):\n",
    "        newnum = (self.numerator * other.denominator)\n",
    "        newden = self.denominator * other.numerator\n",
    "        common = self.gcd(newnum,newden)\n",
    "        return Fraction(newnum//common,newden//common)\n",
    "    def __lt__(self, other):\n",
    "        newnum = (self.numerator * other.denominator)\n",
    "        newden = self.denominator * other.numerator\n",
    "        return newnum < newden\n",
    "    def __gt__(self, other):\n",
    "        newnum = (self.numerator * other.denominator)\n",
    "        newden = self.denominator * other.numerator\n",
    "        return newnum > newden"
   ]
  },
  {
   "cell_type": "code",
   "execution_count": 94,
   "metadata": {
    "ExecuteTime": {
     "end_time": "2019-02-04T06:49:53.473380Z",
     "start_time": "2019-02-04T06:49:53.457354Z"
    }
   },
   "outputs": [
    {
     "name": "stdout",
     "output_type": "stream",
     "text": [
      "3/4\n"
     ]
    }
   ],
   "source": [
    "print(Fraction(3, 4))"
   ]
  },
  {
   "cell_type": "code",
   "execution_count": 95,
   "metadata": {
    "ExecuteTime": {
     "end_time": "2019-02-04T06:49:54.121145Z",
     "start_time": "2019-02-04T06:49:54.108396Z"
    }
   },
   "outputs": [
    {
     "name": "stdout",
     "output_type": "stream",
     "text": [
      "55/12\n"
     ]
    }
   ],
   "source": [
    "f1 = Fraction(5, 4)\n",
    "f2 = Fraction(10, 3)\n",
    "print(f1+f2)"
   ]
  },
  {
   "cell_type": "code",
   "execution_count": 79,
   "metadata": {
    "ExecuteTime": {
     "end_time": "2019-02-04T06:36:37.818769Z",
     "start_time": "2019-02-04T06:36:37.815492Z"
    }
   },
   "outputs": [
    {
     "name": "stdout",
     "output_type": "stream",
     "text": [
      "False\n"
     ]
    }
   ],
   "source": [
    "print(f1==f2)"
   ]
  },
  {
   "cell_type": "code",
   "execution_count": 80,
   "metadata": {
    "ExecuteTime": {
     "end_time": "2019-02-04T06:36:38.113773Z",
     "start_time": "2019-02-04T06:36:38.108858Z"
    }
   },
   "outputs": [
    {
     "data": {
      "text/plain": [
       "'50/12'"
      ]
     },
     "execution_count": 80,
     "metadata": {},
     "output_type": "execute_result"
    }
   ],
   "source": [
    "f1*f2"
   ]
  },
  {
   "cell_type": "code",
   "execution_count": 92,
   "metadata": {
    "ExecuteTime": {
     "end_time": "2019-02-04T06:46:20.910775Z",
     "start_time": "2019-02-04T06:46:20.892751Z"
    }
   },
   "outputs": [
    {
     "name": "stdout",
     "output_type": "stream",
     "text": [
      "3/8\n"
     ]
    }
   ],
   "source": [
    "print(f1/f2)"
   ]
  },
  {
   "cell_type": "code",
   "execution_count": 97,
   "metadata": {
    "ExecuteTime": {
     "end_time": "2019-02-04T06:50:05.787782Z",
     "start_time": "2019-02-04T06:50:05.777429Z"
    }
   },
   "outputs": [
    {
     "data": {
      "text/plain": [
       "False"
      ]
     },
     "execution_count": 97,
     "metadata": {},
     "output_type": "execute_result"
    }
   ],
   "source": [
    "f1>f2"
   ]
  },
  {
   "cell_type": "code",
   "execution_count": null,
   "metadata": {},
   "outputs": [],
   "source": []
  }
 ],
 "metadata": {
  "kernelspec": {
   "display_name": "Python 3",
   "language": "python",
   "name": "python3"
  },
  "language_info": {
   "codemirror_mode": {
    "name": "ipython",
    "version": 3
   },
   "file_extension": ".py",
   "mimetype": "text/x-python",
   "name": "python",
   "nbconvert_exporter": "python",
   "pygments_lexer": "ipython3",
   "version": "3.6.5"
  }
 },
 "nbformat": 4,
 "nbformat_minor": 2
}
