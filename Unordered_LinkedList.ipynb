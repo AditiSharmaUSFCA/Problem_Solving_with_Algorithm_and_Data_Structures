{
 "cells": [
  {
   "cell_type": "code",
   "execution_count": 161,
   "metadata": {
    "ExecuteTime": {
     "end_time": "2019-02-09T20:26:57.634703Z",
     "start_time": "2019-02-09T20:26:57.621152Z"
    }
   },
   "outputs": [],
   "source": [
    "class Node:\n",
    "    def __init__(self, data):\n",
    "        self.data = data\n",
    "        self.next = None\n",
    "    \n",
    "    def getData(self):\n",
    "        return self.data\n",
    "    \n",
    "    def getNext(self):\n",
    "        return self.next\n",
    "    \n",
    "    def setData(self, newdata):\n",
    "        self.data = newdata\n",
    "    \n",
    "    def setNext(self, newnext):\n",
    "        self.next = newnext"
   ]
  },
  {
   "cell_type": "code",
   "execution_count": 2,
   "metadata": {
    "ExecuteTime": {
     "end_time": "2019-02-09T16:22:50.075011Z",
     "start_time": "2019-02-09T16:22:50.050214Z"
    }
   },
   "outputs": [
    {
     "data": {
      "text/plain": [
       "93"
      ]
     },
     "execution_count": 2,
     "metadata": {},
     "output_type": "execute_result"
    }
   ],
   "source": [
    "temp = Node(93)\n",
    "temp.getData()"
   ]
  },
  {
   "cell_type": "code",
   "execution_count": 168,
   "metadata": {
    "ExecuteTime": {
     "end_time": "2019-02-09T20:29:16.734056Z",
     "start_time": "2019-02-09T20:29:16.682988Z"
    }
   },
   "outputs": [],
   "source": [
    "class Unorderedlist:\n",
    "    def __init__(self):\n",
    "        self.head = None\n",
    "        self.tail = None\n",
    "    def isEmpty():\n",
    "        return self.head == None\n",
    "    def add(self, item):\n",
    "        if self.head == None:\n",
    "            temp = Node(item)\n",
    "            temp.setNext(self.head)\n",
    "            self.head = temp\n",
    "            self.tail = self.head\n",
    "        else:\n",
    "            temp = Node(item)\n",
    "            temp.setNext(self.head)\n",
    "            self.head = temp\n",
    "    def size(self):\n",
    "        count = 0\n",
    "        temp = self.head\n",
    "        while temp != None:\n",
    "            count = count + 1\n",
    "            temp = temp.getNext()\n",
    "        return count\n",
    "    def search(self, item):\n",
    "        temp = self.head\n",
    "        while temp != None:\n",
    "            if temp.getData() == item:\n",
    "                return True\n",
    "            temp = temp.getNext()\n",
    "        return False\n",
    "    def remove(self, item):\n",
    "        previous = None\n",
    "        current = self.head\n",
    "        while current != None:\n",
    "            if current.getData() == item:\n",
    "                if previous == None:\n",
    "                    self.head = current.getNext()\n",
    "                else:\n",
    "                    previous.setNext(current.getNext())\n",
    "            previous = current\n",
    "            current = current.getNext()\n",
    "    def append(self, item):\n",
    "        current = self.head\n",
    "        flag = True\n",
    "        while flag:\n",
    "            if current.getNext() == None:\n",
    "                temp = Node(item)\n",
    "                current.setNext(temp)\n",
    "                flag = False\n",
    "            current = current.getNext()\n",
    "    def insert(self, pos, item):\n",
    "        current = self.head\n",
    "        count = 0\n",
    "        previous = None\n",
    "        flag = True\n",
    "        while flag:\n",
    "            if count == pos:\n",
    "                if previous != None:\n",
    "                    temp = Node(item)\n",
    "                    previous.setNext(temp)\n",
    "                    previous.getNext().setNext(current)\n",
    "                else:\n",
    "                    temp= Node(item)\n",
    "                    self.head = Node(temp)\n",
    "                    self.head.setNext(current)\n",
    "                flag = False\n",
    "            previous = current\n",
    "            current = current.getNext()\n",
    "            count = count + 1\n",
    "    def index(self, item):\n",
    "        current = self.head\n",
    "        count = 0\n",
    "        while current != None:\n",
    "            if current.getData() == item:\n",
    "                return count\n",
    "            count = count + 1\n",
    "            current = current.getNext()\n",
    "        return 'Item not in list'\n",
    "    \n",
    "    def pop(self, pos):\n",
    "        current = self.head\n",
    "        previous = None\n",
    "        count = 0\n",
    "        while current != None:\n",
    "            if count == pos:\n",
    "                if previous == None:\n",
    "                    self.head = current.getNext()\n",
    "                \n",
    "                else:\n",
    "                    previous.setNext(current.getNext())\n",
    "                return current.getData()\n",
    "            previous = current\n",
    "            current = current.getNext()\n",
    "            count = count + 1\n",
    "        return 'Item not in list'\n",
    "        \n",
    "    def modifiedAppend(self, item):\n",
    "        temp = Node(item)\n",
    "        self.tail.setNext(temp)\n",
    "        self.tail = self.tail.getNext()\n",
    "                "
   ]
  },
  {
   "cell_type": "code",
   "execution_count": 86,
   "metadata": {
    "ExecuteTime": {
     "end_time": "2019-02-09T19:46:03.836372Z",
     "start_time": "2019-02-09T19:46:03.829802Z"
    }
   },
   "outputs": [],
   "source": [
    "mylist = Unorderedlist()\n",
    "mylist.add(31)\n",
    "mylist.add(77)\n",
    "mylist.add(17)\n",
    "mylist.add(93)\n",
    "mylist.add(26)\n",
    "mylist.add(54)"
   ]
  },
  {
   "cell_type": "code",
   "execution_count": 124,
   "metadata": {
    "ExecuteTime": {
     "end_time": "2019-02-09T20:17:35.656751Z",
     "start_time": "2019-02-09T20:17:35.642432Z"
    }
   },
   "outputs": [
    {
     "data": {
      "text/plain": [
       "True"
      ]
     },
     "execution_count": 124,
     "metadata": {},
     "output_type": "execute_result"
    }
   ],
   "source": [
    "mylist.search(17)"
   ]
  },
  {
   "cell_type": "code",
   "execution_count": 125,
   "metadata": {
    "ExecuteTime": {
     "end_time": "2019-02-09T20:17:37.329406Z",
     "start_time": "2019-02-09T20:17:37.316851Z"
    }
   },
   "outputs": [],
   "source": [
    "mylist.remove(54)"
   ]
  },
  {
   "cell_type": "code",
   "execution_count": 126,
   "metadata": {
    "ExecuteTime": {
     "end_time": "2019-02-09T20:17:39.076751Z",
     "start_time": "2019-02-09T20:17:39.066901Z"
    }
   },
   "outputs": [
    {
     "data": {
      "text/plain": [
       "False"
      ]
     },
     "execution_count": 126,
     "metadata": {},
     "output_type": "execute_result"
    }
   ],
   "source": [
    "mylist.search(54)"
   ]
  },
  {
   "cell_type": "code",
   "execution_count": 169,
   "metadata": {
    "ExecuteTime": {
     "end_time": "2019-02-09T20:29:20.370907Z",
     "start_time": "2019-02-09T20:29:20.326310Z"
    }
   },
   "outputs": [
    {
     "name": "stdout",
     "output_type": "stream",
     "text": [
      "6\n",
      "True\n",
      "False\n",
      "True\n",
      "7\n",
      "6\n",
      "5\n",
      "4\n",
      "False\n"
     ]
    }
   ],
   "source": [
    "mylist = Unorderedlist()\n",
    "mylist.add(31)\n",
    "mylist.add(77)\n",
    "mylist.add(17)\n",
    "mylist.add(93)\n",
    "mylist.add(26)\n",
    "mylist.add(54)\n",
    "\n",
    "print(mylist.size())\n",
    "print(mylist.search(93))\n",
    "print(mylist.search(100))\n",
    "\n",
    "mylist.add(100)\n",
    "print(mylist.search(100))\n",
    "print(mylist.size())\n",
    "\n",
    "mylist.remove(54)\n",
    "print(mylist.size())\n",
    "mylist.remove(93)\n",
    "print(mylist.size())\n",
    "mylist.remove(31)\n",
    "print(mylist.size())\n",
    "print(mylist.search(93))"
   ]
  },
  {
   "cell_type": "code",
   "execution_count": 153,
   "metadata": {
    "ExecuteTime": {
     "end_time": "2019-02-09T20:24:56.228723Z",
     "start_time": "2019-02-09T20:24:56.196333Z"
    }
   },
   "outputs": [
    {
     "name": "stdout",
     "output_type": "stream",
     "text": [
      "True\n",
      "4\n",
      "26\n",
      "True\n"
     ]
    }
   ],
   "source": [
    "mylist.append(22)\n",
    "print(mylist.search(22))\n",
    "print(mylist.index(22))\n",
    "print(mylist.pop(1))\n",
    "mylist.insert(1, 1)\n",
    "print(mylist.search(1))\n"
   ]
  },
  {
   "cell_type": "code",
   "execution_count": 146,
   "metadata": {
    "ExecuteTime": {
     "end_time": "2019-02-09T20:23:36.828168Z",
     "start_time": "2019-02-09T20:23:36.821822Z"
    }
   },
   "outputs": [
    {
     "name": "stdout",
     "output_type": "stream",
     "text": [
      "True\n"
     ]
    }
   ],
   "source": [
    "mylist.insert(3, 3)\n",
    "print(mylist.search(3))\n"
   ]
  },
  {
   "cell_type": "code",
   "execution_count": 147,
   "metadata": {
    "ExecuteTime": {
     "end_time": "2019-02-09T20:23:37.619806Z",
     "start_time": "2019-02-09T20:23:37.591512Z"
    }
   },
   "outputs": [
    {
     "data": {
      "text/plain": [
       "3"
      ]
     },
     "execution_count": 147,
     "metadata": {},
     "output_type": "execute_result"
    }
   ],
   "source": [
    "mylist.index(3)"
   ]
  },
  {
   "cell_type": "code",
   "execution_count": 148,
   "metadata": {
    "ExecuteTime": {
     "end_time": "2019-02-09T20:24:00.036455Z",
     "start_time": "2019-02-09T20:24:00.015870Z"
    }
   },
   "outputs": [
    {
     "data": {
      "text/plain": [
       "6"
      ]
     },
     "execution_count": 148,
     "metadata": {},
     "output_type": "execute_result"
    }
   ],
   "source": [
    "mylist.size()"
   ]
  },
  {
   "cell_type": "code",
   "execution_count": null,
   "metadata": {},
   "outputs": [],
   "source": []
  }
 ],
 "metadata": {
  "kernelspec": {
   "display_name": "Python 3",
   "language": "python",
   "name": "python3"
  },
  "language_info": {
   "codemirror_mode": {
    "name": "ipython",
    "version": 3
   },
   "file_extension": ".py",
   "mimetype": "text/x-python",
   "name": "python",
   "nbconvert_exporter": "python",
   "pygments_lexer": "ipython3",
   "version": "3.6.5"
  }
 },
 "nbformat": 4,
 "nbformat_minor": 2
}
