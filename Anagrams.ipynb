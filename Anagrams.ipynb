{
 "cells": [
  {
   "cell_type": "code",
   "execution_count": 34,
   "metadata": {
    "ExecuteTime": {
     "end_time": "2019-02-05T21:59:47.085208Z",
     "start_time": "2019-02-05T21:59:47.076475Z"
    }
   },
   "outputs": [],
   "source": [
    "def anagram(l1, l2):\n",
    "    l1 = list(l1)\n",
    "    l2 = list(l2)\n",
    "    for i in range(len(l1)):\n",
    "        for j in range(len(l2)):\n",
    "            if l1[i] == l2[j]:\n",
    "                l1[i] = None\n",
    "                l2[j] = None\n",
    "    if set(l1) == {None} and set(l2) == {None}: return True\n",
    "    return False"
   ]
  },
  {
   "cell_type": "code",
   "execution_count": 38,
   "metadata": {
    "ExecuteTime": {
     "end_time": "2019-02-05T22:00:03.971673Z",
     "start_time": "2019-02-05T22:00:03.959064Z"
    }
   },
   "outputs": [
    {
     "name": "stdout",
     "output_type": "stream",
     "text": [
      "True\n"
     ]
    }
   ],
   "source": [
    "l1 = 'asdfghjkl'\n",
    "l2 = 'lkjhgfdsa'\n",
    "print(anagram(l1, l2))"
   ]
  },
  {
   "cell_type": "code",
   "execution_count": 43,
   "metadata": {
    "ExecuteTime": {
     "end_time": "2019-02-05T22:04:58.944052Z",
     "start_time": "2019-02-05T22:04:58.927234Z"
    }
   },
   "outputs": [],
   "source": [
    "def anagram_sort(l1, l2):\n",
    "    l1 = sorted(list(l1))\n",
    "    l2 = sorted(list(l2))\n",
    "    return l1 == l2\n"
   ]
  },
  {
   "cell_type": "code",
   "execution_count": 44,
   "metadata": {
    "ExecuteTime": {
     "end_time": "2019-02-05T22:04:59.312634Z",
     "start_time": "2019-02-05T22:04:59.292119Z"
    }
   },
   "outputs": [
    {
     "name": "stdout",
     "output_type": "stream",
     "text": [
      "True\n"
     ]
    }
   ],
   "source": [
    "l1 = 'asdfghjkl'\n",
    "l2 = 'lkjhgfdsa'\n",
    "print(anagram_sort(l1, l2))"
   ]
  },
  {
   "cell_type": "code",
   "execution_count": null,
   "metadata": {},
   "outputs": [],
   "source": []
  }
 ],
 "metadata": {
  "kernelspec": {
   "display_name": "Python 3",
   "language": "python",
   "name": "python3"
  },
  "language_info": {
   "codemirror_mode": {
    "name": "ipython",
    "version": 3
   },
   "file_extension": ".py",
   "mimetype": "text/x-python",
   "name": "python",
   "nbconvert_exporter": "python",
   "pygments_lexer": "ipython3",
   "version": "3.6.5"
  }
 },
 "nbformat": 4,
 "nbformat_minor": 2
}
