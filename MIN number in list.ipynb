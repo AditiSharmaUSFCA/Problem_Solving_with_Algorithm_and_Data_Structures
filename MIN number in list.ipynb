{
 "cells": [
  {
   "cell_type": "code",
   "execution_count": 1,
   "metadata": {
    "ExecuteTime": {
     "end_time": "2019-02-05T20:59:03.504467Z",
     "start_time": "2019-02-05T20:59:03.479374Z"
    }
   },
   "outputs": [],
   "source": [
    "def n(li):\n",
    "    mini = li[0]\n",
    "    for i in li:\n",
    "        if i < li:\n",
    "            mini = i\n",
    "    return mini"
   ]
  },
  {
   "cell_type": "code",
   "execution_count": 4,
   "metadata": {
    "ExecuteTime": {
     "end_time": "2019-02-05T21:05:34.274059Z",
     "start_time": "2019-02-05T21:05:34.261036Z"
    }
   },
   "outputs": [],
   "source": [
    "def n_sq(li):\n",
    "    mini = 0\n",
    "    for i in range(len(1, li)):\n",
    "        for j in range(i, len(li)):\n",
    "            if li[i] > li[j]:\n",
    "                mini = li[i]\n",
    "    return mini"
   ]
  },
  {
   "cell_type": "code",
   "execution_count": null,
   "metadata": {},
   "outputs": [],
   "source": []
  }
 ],
 "metadata": {
  "kernelspec": {
   "display_name": "Python 3",
   "language": "python",
   "name": "python3"
  },
  "language_info": {
   "codemirror_mode": {
    "name": "ipython",
    "version": 3
   },
   "file_extension": ".py",
   "mimetype": "text/x-python",
   "name": "python",
   "nbconvert_exporter": "python",
   "pygments_lexer": "ipython3",
   "version": "3.6.5"
  }
 },
 "nbformat": 4,
 "nbformat_minor": 2
}
