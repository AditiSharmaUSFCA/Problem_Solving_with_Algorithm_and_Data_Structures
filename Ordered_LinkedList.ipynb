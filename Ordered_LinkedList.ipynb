{
 "cells": [
  {
   "cell_type": "code",
   "execution_count": 2,
   "metadata": {
    "ExecuteTime": {
     "end_time": "2019-02-09T20:35:32.879652Z",
     "start_time": "2019-02-09T20:35:32.867851Z"
    }
   },
   "outputs": [],
   "source": [
    "class Node:\n",
    "    def __init__(self, data):\n",
    "        self.data = data\n",
    "        self.next = None\n",
    "    \n",
    "    def getData(self):\n",
    "        return self.data\n",
    "    \n",
    "    def getNext(self):\n",
    "        return self.next\n",
    "    \n",
    "    def setData(self, newdata):\n",
    "        self.data = newdata\n",
    "    \n",
    "    def setNext(self, newnext):\n",
    "        self.next = newnext"
   ]
  },
  {
   "cell_type": "code",
   "execution_count": 41,
   "metadata": {
    "ExecuteTime": {
     "end_time": "2019-02-09T21:31:26.786215Z",
     "start_time": "2019-02-09T21:31:26.765431Z"
    }
   },
   "outputs": [],
   "source": [
    "class orderedList:\n",
    "    def __init__(self):\n",
    "        self.head = None\n",
    "    def isEmpty(self):\n",
    "        return self.head == None\n",
    "\n",
    "    def size(self):\n",
    "        current = self.head\n",
    "        count = 0\n",
    "        while current != None:\n",
    "            current = current.getNext()\n",
    "            count = count + 1\n",
    "        return count\n",
    "\n",
    "    def remove(self, item):\n",
    "        current = self.head\n",
    "        previous = None\n",
    "        while current != None:\n",
    "            if current.getData() == item:\n",
    "                if previous == None:\n",
    "                    self.head = current.getNext()\n",
    "                else:\n",
    "                    previous.setNext(current.getNext())\n",
    "            current = current.getNext()\n",
    "\n",
    "    def search(self, item):\n",
    "        current = self.head\n",
    "        while current != None:\n",
    "            if current.getData() == item:\n",
    "                return True\n",
    "            elif current.getData() > item:\n",
    "                return False\n",
    "            else:\n",
    "                current = current.getNext()\n",
    "        return False\n",
    "\n",
    "    def add(self, item):\n",
    "        current = self.head\n",
    "        previous = None\n",
    "        flag = True\n",
    "        temp = Node(item)\n",
    "        if self.head == None:\n",
    "            temp.setNext(self.head)\n",
    "            self.head = temp\n",
    "        else:\n",
    "            while flag:\n",
    "                if current == None:\n",
    "                    temp.setNext(current)\n",
    "                    previous.setNext(temp)\n",
    "                    flag = False\n",
    "                elif current.getData() > item:\n",
    "                    if previous == None:\n",
    "                        temp.setNext(self.head)\n",
    "                        self.head = temp\n",
    "                    else:\n",
    "                        temp.setNext(current)\n",
    "                        previous.setNext(temp)\n",
    "                    flag = False\n",
    "                else:\n",
    "                    previous = current\n",
    "                    current = current.getNext()\n",
    "\n",
    "    def index(self, item):\n",
    "        current = self.head\n",
    "        count = 0\n",
    "        while current != None:\n",
    "            if current.getData() == item:\n",
    "                return count\n",
    "            elif current.getData() > item:\n",
    "                return 'Item not in list'\n",
    "            else:\n",
    "                current = current.getNext()\n",
    "                count = count + 1\n",
    "        return 'Item not in list'\n",
    "    \n",
    "    def pop(self, pos):\n",
    "        current = self.head\n",
    "        previous = None\n",
    "        count = 0\n",
    "        while current != None:\n",
    "            if count == pos:\n",
    "                if previous == None:\n",
    "                    self.head = current.getNext()\n",
    "                else:\n",
    "                    previous.setNext(current.getNext())\n",
    "                return current.getData()\n",
    "            current = current.getNext()\n",
    "            count = count + 1\n",
    "        return 'Item not in list'\n",
    "            "
   ]
  },
  {
   "cell_type": "code",
   "execution_count": 47,
   "metadata": {
    "ExecuteTime": {
     "end_time": "2019-02-09T21:32:27.611300Z",
     "start_time": "2019-02-09T21:32:27.593764Z"
    }
   },
   "outputs": [
    {
     "name": "stdout",
     "output_type": "stream",
     "text": [
      "True\n",
      "0\n",
      "4\n"
     ]
    }
   ],
   "source": [
    "mylist = orderedList()\n",
    "mylist.add(12)\n",
    "mylist.add(13)\n",
    "mylist.add(11)\n",
    "mylist.add(-11)\n",
    "print(mylist.search(13))\n",
    "print(mylist.index(-11))\n",
    "print(mylist.size())"
   ]
  },
  {
   "cell_type": "code",
   "execution_count": 48,
   "metadata": {
    "ExecuteTime": {
     "end_time": "2019-02-09T21:33:13.111907Z",
     "start_time": "2019-02-09T21:33:13.101671Z"
    }
   },
   "outputs": [
    {
     "name": "stdout",
     "output_type": "stream",
     "text": [
      "-11\n",
      "3\n"
     ]
    }
   ],
   "source": [
    "print(mylist.pop(0))\n",
    "print(mylist.size())"
   ]
  },
  {
   "cell_type": "code",
   "execution_count": null,
   "metadata": {},
   "outputs": [],
   "source": []
  }
 ],
 "metadata": {
  "kernelspec": {
   "display_name": "Python 3",
   "language": "python",
   "name": "python3"
  },
  "language_info": {
   "codemirror_mode": {
    "name": "ipython",
    "version": 3
   },
   "file_extension": ".py",
   "mimetype": "text/x-python",
   "name": "python",
   "nbconvert_exporter": "python",
   "pygments_lexer": "ipython3",
   "version": "3.6.5"
  }
 },
 "nbformat": 4,
 "nbformat_minor": 2
}
