{
 "cells": [
  {
   "cell_type": "code",
   "execution_count": 13,
   "metadata": {
    "ExecuteTime": {
     "end_time": "2019-03-20T08:47:55.981449Z",
     "start_time": "2019-03-20T08:47:55.961041Z"
    }
   },
   "outputs": [],
   "source": [
    "class Vertex:\n",
    "    def __init__(self, key):\n",
    "        self.id = key\n",
    "        self.connectedTo = {}\n",
    "    def addNeighbor(self, nbr, weight = 0):\n",
    "        self.connectedTo[nbr] = weight\n",
    "    def __str__(self):\n",
    "        return str(self.id) + 'connected to' + str([x.id for x in self.connectedTo])\n",
    "    def getConnections(self):\n",
    "        return self.connectedTo.keys()\n",
    "    def getId(self):\n",
    "        return self.id\n",
    "    def getWeight(self, nbr):\n",
    "        return self.connectedTo[nbr]"
   ]
  },
  {
   "cell_type": "code",
   "execution_count": 14,
   "metadata": {
    "ExecuteTime": {
     "end_time": "2019-03-20T08:47:56.280851Z",
     "start_time": "2019-03-20T08:47:56.255782Z"
    }
   },
   "outputs": [],
   "source": [
    "class Graph:\n",
    "    def __init__(self):\n",
    "        self.vertList = {}\n",
    "        self.numVertices = 0\n",
    "    def addVertices(self, key):\n",
    "        self.numVertices+=1\n",
    "        newVertex = Vertex(key)\n",
    "        self.vertList[key] = newVertex\n",
    "        return newVertex\n",
    "    def getVertex(self, n):\n",
    "        if n in vertList:\n",
    "            return self.vertList.keys()\n",
    "        else:\n",
    "            return None\n",
    "    def __contains__(self, n):\n",
    "        return n in self.vertList\n",
    "    def addEdge(self, f, t, cost=0):\n",
    "        if f not in self.vertList:\n",
    "            self.addVertices(f)\n",
    "        if t not in self.vertList:\n",
    "            self.addVertices(t)\n",
    "        self.vertList[f].addNeighbor(self.vertList[t], cost)\n",
    "    def getVertices(self):\n",
    "        return self.vertList.keys()\n",
    "    def __iter__(self):\n",
    "        return iter(self.vertList.values())"
   ]
  },
  {
   "cell_type": "code",
   "execution_count": 15,
   "metadata": {
    "ExecuteTime": {
     "end_time": "2019-03-20T08:47:56.566418Z",
     "start_time": "2019-03-20T08:47:56.555649Z"
    }
   },
   "outputs": [],
   "source": [
    " g = Graph()"
   ]
  },
  {
   "cell_type": "code",
   "execution_count": 16,
   "metadata": {
    "ExecuteTime": {
     "end_time": "2019-03-20T08:47:57.015952Z",
     "start_time": "2019-03-20T08:47:56.999137Z"
    }
   },
   "outputs": [
    {
     "name": "stdout",
     "output_type": "stream",
     "text": [
      "{0: <__main__.Vertex object at 0x7fe31844ecf8>, 1: <__main__.Vertex object at 0x7fe31844ed68>, 2: <__main__.Vertex object at 0x7fe31844ef28>, 3: <__main__.Vertex object at 0x7fe31844ef98>, 4: <__main__.Vertex object at 0x7fe31844eb70>, 5: <__main__.Vertex object at 0x7fe31844ec88>}\n",
      "( 0 , 1 )\n",
      "( 0 , 5 )\n",
      "( 1 , 2 )\n",
      "( 2 , 3 )\n",
      "( 3 , 4 )\n",
      "( 3 , 5 )\n",
      "( 4 , 0 )\n",
      "( 5 , 4 )\n",
      "( 5 , 2 )\n"
     ]
    }
   ],
   "source": [
    "for i in range(6):\n",
    "    g.addVertices(i)\n",
    "print(g.vertList)\n",
    "\n",
    "g.addEdge(0,1,5)\n",
    "g.addEdge(0,5,2)\n",
    "g.addEdge(1,2,4)\n",
    "g.addEdge(2,3,9)\n",
    "g.addEdge(3,4,7)\n",
    "g.addEdge(3,5,3)\n",
    "g.addEdge(4,0,1)\n",
    "g.addEdge(5,4,8)\n",
    "g.addEdge(5,2,1)\n",
    "for v in g:\n",
    "    for w in v.getConnections():\n",
    "        print(\"( %s , %s )\" % (v.getId(), w.getId()))\n"
   ]
  },
  {
   "cell_type": "markdown",
   "metadata": {},
   "source": [
    "# Work Ladder"
   ]
  },
  {
   "cell_type": "code",
   "execution_count": 30,
   "metadata": {
    "ExecuteTime": {
     "end_time": "2019-03-20T20:23:49.067728Z",
     "start_time": "2019-03-20T20:23:49.051127Z"
    }
   },
   "outputs": [],
   "source": [
    "def buildGraph(word):\n",
    "    d = {}\n",
    "    g = Graph()\n",
    "    file = open(word, 'r')\n",
    "    for i in file:\n",
    "        word = i[:-1]\n",
    "        for j in range(len(word)):\n",
    "            bucket = word[:j] + '_' + word[j+1:]\n",
    "            if bucket in d:\n",
    "                d[bucket].append(word)\n",
    "            else:\n",
    "                d[bubcket] = [word]\n",
    "    \n",
    "    for bucket in d.keys():\n",
    "        for word1 in d[bucket]:\n",
    "            for word2 in d[bucket]:\n",
    "                if word1 != word2:\n",
    "                    g.addEdge(word1, word2)\n",
    "    return g"
   ]
  },
  {
   "cell_type": "code",
   "execution_count": 44,
   "metadata": {
    "ExecuteTime": {
     "end_time": "2019-03-20T23:08:30.663115Z",
     "start_time": "2019-03-20T23:08:30.636166Z"
    }
   },
   "outputs": [],
   "source": [
    "def bfs(g, start):\n",
    "    start.setDistance(0)\n",
    "    start.setPred(None)\n",
    "    vertQueue = Queue()\n",
    "    vertQueue.enqueue(start)\n",
    "    while vertQueue.size() > 0:\n",
    "        currentQueue = vertQueue.dequeue()\n",
    "        for i in currentQueue.getConnections():\n",
    "            if i.getcolor() =='white':\n",
    "                i.setcolor('grey')\n",
    "                i.setDistance(currentQueue.getDistance() + 1)\n",
    "                i.setPred(currentQueue)\n",
    "                vertQueue.enqueue(i)\n",
    "        currentQueue.setcolor('black')"
   ]
  },
  {
   "cell_type": "code",
   "execution_count": 45,
   "metadata": {
    "ExecuteTime": {
     "end_time": "2019-03-20T23:11:45.963569Z",
     "start_time": "2019-03-20T23:11:45.950018Z"
    }
   },
   "outputs": [],
   "source": [
    "def bfs(g, start):\n",
    "    start.setDistance(0)\n",
    "    start.setPred('None')\n",
    "    newqueue = Queue()\n",
    "    newqueue.enqueue(start)\n",
    "    while newqueue.size() > 0:\n",
    "        current = newqueue.dequeue()\n",
    "        for i in current.getConnections():\n",
    "            if i.getColor() == 'white':\n",
    "                i.setColor('grey')\n",
    "                i.setDistance(current.getDitance()+1)\n",
    "                i.setPred(current)\n",
    "                newqueue.enqueue(i)\n",
    "        current.setColor('black')\n",
    "        "
   ]
  },
  {
   "cell_type": "markdown",
   "metadata": {},
   "source": [
    "# Knight's Tour"
   ]
  },
  {
   "cell_type": "code",
   "execution_count": 46,
   "metadata": {
    "ExecuteTime": {
     "end_time": "2019-03-21T00:07:36.275253Z",
     "start_time": "2019-03-21T00:07:36.263397Z"
    }
   },
   "outputs": [],
   "source": [
    "def knighttour(bdsize):\n",
    "    ktgraph = Graph()\n",
    "    for row in range(bdsize):\n",
    "        for col in range(bdsize):\n",
    "            nodeId = postoNodeID(row, col, bdsize)\n",
    "            newPos = legalMoves(row, col, bdsize)\n",
    "            for i in newPos:\n",
    "                newid = postoNodeID(i[0], i[1], bdsize)\n",
    "                ktgraph.addedge(nodeId, newid)\n",
    "    return ktgraph"
   ]
  },
  {
   "cell_type": "code",
   "execution_count": 47,
   "metadata": {
    "ExecuteTime": {
     "end_time": "2019-03-21T00:08:12.327994Z",
     "start_time": "2019-03-21T00:08:12.318179Z"
    }
   },
   "outputs": [],
   "source": [
    "def postoNodeID(row, col, bdsize):\n",
    "    return row*bdsize + col"
   ]
  },
  {
   "cell_type": "code",
   "execution_count": 48,
   "metadata": {
    "ExecuteTime": {
     "end_time": "2019-03-21T00:31:36.560292Z",
     "start_time": "2019-03-21T00:31:36.548181Z"
    }
   },
   "outputs": [],
   "source": [
    "def legalMoves(row, col, bdsize):\n",
    "    newmoves = []\n",
    "    offset = [(-2,-1), (2,1), (-2,1), (2,-1), \n",
    "             (-1, -2), (-1, 2), (1, -2), (1, 2)]\n",
    "    for i in offset:\n",
    "        newx = i[0] + row\n",
    "        newy = i[1] + col\n",
    "        if legalcord(newx, bdsize) and legalcord(newy, bdsize):\n",
    "            newmoves.append((newx, newy))\n",
    "    return newmoves\n"
   ]
  },
  {
   "cell_type": "code",
   "execution_count": 49,
   "metadata": {
    "ExecuteTime": {
     "end_time": "2019-03-21T00:36:26.691040Z",
     "start_time": "2019-03-21T00:36:26.658955Z"
    }
   },
   "outputs": [],
   "source": [
    "def legalcord(x, bdsize):\n",
    "    if x>=0 and x<=bdsize:\n",
    "        return True\n",
    "    return False"
   ]
  },
  {
   "cell_type": "code",
   "execution_count": 50,
   "metadata": {
    "ExecuteTime": {
     "end_time": "2019-03-21T01:12:29.401482Z",
     "start_time": "2019-03-21T01:12:29.382932Z"
    }
   },
   "outputs": [],
   "source": [
    "def knightTour(n, path, u, limit):\n",
    "    u.setColor('grey')\n",
    "    path.append(u)\n",
    "    if n<limit:\n",
    "        return True\n",
    "    nbrLimit = list(u.getConnection())\n",
    "    i = 0\n",
    "    done = False\n",
    "    while i < len(nbrLimit) and not done:\n",
    "        if nbrLimit[i].getColor() == 'white':\n",
    "            done = knightTour(n+1, path, nbrLimit[i], limit)\n",
    "        i+=1\n",
    "    if not done:\n",
    "        path.pop()\n",
    "        u.setcolor('white')\n",
    "    return done"
   ]
  },
  {
   "cell_type": "markdown",
   "metadata": {},
   "source": [
    "# Depth First Search"
   ]
  },
  {
   "cell_type": "code",
   "execution_count": null,
   "metadata": {},
   "outputs": [],
   "source": []
  }
 ],
 "metadata": {
  "kernelspec": {
   "display_name": "Python 3",
   "language": "python",
   "name": "python3"
  },
  "language_info": {
   "codemirror_mode": {
    "name": "ipython",
    "version": 3
   },
   "file_extension": ".py",
   "mimetype": "text/x-python",
   "name": "python",
   "nbconvert_exporter": "python",
   "pygments_lexer": "ipython3",
   "version": "3.6.5"
  }
 },
 "nbformat": 4,
 "nbformat_minor": 2
}
