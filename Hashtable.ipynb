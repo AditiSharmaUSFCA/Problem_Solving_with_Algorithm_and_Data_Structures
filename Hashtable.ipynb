{
 "cells": [
  {
   "cell_type": "code",
   "execution_count": 50,
   "metadata": {
    "ExecuteTime": {
     "end_time": "2019-02-11T02:37:13.080599Z",
     "start_time": "2019-02-11T02:37:13.070250Z"
    }
   },
   "outputs": [],
   "source": [
    "class Hashtable:\n",
    "    def __init__(self):\n",
    "        self.size = 11\n",
    "        self.keys = [None] * self.size\n",
    "        self.data = [None] * self.size\n",
    "    \n",
    "    def put(self, key, data):\n",
    "        hashvalue = self.hashfunction(key, len(self.keys))\n",
    "        if self.keys[hashvalue] == None:\n",
    "            self.keys[hashvalue] = key\n",
    "            self.data[hashvalue] = data\n",
    "        elif self.keys[hashvalue] == key:\n",
    "            self.data[hashvalue] = data\n",
    "        else: \n",
    "            nextslot = self.rehash(hashvalue, len(self.keys))\n",
    "            while self.keys[nextslot] != None and self.keys[nextslot] != key:\n",
    "                \n",
    "                nextslot = self.rehash(nextslot, len(self.keys))\n",
    "            \n",
    "            if self.keys[nextslot] == None:\n",
    "                self.keys[nextslot] = key\n",
    "                self.data[nextslot] = data\n",
    "            elif self.keys[nextslot] == key:\n",
    "                self.data[nextslot] = data\n",
    "                \n",
    "    def hashfunction(self, key, length):\n",
    "        return key % length\n",
    "    \n",
    "    def rehash(self, oldvalue, length):\n",
    "        return (oldvalue+1)%length\n",
    "    \n",
    "    def get(self, key):\n",
    "        hashvalue = self.hashfunction(key, self.size)\n",
    "        if self.keys[hashvalue] == key:\n",
    "            return self.data[hashvalue]\n",
    "        else:\n",
    "            nextslot = self.rehash(hashvalue, self.size)\n",
    "            while self.keys[nextslot] != key:\n",
    "                nextslot = self.rehash(nextslot, self.size)\n",
    "            return self.data[nextslot]\n",
    "    \n",
    "    def __getitem__(self, key):\n",
    "        return self.get(key)\n",
    "    def __setitem__(self, key, data):\n",
    "        return self.put(key, data)"
   ]
  },
  {
   "cell_type": "code",
   "execution_count": 51,
   "metadata": {
    "ExecuteTime": {
     "end_time": "2019-02-11T02:37:13.519885Z",
     "start_time": "2019-02-11T02:37:13.517105Z"
    }
   },
   "outputs": [],
   "source": [
    "H=Hashtable()\n",
    "H[54]=\"cat\"\n",
    "H[26]=\"dog\"\n",
    "H[93]=\"lion\"\n",
    "H[17]=\"tiger\"\n",
    "H[77]=\"bird\"\n",
    "H[31]=\"cow\"\n",
    "H[44]=\"goat\"\n",
    "H[55]=\"pig\"\n",
    "H[20]=\"chicken\""
   ]
  },
  {
   "cell_type": "code",
   "execution_count": 52,
   "metadata": {
    "ExecuteTime": {
     "end_time": "2019-02-11T02:37:13.880131Z",
     "start_time": "2019-02-11T02:37:13.864546Z"
    }
   },
   "outputs": [
    {
     "data": {
      "text/plain": [
       "[77, 44, 55, 20, 26, 93, 17, None, None, 31, 54]"
      ]
     },
     "execution_count": 52,
     "metadata": {},
     "output_type": "execute_result"
    }
   ],
   "source": [
    "H.keys"
   ]
  },
  {
   "cell_type": "code",
   "execution_count": 53,
   "metadata": {
    "ExecuteTime": {
     "end_time": "2019-02-11T02:37:14.211936Z",
     "start_time": "2019-02-11T02:37:14.191688Z"
    }
   },
   "outputs": [
    {
     "data": {
      "text/plain": [
       "['bird',\n",
       " 'goat',\n",
       " 'pig',\n",
       " 'chicken',\n",
       " 'dog',\n",
       " 'lion',\n",
       " 'tiger',\n",
       " None,\n",
       " None,\n",
       " 'cow',\n",
       " 'cat']"
      ]
     },
     "execution_count": 53,
     "metadata": {},
     "output_type": "execute_result"
    }
   ],
   "source": [
    "H.data"
   ]
  },
  {
   "cell_type": "code",
   "execution_count": 54,
   "metadata": {
    "ExecuteTime": {
     "end_time": "2019-02-11T02:37:14.606986Z",
     "start_time": "2019-02-11T02:37:14.596156Z"
    }
   },
   "outputs": [
    {
     "data": {
      "text/plain": [
       "'chicken'"
      ]
     },
     "execution_count": 54,
     "metadata": {},
     "output_type": "execute_result"
    }
   ],
   "source": [
    "H[20]"
   ]
  },
  {
   "cell_type": "code",
   "execution_count": 55,
   "metadata": {
    "ExecuteTime": {
     "end_time": "2019-02-11T02:37:20.602948Z",
     "start_time": "2019-02-11T02:37:20.586883Z"
    }
   },
   "outputs": [
    {
     "data": {
      "text/plain": [
       "'tiger'"
      ]
     },
     "execution_count": 55,
     "metadata": {},
     "output_type": "execute_result"
    }
   ],
   "source": [
    "H[17]"
   ]
  },
  {
   "cell_type": "code",
   "execution_count": 56,
   "metadata": {
    "ExecuteTime": {
     "end_time": "2019-02-11T02:37:29.562025Z",
     "start_time": "2019-02-11T02:37:29.536968Z"
    }
   },
   "outputs": [
    {
     "data": {
      "text/plain": [
       "'duck'"
      ]
     },
     "execution_count": 56,
     "metadata": {},
     "output_type": "execute_result"
    }
   ],
   "source": [
    "H[20]='duck'\n",
    "H[20]"
   ]
  },
  {
   "cell_type": "code",
   "execution_count": 57,
   "metadata": {
    "ExecuteTime": {
     "end_time": "2019-02-11T02:37:33.601701Z",
     "start_time": "2019-02-11T02:37:33.585998Z"
    }
   },
   "outputs": [
    {
     "data": {
      "text/plain": [
       "['bird',\n",
       " 'goat',\n",
       " 'pig',\n",
       " 'duck',\n",
       " 'dog',\n",
       " 'lion',\n",
       " 'tiger',\n",
       " None,\n",
       " None,\n",
       " 'cow',\n",
       " 'cat']"
      ]
     },
     "execution_count": 57,
     "metadata": {},
     "output_type": "execute_result"
    }
   ],
   "source": [
    "H.data"
   ]
  },
  {
   "cell_type": "code",
   "execution_count": null,
   "metadata": {},
   "outputs": [],
   "source": []
  }
 ],
 "metadata": {
  "kernelspec": {
   "display_name": "Python 3",
   "language": "python",
   "name": "python3"
  },
  "language_info": {
   "codemirror_mode": {
    "name": "ipython",
    "version": 3
   },
   "file_extension": ".py",
   "mimetype": "text/x-python",
   "name": "python",
   "nbconvert_exporter": "python",
   "pygments_lexer": "ipython3",
   "version": "3.6.5"
  }
 },
 "nbformat": 4,
 "nbformat_minor": 2
}
