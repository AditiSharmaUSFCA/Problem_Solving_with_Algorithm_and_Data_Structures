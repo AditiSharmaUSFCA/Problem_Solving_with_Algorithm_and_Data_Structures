{
 "cells": [
  {
   "cell_type": "code",
   "execution_count": 5,
   "metadata": {
    "ExecuteTime": {
     "end_time": "2019-02-10T02:14:41.955736Z",
     "start_time": "2019-02-10T02:14:41.928972Z"
    }
   },
   "outputs": [],
   "source": [
    "def toStr(num, base):\n",
    "    convertString = '0123456789abcdef'\n",
    "    if num < base:\n",
    "        return convertString[num]\n",
    "    return toStr(num//base, base) + convertString[num%base]\n",
    "    "
   ]
  },
  {
   "cell_type": "code",
   "execution_count": 6,
   "metadata": {
    "ExecuteTime": {
     "end_time": "2019-02-10T02:14:42.256697Z",
     "start_time": "2019-02-10T02:14:42.247998Z"
    }
   },
   "outputs": [
    {
     "name": "stdout",
     "output_type": "stream",
     "text": [
      "5ad\n"
     ]
    }
   ],
   "source": [
    "print(toStr(1453,16))"
   ]
  },
  {
   "cell_type": "code",
   "execution_count": 15,
   "metadata": {
    "ExecuteTime": {
     "end_time": "2019-02-10T02:43:58.294192Z",
     "start_time": "2019-02-10T02:43:58.284695Z"
    }
   },
   "outputs": [],
   "source": [
    "def reverse(mystr):\n",
    "    if len(mystr) >= 0: return mystr\n",
    "    return reverse(mystr[1:]) + mystr[0]"
   ]
  },
  {
   "cell_type": "code",
   "execution_count": 16,
   "metadata": {
    "ExecuteTime": {
     "end_time": "2019-02-10T02:43:58.659308Z",
     "start_time": "2019-02-10T02:43:58.650817Z"
    }
   },
   "outputs": [
    {
     "name": "stdout",
     "output_type": "stream",
     "text": [
      "hello\n",
      "l\n",
      "follow\n",
      "\n"
     ]
    }
   ],
   "source": [
    "print(reverse('hello'))\n",
    "print(reverse('l'))\n",
    "print(reverse('follow'))\n",
    "print(reverse(''))"
   ]
  },
  {
   "cell_type": "code",
   "execution_count": 36,
   "metadata": {
    "ExecuteTime": {
     "end_time": "2019-02-10T03:15:11.977440Z",
     "start_time": "2019-02-10T03:15:11.960393Z"
    }
   },
   "outputs": [],
   "source": [
    "def palindrome(original):\n",
    "    if len(original) < 2: return True\n",
    "    elif original[0] not in \")*^%{}[]'- @#%^&(_=+:;,<.>/?.\" and original[-1] \\\n",
    "    not in \")*^%{}[]'- @#%^&(_=+:;,<.>/?.\":\n",
    "        if original[0].lower() != original[-1].lower(): return False\n",
    "    else:\n",
    "        return palindrome(original[1:])\n",
    "    return palindrome(original[1:-1])\n",
    "    \n",
    "    "
   ]
  },
  {
   "cell_type": "code",
   "execution_count": 38,
   "metadata": {
    "ExecuteTime": {
     "end_time": "2019-02-10T03:15:19.269305Z",
     "start_time": "2019-02-10T03:15:19.257241Z"
    }
   },
   "outputs": [
    {
     "name": "stdout",
     "output_type": "stream",
     "text": [
      "True\n",
      "True\n",
      "True\n",
      "True\n",
      "True\n",
      "False\n"
     ]
    }
   ],
   "source": [
    "print(palindrome('aibohphobia'))\n",
    "print(palindrome('Live not on evil'))\n",
    "print(palindrome('Reviled did I live, said I, as evil I did deliver'))\n",
    "print(palindrome('Go hang a salami; I’m a lasagna hog.'))\n",
    "print(palindrome('Able was I ere I saw Elba'))\n",
    "print(palindrome('Kanakanak - a town in Alaska'))\n"
   ]
  },
  {
   "cell_type": "code",
   "execution_count": 35,
   "metadata": {
    "ExecuteTime": {
     "end_time": "2019-02-10T03:14:08.302691Z",
     "start_time": "2019-02-10T03:14:08.283333Z"
    }
   },
   "outputs": [
    {
     "data": {
      "text/plain": [
       "'l'"
      ]
     },
     "execution_count": 35,
     "metadata": {},
     "output_type": "execute_result"
    }
   ],
   "source": [
    "'L'.lower()\n"
   ]
  },
  {
   "cell_type": "code",
   "execution_count": 42,
   "metadata": {
    "ExecuteTime": {
     "end_time": "2019-02-10T16:43:30.182379Z",
     "start_time": "2019-02-10T16:43:30.172497Z"
    }
   },
   "outputs": [],
   "source": [
    "def towerofhanoi(height, fromtower, totower, withtower):\n",
    "    if height >= 1:\n",
    "        towerofhanoi(height-1, fromtower, withtower, totower)\n",
    "        print('Moving disk from', fromtower, 'to', totower)\n",
    "        towerofhanoi(height-1, fromtower, totower, withtower)"
   ]
  },
  {
   "cell_type": "code",
   "execution_count": 43,
   "metadata": {
    "ExecuteTime": {
     "end_time": "2019-02-10T16:43:30.947837Z",
     "start_time": "2019-02-10T16:43:30.920572Z"
    }
   },
   "outputs": [
    {
     "name": "stdout",
     "output_type": "stream",
     "text": [
      "Moving disk from A to B\n",
      "Moving disk from A to C\n",
      "Moving disk from A to C\n",
      "Moving disk from A to B\n",
      "Moving disk from A to C\n",
      "Moving disk from A to B\n",
      "Moving disk from A to B\n"
     ]
    }
   ],
   "source": [
    "towerofhanoi(3, 'A', 'B', 'C')"
   ]
  },
  {
   "cell_type": "code",
   "execution_count": null,
   "metadata": {},
   "outputs": [],
   "source": [
    "class turtle:\n",
    "    def __init__(self, data):\n",
    "        self.maze = data"
   ]
  }
 ],
 "metadata": {
  "kernelspec": {
   "display_name": "Python 3",
   "language": "python",
   "name": "python3"
  },
  "language_info": {
   "codemirror_mode": {
    "name": "ipython",
    "version": 3
   },
   "file_extension": ".py",
   "mimetype": "text/x-python",
   "name": "python",
   "nbconvert_exporter": "python",
   "pygments_lexer": "ipython3",
   "version": "3.6.5"
  }
 },
 "nbformat": 4,
 "nbformat_minor": 2
}
