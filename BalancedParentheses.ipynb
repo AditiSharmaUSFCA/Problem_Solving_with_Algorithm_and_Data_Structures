{
 "cells": [
  {
   "cell_type": "code",
   "execution_count": 1,
   "metadata": {
    "ExecuteTime": {
     "end_time": "2019-02-09T01:46:07.849579Z",
     "start_time": "2019-02-09T01:46:07.837622Z"
    }
   },
   "outputs": [],
   "source": [
    "class Stack:\n",
    "    def __init__(self):\n",
    "        self.stack = []\n",
    "    def push(self, item):\n",
    "        return self.stack.append(item)\n",
    "    def pop(self):\n",
    "        return self.stack.pop()\n",
    "    def peek(self):\n",
    "        return self.stack[-1]\n",
    "    def isEmpty(self):\n",
    "        return len(self.stack) == 0\n",
    "    def size(self):\n",
    "        return len(self.stack)\n",
    "    "
   ]
  },
  {
   "cell_type": "code",
   "execution_count": 4,
   "metadata": {
    "ExecuteTime": {
     "end_time": "2019-02-08T22:12:36.821588Z",
     "start_time": "2019-02-08T22:12:36.812925Z"
    }
   },
   "outputs": [],
   "source": [
    "def parentheses(mystr):\n",
    "    s = list(mystr)\n",
    "    stack = []\n",
    "    for i in s:\n",
    "        if i == \"(\":\n",
    "            stack.append(i)\n",
    "        else:\n",
    "            try:\n",
    "                stack.pop()\n",
    "            except: return 'Not Balalnced'\n",
    "    if len(stack) != 0:\n",
    "        return 'Not Balanced'\n",
    "    return 'Balanced'"
   ]
  },
  {
   "cell_type": "code",
   "execution_count": 7,
   "metadata": {
    "ExecuteTime": {
     "end_time": "2019-02-08T22:12:43.279986Z",
     "start_time": "2019-02-08T22:12:43.259949Z"
    }
   },
   "outputs": [
    {
     "data": {
      "text/plain": [
       "'Not Balalnced'"
      ]
     },
     "execution_count": 7,
     "metadata": {},
     "output_type": "execute_result"
    }
   ],
   "source": [
    "mystr = '()())()'\n",
    "parentheses(mystr)"
   ]
  },
  {
   "cell_type": "code",
   "execution_count": 4,
   "metadata": {
    "ExecuteTime": {
     "end_time": "2019-02-09T01:49:52.531225Z",
     "start_time": "2019-02-09T01:49:52.519023Z"
    }
   },
   "outputs": [
    {
     "name": "stdout",
     "output_type": "stream",
     "text": [
      "True\n",
      "False\n"
     ]
    }
   ],
   "source": [
    "def parChecker(symbolString):\n",
    "    s = Stack()\n",
    "    balanced = True\n",
    "    index = 0\n",
    "    while index < len(symbolString) and balanced:\n",
    "        symbol = symbolString[index]\n",
    "        if symbol in \"([{\":\n",
    "            s.push(symbol)\n",
    "        else:\n",
    "            if s.isEmpty():\n",
    "                balanced = False\n",
    "            else:\n",
    "                top = s.pop()\n",
    "                if not matches(top,symbol):\n",
    "                       balanced = False\n",
    "        index = index + 1\n",
    "    if balanced and s.isEmpty():\n",
    "        return True\n",
    "    else:\n",
    "        return False\n",
    "\n",
    "def matches(open,close):\n",
    "    opens = \"([{\"\n",
    "    closers = \")]}\"\n",
    "    return opens.index(open) == closers.index(close)\n",
    "\n",
    "\n",
    "print(parChecker('{{([][])}()}'))\n",
    "print(parChecker('[{()]'))\n"
   ]
  },
  {
   "cell_type": "code",
   "execution_count": 5,
   "metadata": {
    "ExecuteTime": {
     "end_time": "2019-02-09T01:55:39.365280Z",
     "start_time": "2019-02-09T01:55:39.355591Z"
    }
   },
   "outputs": [],
   "source": [
    "def parentheses(mystr):\n",
    "    s = Stack()\n",
    "    string = list(mystr)\n",
    "    for i in string:\n",
    "        if i in '{([':\n",
    "            s.push(i)\n",
    "        else:\n",
    "            last = s.pop()\n",
    "            if i == '}':\n",
    "                if last != '{': return False\n",
    "            elif i == ')':\n",
    "                if last != '(': return False\n",
    "            elif i == ']':\n",
    "                if last != '[': return False\n",
    "    return True"
   ]
  },
  {
   "cell_type": "code",
   "execution_count": 6,
   "metadata": {
    "ExecuteTime": {
     "end_time": "2019-02-09T01:55:55.324175Z",
     "start_time": "2019-02-09T01:55:55.308000Z"
    }
   },
   "outputs": [
    {
     "data": {
      "text/plain": [
       "True"
      ]
     },
     "execution_count": 6,
     "metadata": {},
     "output_type": "execute_result"
    }
   ],
   "source": [
    "parentheses('{{([][])}()}')"
   ]
  },
  {
   "cell_type": "code",
   "execution_count": 7,
   "metadata": {
    "ExecuteTime": {
     "end_time": "2019-02-09T01:56:16.956845Z",
     "start_time": "2019-02-09T01:56:16.946577Z"
    }
   },
   "outputs": [
    {
     "data": {
      "text/plain": [
       "False"
      ]
     },
     "execution_count": 7,
     "metadata": {},
     "output_type": "execute_result"
    }
   ],
   "source": [
    "parentheses('[{()]')"
   ]
  },
  {
   "cell_type": "code",
   "execution_count": null,
   "metadata": {},
   "outputs": [],
   "source": []
  }
 ],
 "metadata": {
  "kernelspec": {
   "display_name": "Python 3",
   "language": "python",
   "name": "python3"
  },
  "language_info": {
   "codemirror_mode": {
    "name": "ipython",
    "version": 3
   },
   "file_extension": ".py",
   "mimetype": "text/x-python",
   "name": "python",
   "nbconvert_exporter": "python",
   "pygments_lexer": "ipython3",
   "version": "3.6.5"
  }
 },
 "nbformat": 4,
 "nbformat_minor": 2
}
