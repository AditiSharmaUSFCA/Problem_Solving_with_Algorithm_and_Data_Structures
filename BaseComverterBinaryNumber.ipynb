{
 "cells": [
  {
   "cell_type": "code",
   "execution_count": 3,
   "metadata": {
    "ExecuteTime": {
     "end_time": "2019-02-09T02:39:55.779295Z",
     "start_time": "2019-02-09T02:39:55.763572Z"
    }
   },
   "outputs": [],
   "source": [
    "class Stack:\n",
    "    def __init__(self):\n",
    "        self.stack = []\n",
    "    def pop(self):\n",
    "        return self.stack.pop()\n",
    "    def push(self, item):\n",
    "        return self.stack.append(item)\n",
    "    def length(self):\n",
    "        return len(self.stack)\n",
    "    def isEmpty(self):\n",
    "        return len(self.stack) == 0"
   ]
  },
  {
   "cell_type": "code",
   "execution_count": 6,
   "metadata": {
    "ExecuteTime": {
     "end_time": "2019-02-09T02:40:03.375086Z",
     "start_time": "2019-02-09T02:40:03.356458Z"
    }
   },
   "outputs": [],
   "source": [
    "def binary(number):\n",
    "    s = Stack()\n",
    "    while number != 0:\n",
    "        remainder = number % 2\n",
    "        s.push(remainder)\n",
    "        number = number//2\n",
    "    binary_num = 0\n",
    "    while not s.isEmpty():\n",
    "        r = s.pop()\n",
    "        binary_num = binary_num + r * 10**(s.length())\n",
    "    return binary_num\n",
    "        \n",
    "        "
   ]
  },
  {
   "cell_type": "code",
   "execution_count": 7,
   "metadata": {
    "ExecuteTime": {
     "end_time": "2019-02-09T02:40:03.680265Z",
     "start_time": "2019-02-09T02:40:03.666614Z"
    }
   },
   "outputs": [
    {
     "data": {
      "text/plain": [
       "101010"
      ]
     },
     "execution_count": 7,
     "metadata": {},
     "output_type": "execute_result"
    }
   ],
   "source": [
    "binary(42)"
   ]
  },
  {
   "cell_type": "code",
   "execution_count": 8,
   "metadata": {
    "ExecuteTime": {
     "end_time": "2019-02-09T02:40:15.639490Z",
     "start_time": "2019-02-09T02:40:15.633470Z"
    }
   },
   "outputs": [],
   "source": [
    "def baseconverter(number, base):\n",
    "    s = Stack()\n",
    "    while number:\n",
    "        remainder = number%base\n",
    "        number = number//base\n",
    "        s.push(remainder)\n",
    "    num = 0\n",
    "    while not s.isEmpty():\n",
    "        base_num = s.pop()\n",
    "        num = num + base_num * 10**(s.length())\n",
    "    return num"
   ]
  },
  {
   "cell_type": "code",
   "execution_count": 10,
   "metadata": {
    "ExecuteTime": {
     "end_time": "2019-02-09T02:40:27.854461Z",
     "start_time": "2019-02-09T02:40:27.838263Z"
    }
   },
   "outputs": [
    {
     "data": {
      "text/plain": [
       "101010"
      ]
     },
     "execution_count": 10,
     "metadata": {},
     "output_type": "execute_result"
    }
   ],
   "source": [
    "baseconverter(42, 2)"
   ]
  },
  {
   "cell_type": "code",
   "execution_count": 12,
   "metadata": {
    "ExecuteTime": {
     "end_time": "2019-02-09T02:40:51.390309Z",
     "start_time": "2019-02-09T02:40:51.380416Z"
    }
   },
   "outputs": [
    {
     "name": "stdout",
     "output_type": "stream",
     "text": [
      "11001\n"
     ]
    }
   ],
   "source": [
    "print(baseconverter(25,2))"
   ]
  },
  {
   "cell_type": "code",
   "execution_count": 38,
   "metadata": {
    "ExecuteTime": {
     "end_time": "2019-02-09T03:13:50.094902Z",
     "start_time": "2019-02-09T03:13:50.072432Z"
    }
   },
   "outputs": [],
   "source": [
    "def hexadecimal(number, base = 16):\n",
    "    s = Stack()\n",
    "    while number:\n",
    "        remainder = number % base\n",
    "        number = number // base\n",
    "        s.push(remainder)\n",
    "    num = ''\n",
    "    while not s.isEmpty():\n",
    "        remainder = s.pop()\n",
    "        if remainder > 9:\n",
    "            num = num + chr(96+remainder-9)\n",
    "        else:\n",
    "            num = num + str(remainder)\n",
    "    return num\n",
    "        "
   ]
  },
  {
   "cell_type": "code",
   "execution_count": 40,
   "metadata": {
    "ExecuteTime": {
     "end_time": "2019-02-09T03:14:00.229880Z",
     "start_time": "2019-02-09T03:14:00.210979Z"
    }
   },
   "outputs": [
    {
     "name": "stdout",
     "output_type": "stream",
     "text": [
      "a0\n"
     ]
    }
   ],
   "source": [
    "print(hexadecimal(240, 24))"
   ]
  },
  {
   "cell_type": "code",
   "execution_count": null,
   "metadata": {},
   "outputs": [],
   "source": []
  }
 ],
 "metadata": {
  "kernelspec": {
   "display_name": "Python 3",
   "language": "python",
   "name": "python3"
  },
  "language_info": {
   "codemirror_mode": {
    "name": "ipython",
    "version": 3
   },
   "file_extension": ".py",
   "mimetype": "text/x-python",
   "name": "python",
   "nbconvert_exporter": "python",
   "pygments_lexer": "ipython3",
   "version": "3.6.5"
  }
 },
 "nbformat": 4,
 "nbformat_minor": 2
}
